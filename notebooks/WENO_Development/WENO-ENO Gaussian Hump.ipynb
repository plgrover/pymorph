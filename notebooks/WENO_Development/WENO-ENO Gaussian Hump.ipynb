{
 "cells": [
  {
   "cell_type": "code",
   "execution_count": 1,
   "metadata": {
    "collapsed": false
   },
   "outputs": [],
   "source": [
    "import os,sys\n",
    "import csv\n",
    "import copy\n",
    "import math\n",
    "\n",
    "from IPython.display import Math\n",
    "from IPython.display import Latex\n",
    "import numpy as np\n",
    "import matplotlib.pyplot as plt\n",
    "import matplotlib.pylab as pylab\n",
    "from clawpack import pyclaw\n",
    "\n",
    "from scipy.integrate import simps, trapz\n",
    "\n",
    "sys.path.append(\"/home/pgrover/Dropbox/PhD/Morphodynamic_Model/pymorph\")\n",
    "from weno import WENO,ENO,get_exact_solution, get_left_flux,get_right_flux\n",
    "from weno import get_stencil\n",
    "\n",
    "%matplotlib inline\n",
    "%load_ext autoreload\n",
    "%autoreload 2"
   ]
  },
  {
   "cell_type": "markdown",
   "metadata": {},
   "source": [
    "The following is based on the Gaussian Hump simulation described in Long et al. (2008)"
   ]
  },
  {
   "cell_type": "markdown",
   "metadata": {},
   "source": [
    "## Analytical Solution\n",
    "\n",
    "Forthe Gaussian Hump combined with the power function relating the current speed and the transport rate, an analytical solution exists. This will be used to check against the calculated value. See the description in both the Long et al (2008) and the Johnson and Zyserman (2002) papers (see section 4.1 - Hump in a channel)."
   ]
  },
  {
   "cell_type": "code",
   "execution_count": 3,
   "metadata": {
    "collapsed": false
   },
   "outputs": [
    {
     "name": "stdout",
     "output_type": "stream",
     "text": [
      "Grid dx = 1.0\n"
     ]
    }
   ],
   "source": [
    "a=0.001\n",
    "b=3.0\n",
    "Q=10.0\n",
    "nP=0.4\n",
    "xcentre = 150.  # Centre of hum\n",
    "h0 = 6.0        # Water depth\n",
    "s= 0.0            # Datum\n",
    "beta = 0.01\n",
    "\n",
    "nx=300\n",
    "x = pyclaw.Dimension(0.0,300.0,nx,name='x')\n",
    "domain = pyclaw.Domain(x)\n",
    "state = pyclaw.State(domain,1)\n",
    "xc = state.grid.x.centers\n",
    "dx = state.grid.delta[0]\n",
    "print('Grid dx = {0}'.format(dx))\n",
    "\n",
    "z = np.zeros(nx)\n",
    "# Eq 66\n",
    "z = np.array([(-h0 + 2.0*math.exp(-beta*(xp-xcentre)**2)) for xp in xc])\n",
    "zc = z.copy()\n",
    "\n"
   ]
  },
  {
   "cell_type": "code",
   "execution_count": 6,
   "metadata": {
    "collapsed": false
   },
   "outputs": [],
   "source": [
    "xb_600, zb_600 = get_exact_solution(zc,xc, nP,s,a,b,Q,h0,2000)"
   ]
  },
  {
   "cell_type": "code",
   "execution_count": 7,
   "metadata": {
    "collapsed": false
   },
   "outputs": [
    {
     "data": {
      "text/plain": [
       "<matplotlib.legend.Legend at 0x7fab3dd50790>"
      ]
     },
     "execution_count": 7,
     "metadata": {},
     "output_type": "execute_result"
    },
    {
     "data": {
      "image/png": "[encoded data removed]",
      "text/plain": [
       "<matplotlib.figure.Figure at 0x7fab3df19a50>"
      ]
     },
     "metadata": {},
     "output_type": "display_data"
    }
   ],
   "source": [
    "plt.plot(xc,zc,'r',label='t=0')\n",
    "plt.plot(xb_600,zb_600,label='t=600s')\n",
    "plt.ylim([-6,-3.5])\n",
    "plt.xlim([120,210])\n",
    "plt.legend()"
   ]
  },
  {
   "cell_type": "code",
   "execution_count": 64,
   "metadata": {
    "collapsed": false
   },
   "outputs": [
    {
     "name": "stdout",
     "output_type": "stream",
     "text": [
      "Grid dx = 1.0\n"
     ]
    }
   ],
   "source": [
    "nx=300\n",
    "x = pyclaw.Dimension(0.0,300.0,nx,name='x')\n",
    "domain = pyclaw.Domain(x)\n",
    "state = pyclaw.State(domain,1)\n",
    "xc = state.grid.x.centers\n",
    "dx = state.grid.delta[0]\n",
    "print('Grid dx = {0}'.format(dx))\n",
    "\n",
    "\n",
    "z = np.zeros(nx)\n",
    "# Eq 66\n",
    "z = np.array([(-h0 + 2.0*math.exp(-beta*(xp-xcentre)**2)) for xp in xc])\n",
    "zc = z.copy()\n",
    "\n",
    "# Eq 59\n",
    "h = np.zeros(nx)\n",
    "h = s - zc\n",
    "# Eq 58\n",
    "u = np.zeros(nx)\n",
    "u = Q/h\n",
    "# Eq 57\n",
    "qbedload = np.zeros(nx)\n",
    "qbedload = a*u**b\n",
    "\n",
    "flux = np.zeros(nx)\n"
   ]
  },
  {
   "cell_type": "code",
   "execution_count": 65,
   "metadata": {
    "collapsed": false
   },
   "outputs": [
    {
     "data": {
      "text/plain": [
       "(120, 210)"
      ]
     },
     "execution_count": 65,
     "metadata": {},
     "output_type": "execute_result"
    },
    {
     "data": {
      "image/png": "[encoded data removed]",
      "text/plain": [
       "<matplotlib.figure.Figure at 0x7f5f7a87e890>"
      ]
     },
     "metadata": {},
     "output_type": "display_data"
    }
   ],
   "source": [
    "plt.plot(xc,zc)\n",
    "plt.ylim([-7,-3])\n",
    "plt.xlim([120,210])"
   ]
  },
  {
   "cell_type": "code",
   "execution_count": 66,
   "metadata": {
    "collapsed": false
   },
   "outputs": [
    {
     "data": {
      "text/plain": [
       "(100, 250)"
      ]
     },
     "execution_count": 66,
     "metadata": {},
     "output_type": "execute_result"
    },
    {
     "data": {
      "image/png": "[encoded data removed]",
      "text/plain": [
       "<matplotlib.figure.Figure at 0x7f5f7ab67f90>"
      ]
     },
     "metadata": {},
     "output_type": "display_data"
    }
   ],
   "source": [
    "plt.plot(xc,qbedload)\n",
    "plt.xlim([100,250])"
   ]
  },
  {
   "cell_type": "code",
   "execution_count": 9,
   "metadata": {
    "collapsed": false
   },
   "outputs": [
    {
     "name": "stdout",
     "output_type": "stream",
     "text": [
      "Grid dx = 1.0\n"
     ]
    },
    {
     "ename": "IndexError",
     "evalue": "index 5 is out of bounds for axis 0 with size 5",
     "output_type": "error",
     "traceback": [
      "\u001b[1;31m---------------------------------------------------------------------------\u001b[0m",
      "\u001b[1;31mIndexError\u001b[0m                                Traceback (most recent call last)",
      "\u001b[1;32m<ipython-input-9-8cee129978a0>\u001b[0m in \u001b[0;36m<module>\u001b[1;34m()\u001b[0m\n\u001b[0;32m     47\u001b[0m \u001b[1;33m\u001b[0m\u001b[0m\n\u001b[0;32m     48\u001b[0m         \u001b[1;31m#f_left,f_right = ENO(xloc,qloc,k)\u001b[0m\u001b[1;33m\u001b[0m\u001b[1;33m\u001b[0m\u001b[0m\n\u001b[1;32m---> 49\u001b[1;33m         \u001b[0mf_left\u001b[0m\u001b[1;33m,\u001b[0m\u001b[0mf_right\u001b[0m \u001b[1;33m=\u001b[0m \u001b[0mWENO\u001b[0m\u001b[1;33m(\u001b[0m\u001b[0mxloc\u001b[0m\u001b[1;33m,\u001b[0m\u001b[0mqloc\u001b[0m\u001b[1;33m,\u001b[0m\u001b[0mk\u001b[0m\u001b[1;33m)\u001b[0m\u001b[1;33m\u001b[0m\u001b[0m\n\u001b[0m\u001b[0;32m     50\u001b[0m         \u001b[1;31m#upwind flux\u001b[0m\u001b[1;33m\u001b[0m\u001b[1;33m\u001b[0m\u001b[0m\n\u001b[0;32m     51\u001b[0m         \u001b[1;31m# The 0.5 comes from the c+abs(c) which is 2 if the wave speed is +ive\u001b[0m\u001b[1;33m\u001b[0m\u001b[1;33m\u001b[0m\u001b[0m\n",
      "\u001b[1;32m/home/pgrover/Dropbox/PhD/Morphodynamic_Model/pymorph/weno.py\u001b[0m in \u001b[0;36mWENO\u001b[1;34m(xloc, uloc, k)\u001b[0m\n\u001b[0;32m    316\u001b[0m         \u001b[1;32mfor\u001b[0m \u001b[0mi\u001b[0m \u001b[1;32min\u001b[0m \u001b[0mrange\u001b[0m\u001b[1;33m(\u001b[0m\u001b[1;36m0\u001b[0m\u001b[1;33m,\u001b[0m\u001b[0mk\u001b[0m\u001b[1;33m)\u001b[0m\u001b[1;33m:\u001b[0m\u001b[1;33m\u001b[0m\u001b[0m\n\u001b[0;32m    317\u001b[0m             \u001b[1;31m#urr[r] = urr[r] + cr[i]*uloc[k-r+i-1]\u001b[0m\u001b[1;33m\u001b[0m\u001b[1;33m\u001b[0m\u001b[0m\n\u001b[1;32m--> 318\u001b[1;33m             \u001b[0murr\u001b[0m\u001b[1;33m[\u001b[0m\u001b[0mr\u001b[0m\u001b[1;33m]\u001b[0m \u001b[1;33m=\u001b[0m \u001b[0murr\u001b[0m\u001b[1;33m[\u001b[0m\u001b[0mr\u001b[0m\u001b[1;33m]\u001b[0m \u001b[1;33m+\u001b[0m \u001b[0mcr\u001b[0m\u001b[1;33m[\u001b[0m\u001b[0mi\u001b[0m\u001b[1;33m]\u001b[0m\u001b[1;33m*\u001b[0m\u001b[0muloc\u001b[0m\u001b[1;33m[\u001b[0m\u001b[0mk\u001b[0m\u001b[1;33m-\u001b[0m\u001b[0mr\u001b[0m\u001b[1;33m+\u001b[0m\u001b[0mi\u001b[0m\u001b[1;33m]\u001b[0m\u001b[1;33m\u001b[0m\u001b[0m\n\u001b[0m\u001b[0;32m    319\u001b[0m             \u001b[0mulr\u001b[0m\u001b[1;33m[\u001b[0m\u001b[0mr\u001b[0m\u001b[1;33m]\u001b[0m \u001b[1;33m=\u001b[0m \u001b[0mulr\u001b[0m\u001b[1;33m[\u001b[0m\u001b[0mr\u001b[0m\u001b[1;33m]\u001b[0m \u001b[1;33m+\u001b[0m \u001b[0mcl\u001b[0m\u001b[1;33m[\u001b[0m\u001b[0mi\u001b[0m\u001b[1;33m]\u001b[0m\u001b[1;33m*\u001b[0m\u001b[0muloc\u001b[0m\u001b[1;33m[\u001b[0m\u001b[0mk\u001b[0m\u001b[1;33m-\u001b[0m\u001b[0mr\u001b[0m\u001b[1;33m+\u001b[0m\u001b[0mi\u001b[0m\u001b[1;33m-\u001b[0m\u001b[1;36m1\u001b[0m\u001b[1;33m]\u001b[0m\u001b[1;33m\u001b[0m\u001b[0m\n\u001b[0;32m    320\u001b[0m \u001b[1;33m\u001b[0m\u001b[0m\n",
      "\u001b[1;31mIndexError\u001b[0m: index 5 is out of bounds for axis 0 with size 5"
     ]
    }
   ],
   "source": [
    "nx=300\n",
    "x = pyclaw.Dimension(0.0,300.0,nx,name='x')\n",
    "domain = pyclaw.Domain(x)\n",
    "state = pyclaw.State(domain,1)\n",
    "xc = state.grid.x.centers\n",
    "dx = state.grid.delta[0]\n",
    "print('Grid dx = {0}'.format(dx))\n",
    "\n",
    "a=0.001\n",
    "b=3.0\n",
    "Q=10.0\n",
    "nP=0.4\n",
    "xcentre = 150.  # Centre of hum\n",
    "h0 = 6.0        # Water depth\n",
    "s= 0.0            # Datum\n",
    "beta = 0.01\n",
    "z = np.zeros(nx)\n",
    "# Eq 66\n",
    "z = np.array([(-h0 + 2.0*math.exp(-beta*(xp-xcentre)**2)) for xp in xc])\n",
    "zc = z.copy()\n",
    "\n",
    "# Eq 59\n",
    "h = np.zeros(nx)\n",
    "h = s - zc\n",
    "# Eq 58\n",
    "u = np.zeros(nx)\n",
    "u = Q/h\n",
    "# Eq 57\n",
    "qbedload = np.zeros(nx)\n",
    "qbedload = a*u**b\n",
    "\n",
    "flux = np.zeros(nx)\n",
    "\n",
    "nt = 6000   # Number of time steps\n",
    "dt = 0.1 # Time step size (s)\n",
    "\n",
    "k = 3 # number of weights Order= 2*k-1\n",
    "\n",
    "c=1\n",
    "\n",
    "for n in range(1,nt):  \n",
    "    zn = zc.copy() \n",
    "    for i in range(0,nx): #i=2\n",
    "        xloc = xc[i-(k-1):i+k] #i+k-1-(i-(k-1)-1) = 2k -1 \n",
    "        \n",
    "        qloc = get_stencil(qbedload,i-(k-1),i+k)\n",
    " \n",
    "        #f_left,f_right = ENO(xloc,qloc,k)\n",
    "        f_left,f_right = WENO(xloc,qloc,k)\n",
    "        #upwind flux\n",
    "        # The 0.5 comes from the c+abs(c) which is 2 if the wave speed is +ive\n",
    "        flux[i]=0.5*(c+abs(c))*f_left + 0.5*(c-abs(c))*f_right\n",
    "        \n",
    "    # Need the sign of the phase speed\n",
    "    # Need to check this out\n",
    "    for i in range(0,nx): #i=2\n",
    "        if c>0:\n",
    "            zc[i] = zn[i]-(1./(1.-nP))*dt/dx*(flux[i]-flux[i-1])\n",
    "        else:\n",
    "            zc[i] = zn[i]-(1./(1.-nP))*dt/dx*(flux[i+1]-flux[i])\n",
    "    # Update the flow depth, velocity and bedload\n",
    "    h = s - zc\n",
    "    u = Q/h\n",
    "    qbedload = a*u**b\n",
    "    \n",
    "\n",
    "plt.plot(xc,z,'r')\n",
    "plt.plot(xc,zc)\n",
    "plt.ylim([-6,-3.5])\n",
    "plt.xlim([120,210])"
   ]
  },
  {
   "cell_type": "code",
   "execution_count": 10,
   "metadata": {
    "collapsed": false
   },
   "outputs": [
    {
     "data": {
      "text/plain": [
       "(120, 210)"
      ]
     },
     "execution_count": 10,
     "metadata": {},
     "output_type": "execute_result"
    },
    {
     "data": {
      "image/png": "[encoded data removed]",
      "text/plain": [
       "<matplotlib.figure.Figure at 0x7fab3dd70950>"
      ]
     },
     "metadata": {},
     "output_type": "display_data"
    }
   ],
   "source": [
    "plt.plot(xc,zc,'b*')\n",
    "plt.ylim([-6,-3.5])\n",
    "plt.xlim([120,210])"
   ]
  },
  {
   "cell_type": "markdown",
   "metadata": {},
   "source": [
    "## Attempt 2"
   ]
  },
  {
   "cell_type": "code",
   "execution_count": 11,
   "metadata": {
    "collapsed": false
   },
   "outputs": [
    {
     "name": "stdout",
     "output_type": "stream",
     "text": [
      "Grid dx = 1.0\n",
      "Grid nx = 300\n"
     ]
    },
    {
     "data": {
      "text/plain": [
       "[<matplotlib.lines.Line2D at 0x7fab3dce7e10>]"
      ]
     },
     "execution_count": 11,
     "metadata": {},
     "output_type": "execute_result"
    },
    {
     "data": {
      "image/png": "[encoded data removed]",
      "text/plain": [
       "<matplotlib.figure.Figure at 0x7fab3db6c910>"
      ]
     },
     "metadata": {},
     "output_type": "display_data"
    }
   ],
   "source": [
    "nx=300\n",
    "x = pyclaw.Dimension(0.0,300.0,nx,name='x')\n",
    "domain = pyclaw.Domain(x)\n",
    "state = pyclaw.State(domain,1)\n",
    "xc = state.grid.x.centers\n",
    "dx = state.grid.delta[0]\n",
    "print('Grid dx = {0}'.format(dx))\n",
    "print('Grid nx = {0}'.format(len(xc)))\n",
    "\n",
    "a=0.001\n",
    "b=3.0\n",
    "Q=10.0\n",
    "nP=0.4\n",
    "xcentre = 150.  # Centre of hum\n",
    "h0 = 6.0        # Water depth\n",
    "s= 0.0            # Datum\n",
    "beta = 0.01\n",
    "z = np.zeros(nx)\n",
    "# Eq 66\n",
    "z = np.array([(-h0 + 2.0*math.exp(-beta*(xp-xcentre)**2)) for xp in xc])\n",
    "zc = z.copy()\n",
    "\n",
    "# Eq 59\n",
    "h = np.zeros(nx)\n",
    "h = s - zc\n",
    "# Eq 58\n",
    "u = np.zeros(nx)\n",
    "u = Q/h\n",
    "# Eq 57\n",
    "qbedload = np.zeros(nx)\n",
    "roe_speed = np.zeros(nx)\n",
    "qbedload = a*u**b\n",
    "\n",
    "flux = np.zeros(nx)\n",
    "\n",
    "nt = 600   # Number of time steps\n",
    "dt = 1.0 # Time step size (s)\n",
    "\n",
    "plt.plot(xc,z,'r')\n",
    "plt.ylim([-6,-3.5])\n",
    "plt.xlim([120,210])\n",
    "\n",
    "cntr = 0\n",
    "\n",
    "h = s - zc\n",
    "u = Q/h\n",
    "qbedload = a*u**b\n",
    "\n",
    "for n in range(1,nt):  \n",
    "    zn = zc.copy() \n",
    "    for i in range(0,nx): #i=2\n",
    "        # xloc = xc[i-(k-1):i+k]\n",
    "        #xloc = get_stencil(xc,i-(k-1),i+k+1) #i+k-1-(i-(k-1)-1) = 2k -1 \n",
    "        zloc = get_stencil(zn,i-(k-1),i+k+1)\n",
    "        #print xloc\n",
    "        #raise ValueError()\n",
    "        \n",
    "        # Since k=3\n",
    "        # stencil is i-2 to i+2 \n",
    "        qloc = get_stencil(qbedload,i-(k-1),i+k+1)\n",
    "        if len(qloc)<>6:\n",
    "            raise ValueError('Stencil is incorrect')\n",
    " \n",
    "        #f_left,f_right = ENO(xloc,qloc,k)\n",
    "        #f_left,f_right = WENO(xloc,qloc,k)\n",
    "        \n",
    "        \n",
    "        #upwind flux\n",
    "        # The 0.5 comes from the c+abs(c) which is 2 if the wave speed is +ive\n",
    "        # this is the evaluation of the left and right based fluxes. Eq. 18 and 19\n",
    "        \n",
    "        if (zloc[3]-zloc[2]) == 0.0:\n",
    "            roe_speed[i]=np.sign( (qloc[3]-qloc[2]) )\n",
    "        else:\n",
    "            roe_speed[i]=np.sign( (qloc[3]-qloc[2])/ (zloc[3]-zloc[2]) )\n",
    "        \n",
    "        if roe_speed[i] >= 0.0:\n",
    "            flux[i] = get_left_flux(qloc)\n",
    "        else:\n",
    "            flux[i] = get_right_flux(qloc)\n",
    "        \n",
    "    # Need the sign of the phase speed\n",
    "    # Need to check this out\n",
    "\n",
    "    for i in range(0,nx): #i=2\n",
    "        # This makes the dune travel backwards but looks correct ???\n",
    "        #zc[i] = zn[i]+(1./(1.-nP))*dt/dx*(flux[i+1]-flux[i])\n",
    "\n",
    "        # This results in oscillations but the shape is actually correct\n",
    "        #zc[i] = zn[i]-(1./(1.-nP))*dt/dx*(flux[i+1]-flux[i])\n",
    "        \n",
    "        floc = get_stencil(flux,i-1,i+1)\n",
    "\n",
    "        zc[i] = zn[i]-(1./(1.-nP))*dt/dx*(floc[1]-floc[0])\n",
    "        \n",
    "    # Update the flow depth, velocity and bedload\n",
    "    h = s - zc\n",
    "    u = Q/h\n",
    "    qbedload = a*u**b\n",
    "\n",
    "plt.plot(xc,zc)\n",
    "plt.plot(xb_600,zb_600,label='t=600s')\n",
    "    \n",
    "\n",
    "\n",
    "\n"
   ]
  },
  {
   "cell_type": "code",
   "execution_count": 112,
   "metadata": {
    "collapsed": false
   },
   "outputs": [
    {
     "data": {
      "text/plain": [
       "[<matplotlib.lines.Line2D at 0x7fc7e42bd110>]"
      ]
     },
     "execution_count": 112,
     "metadata": {},
     "output_type": "execute_result"
    },
    {
     "data": {
      "image/png": "[encoded data removed]",
      "text/plain": [
       "<matplotlib.figure.Figure at 0x7fc7e42bd0d0>"
      ]
     },
     "metadata": {},
     "output_type": "display_data"
    }
   ],
   "source": [
    "plt.plot(xc,z,'r')\n",
    "\n",
    "\n",
    "plt.plot(xc,zc)"
   ]
  },
  {
   "cell_type": "code",
   "execution_count": 113,
   "metadata": {
    "collapsed": false
   },
   "outputs": [
    {
     "data": {
      "text/plain": [
       "[<matplotlib.lines.Line2D at 0x7fc7e40348d0>]"
      ]
     },
     "execution_count": 113,
     "metadata": {},
     "output_type": "execute_result"
    },
    {
     "data": {
      "image/png": "[encoded data removed]",
      "text/plain": [
       "<matplotlib.figure.Figure at 0x7fc7e40c17d0>"
      ]
     },
     "metadata": {},
     "output_type": "display_data"
    }
   ],
   "source": [
    "plt.plot(flux)"
   ]
  },
  {
   "cell_type": "code",
   "execution_count": 110,
   "metadata": {
    "collapsed": false
   },
   "outputs": [
    {
     "data": {
      "text/plain": [
       "301"
      ]
     },
     "execution_count": 110,
     "metadata": {},
     "output_type": "execute_result"
    }
   ],
   "source": [
    "len(flux)"
   ]
  },
  {
   "cell_type": "code",
   "execution_count": 28,
   "metadata": {
    "collapsed": false
   },
   "outputs": [
    {
     "name": "stdout",
     "output_type": "stream",
     "text": [
      "[ 297.5  298.5  299.5    0.5    1.5    2.5]\n"
     ]
    }
   ],
   "source": [
    "k=3\n",
    "i=299\n",
    "xloc = get_stencil(xc,i-(k-1),i+k+1)\n",
    "print xloc"
   ]
  },
  {
   "cell_type": "code",
   "execution_count": 27,
   "metadata": {
    "collapsed": false
   },
   "outputs": [
    {
     "name": "stdout",
     "output_type": "stream",
     "text": [
      "[ 298.5  299.5    0.5    1.5    2.5    3.5]\n"
     ]
    }
   ],
   "source": [
    "k=3\n",
    "i=0\n",
    "xloc = get_stencil(xc,i-(k-1),i+k+1)\n",
    "print xloc"
   ]
  },
  {
   "cell_type": "code",
   "execution_count": 29,
   "metadata": {
    "collapsed": false
   },
   "outputs": [
    {
     "data": {
      "text/plain": [
       "300"
      ]
     },
     "execution_count": 29,
     "metadata": {},
     "output_type": "execute_result"
    }
   ],
   "source": [
    "len(xc)"
   ]
  },
  {
   "cell_type": "code",
   "execution_count": null,
   "metadata": {
    "collapsed": true
   },
   "outputs": [],
   "source": []
  }
 ],
 "metadata": {
  "kernelspec": {
   "display_name": "Python 2",
   "language": "python",
   "name": "python2"
  },
  "language_info": {
   "codemirror_mode": {
    "name": "ipython",
    "version": 2
   },
   "file_extension": ".py",
   "mimetype": "text/x-python",
   "name": "python",
   "nbconvert_exporter": "python",
   "pygments_lexer": "ipython2",
   "version": "2.7.8"
  }
 },
 "nbformat": 4,
 "nbformat_minor": 0
}
