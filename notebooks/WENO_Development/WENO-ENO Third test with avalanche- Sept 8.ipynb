{
 "cells": [
  {
   "cell_type": "code",
   "execution_count": 1,
   "metadata": {},
   "outputs": [],
   "source": [
    "import os,sys\n",
    "import csv\n",
    "import copy\n",
    "import math\n",
    "\n",
    "from IPython.display import Math\n",
    "from IPython.display import Latex\n",
    "import numpy as np\n",
    "import matplotlib.pyplot as plt\n",
    "import matplotlib.pylab as pylab\n",
    "from clawpack import pyclaw\n",
    "\n",
    "from scipy.integrate import simps, trapz\n",
    "\n",
    "\n",
    "sys.path.append(\"/home/pgrover/Dropbox/PhD/Morphodynamic_Model/pymorph\")\n",
    "from weno import WENO,ENO\n",
    "from weno import get_stencil\n",
    "from avalanche_scheme import *\n",
    "\n",
    "\n",
    "%matplotlib inline\n",
    "%load_ext autoreload\n",
    "%autoreload 2"
   ]
  },
  {
   "cell_type": "code",
   "execution_count": 2,
   "metadata": {},
   "outputs": [],
   "source": [
    "def get_bed_porosity(D0):\n",
    "    ''' EQ 12 from Wu, W., Wang, S.S.Y (2007) One-Dimensional Modelling of Dam Break Flow\n",
    "        over Movable Beds'''\n",
    "    pm = 0.13 + 0.21/(D0 + 0.002)**0.21\n",
    "    return pm\n",
    "\n",
    "nx=500\n",
    "x = pyclaw.Dimension(0.0,100.0,nx,name='x')\n",
    "domain = pyclaw.Domain(x)\n",
    "state = pyclaw.State(domain,1)\n",
    "\n",
    " # Set constants \n",
    "Base_Bed_Elevation = 5.0\n",
    "Mean_Water_Depth = 3.0\n",
    "\n",
    "u_f = 1.0\n",
    "q_f= u_f*Mean_Water_Depth  \n",
    "\n",
    "D0 = 1.1\n",
    "alpha = 1.0\n",
    "\n",
    "pm = 0.0 #get_bed_porosity(D0)\n",
    "\n",
    "H = Base_Bed_Elevation + Mean_Water_Depth\n",
    "\n",
    "\n",
    "# set the intial bed\n",
    "# Based on eq 21 from Kubatko et al 2007\n",
    "#state.q[0,:] = np.exp(-beta * (xc-x0)**2) * np.cos(gamma * (xc - x0)) + 10.0\n",
    "A0 = Base_Bed_Elevation\n",
    "A1 = 1\n",
    "lamb = 20.\n",
    "xc = state.grid.x.centers\n",
    "dx = state.grid.delta[0]\n",
    "\n",
    "z = A0 + A1*np.sin( (2.*math.pi*xc)/lamb )\n",
    "zc = z.copy()\n",
    "\n",
    "#eq 4\n",
    "u = q_f/((Mean_Water_Depth+Base_Bed_Elevation) - z)\n",
    "qbedload = np.zeros(nx)\n",
    "flux=np.zeros(nx)\n",
    "\n",
    "# from EQ 5 in Kubatko et al 2007\n",
    "\n",
    "qbedload = alpha * u\n"
   ]
  },
  {
   "cell_type": "code",
   "execution_count": 3,
   "metadata": {},
   "outputs": [
    {
     "data": {
      "text/plain": [
       "[<matplotlib.lines.Line2D at 0x7fc6fc051f50>]"
      ]
     },
     "execution_count": 3,
     "metadata": {},
     "output_type": "execute_result"
    },
    {
     "data": {
      "image/png": "[encoded data removed]",
      "text/plain": [
       "<matplotlib.figure.Figure at 0x7fc6fc040d90>"
      ]
     },
     "metadata": {},
     "output_type": "display_data"
    }
   ],
   "source": [
    "plt.plot(qbedload)\n",
    "plt.plot(z)"
   ]
  },
  {
   "cell_type": "code",
   "execution_count": 4,
   "metadata": {},
   "outputs": [
    {
     "ename": "IndexError",
     "evalue": "index out of bounds",
     "output_type": "error",
     "traceback": [
      "\u001b[1;31m---------------------------------------------------------------------------\u001b[0m",
      "\u001b[1;31mIndexError\u001b[0m                                Traceback (most recent call last)",
      "\u001b[1;32m<ipython-input-4-4bbe857d298d>\u001b[0m in \u001b[0;36m<module>\u001b[1;34m()\u001b[0m\n\u001b[0;32m     21\u001b[0m \u001b[1;33m\u001b[0m\u001b[0m\n\u001b[0;32m     22\u001b[0m \u001b[1;33m\u001b[0m\u001b[0m\n\u001b[1;32m---> 23\u001b[1;33m         \u001b[0mf_left\u001b[0m\u001b[1;33m,\u001b[0m\u001b[0mf_right\u001b[0m \u001b[1;33m=\u001b[0m \u001b[0mWENO\u001b[0m\u001b[1;33m(\u001b[0m\u001b[0mxloc\u001b[0m\u001b[1;33m,\u001b[0m\u001b[0mqloc\u001b[0m\u001b[1;33m,\u001b[0m\u001b[0mk\u001b[0m\u001b[1;33m)\u001b[0m\u001b[1;33m\u001b[0m\u001b[0m\n\u001b[0m\u001b[0;32m     24\u001b[0m         \u001b[1;31m#f_left,f_right = WENO(xloc,uloc,k)\u001b[0m\u001b[1;33m\u001b[0m\u001b[1;33m\u001b[0m\u001b[0m\n\u001b[0;32m     25\u001b[0m         \u001b[1;31m#upwind flux\u001b[0m\u001b[1;33m\u001b[0m\u001b[1;33m\u001b[0m\u001b[0m\n",
      "\u001b[1;32m/home/pgrover/Dropbox/PhD/Morphodynamic_Model/pymorph/weno.pyc\u001b[0m in \u001b[0;36mWENO\u001b[1;34m(xloc, uloc, k)\u001b[0m\n\u001b[0;32m    316\u001b[0m         \u001b[1;32mfor\u001b[0m \u001b[0mi\u001b[0m \u001b[1;32min\u001b[0m \u001b[0mrange\u001b[0m\u001b[1;33m(\u001b[0m\u001b[1;36m0\u001b[0m\u001b[1;33m,\u001b[0m\u001b[0mk\u001b[0m\u001b[1;33m)\u001b[0m\u001b[1;33m:\u001b[0m\u001b[1;33m\u001b[0m\u001b[0m\n\u001b[0;32m    317\u001b[0m             \u001b[1;31m#urr[r] = urr[r] + cr[i]*uloc[k-r+i-1]\u001b[0m\u001b[1;33m\u001b[0m\u001b[1;33m\u001b[0m\u001b[0m\n\u001b[1;32m--> 318\u001b[1;33m             \u001b[0murr\u001b[0m\u001b[1;33m[\u001b[0m\u001b[0mr\u001b[0m\u001b[1;33m]\u001b[0m \u001b[1;33m=\u001b[0m \u001b[0murr\u001b[0m\u001b[1;33m[\u001b[0m\u001b[0mr\u001b[0m\u001b[1;33m]\u001b[0m \u001b[1;33m+\u001b[0m \u001b[0mcr\u001b[0m\u001b[1;33m[\u001b[0m\u001b[0mi\u001b[0m\u001b[1;33m]\u001b[0m\u001b[1;33m*\u001b[0m\u001b[0muloc\u001b[0m\u001b[1;33m[\u001b[0m\u001b[0mk\u001b[0m\u001b[1;33m-\u001b[0m\u001b[0mr\u001b[0m\u001b[1;33m+\u001b[0m\u001b[0mi\u001b[0m\u001b[1;33m]\u001b[0m\u001b[1;33m\u001b[0m\u001b[0m\n\u001b[0m\u001b[0;32m    319\u001b[0m             \u001b[0mulr\u001b[0m\u001b[1;33m[\u001b[0m\u001b[0mr\u001b[0m\u001b[1;33m]\u001b[0m \u001b[1;33m=\u001b[0m \u001b[0mulr\u001b[0m\u001b[1;33m[\u001b[0m\u001b[0mr\u001b[0m\u001b[1;33m]\u001b[0m \u001b[1;33m+\u001b[0m \u001b[0mcl\u001b[0m\u001b[1;33m[\u001b[0m\u001b[0mi\u001b[0m\u001b[1;33m]\u001b[0m\u001b[1;33m*\u001b[0m\u001b[0muloc\u001b[0m\u001b[1;33m[\u001b[0m\u001b[0mk\u001b[0m\u001b[1;33m-\u001b[0m\u001b[0mr\u001b[0m\u001b[1;33m+\u001b[0m\u001b[0mi\u001b[0m\u001b[1;33m-\u001b[0m\u001b[1;36m1\u001b[0m\u001b[1;33m]\u001b[0m\u001b[1;33m\u001b[0m\u001b[0m\n\u001b[0;32m    320\u001b[0m \u001b[1;33m\u001b[0m\u001b[0m\n",
      "\u001b[1;31mIndexError\u001b[0m: index out of bounds"
     ]
    }
   ],
   "source": [
    "nt = 50   # Number of time steps\n",
    "dt = 0.1 # Time step size (s)\n",
    "\n",
    "k = 3 # number of weights Order= 2*k-1\n",
    "\n",
    "c=1\n",
    "\n",
    "for n in range(1,nt):  \n",
    "    zn = zc.copy() \n",
    "    for i in range(0,nx): #i=2\n",
    "        xloc = xc[i-(k-1):i+k] #i+k-1-(i-(k-1)-1) = 2k -1 \n",
    "        \n",
    "        qloc = get_stencil(qbedload,i-(k-1),i+k)\n",
    "        \n",
    "        qloc_OLD = qbedload[i-(k-1):i+k]\n",
    "        \n",
    "        if len(qloc) <5:\n",
    "            print('Problem qloc={0}  start={1} end={2}, len(qbedload)={3}'.format(qloc,i-(k-1),i+k,len(qbedload)))\n",
    "        elif len(qloc) >5:\n",
    "            print('Problem qloc={0}  start={1} end={2}, len(qbedload)={3}'.format(qloc,i-(k-1),i+k,len(qbedload)))\n",
    "\n",
    " \n",
    "        f_left,f_right = WENO(xloc,qloc,k)\n",
    "        #f_left,f_right = WENO(xloc,uloc,k)\n",
    "        #upwind flux\n",
    "        flux[i]=0.5*(c+abs(c))*f_left + 0.5*(c-abs(c))*f_right\n",
    "        \n",
    "    # Need the sign of the phase speed\n",
    "    for i in range(0,nx): #i=2\n",
    "        if c>0:\n",
    "            zc[i] = zn[i]-(1./(1.-pm))*dt/dx*(flux[i]-flux[i-1])\n",
    "        else:\n",
    "            zc[i] = zn[i]-(1./(1.-pm))*dt/dx*(flux[i+1]-flux[i])\n",
    "    \n",
    "    qbedload = alpha * q_f/((Mean_Water_Depth+Base_Bed_Elevation) - zc)\n",
    "    \n",
    "    z_updated,iterations = avalanche_model(dx,xc,zc)\n",
    "    \n",
    "    if iterations > 1:\n",
    "        zc = z_updated.copy()\n",
    "\n",
    "fig = plt.figure(figsize=(16, 4))\n",
    "ax1 = fig.add_subplot(111)\n",
    "\n",
    "plt.plot(xc,z,'r')\n",
    "plt.plot(xc,zc)"
   ]
  },
  {
   "cell_type": "code",
   "execution_count": 5,
   "metadata": {},
   "outputs": [
    {
     "name": "stdout",
     "output_type": "stream",
     "text": [
      "-17.4378996788\n"
     ]
    }
   ],
   "source": [
    "slopes=np.zeros(len(xc))\n",
    "for i in range(len(xc)):\n",
    "    zloc = get_stencil(zc,i,i+2)\n",
    "    slopes[i] =get_slope(dx, zloc)\n",
    "print min(slopes)"
   ]
  },
  {
   "cell_type": "code",
   "execution_count": 6,
   "metadata": {},
   "outputs": [
    {
     "ename": "NameError",
     "evalue": "name 'iterations' is not defined",
     "output_type": "error",
     "traceback": [
      "\u001b[1;31m---------------------------------------------------------------------------\u001b[0m",
      "\u001b[1;31mNameError\u001b[0m                                 Traceback (most recent call last)",
      "\u001b[1;32m<ipython-input-6-df57706818f5>\u001b[0m in \u001b[0;36m<module>\u001b[1;34m()\u001b[0m\n\u001b[0;32m      1\u001b[0m \u001b[0marea_old\u001b[0m \u001b[1;33m=\u001b[0m \u001b[0mtrapz\u001b[0m\u001b[1;33m(\u001b[0m\u001b[0mz\u001b[0m\u001b[1;33m,\u001b[0m \u001b[0mdx\u001b[0m\u001b[1;33m=\u001b[0m\u001b[0mdx\u001b[0m\u001b[1;33m)\u001b[0m\u001b[1;33m\u001b[0m\u001b[0m\n\u001b[0;32m      2\u001b[0m \u001b[0marea_new\u001b[0m \u001b[1;33m=\u001b[0m \u001b[0mtrapz\u001b[0m\u001b[1;33m(\u001b[0m\u001b[0mzc\u001b[0m\u001b[1;33m,\u001b[0m \u001b[0mdx\u001b[0m\u001b[1;33m=\u001b[0m\u001b[0mdx\u001b[0m\u001b[1;33m)\u001b[0m\u001b[1;33m\u001b[0m\u001b[0m\n\u001b[1;32m----> 3\u001b[1;33m \u001b[1;32mprint\u001b[0m\u001b[1;33m(\u001b[0m\u001b[1;34m'Area old: {0} Area new: {1} Iterations: {2}'\u001b[0m\u001b[1;33m.\u001b[0m\u001b[0mformat\u001b[0m\u001b[1;33m(\u001b[0m\u001b[0marea_old\u001b[0m\u001b[1;33m,\u001b[0m\u001b[0marea_new\u001b[0m\u001b[1;33m,\u001b[0m\u001b[0miterations\u001b[0m\u001b[1;33m)\u001b[0m\u001b[1;33m)\u001b[0m\u001b[1;33m\u001b[0m\u001b[0m\n\u001b[0m",
      "\u001b[1;31mNameError\u001b[0m: name 'iterations' is not defined"
     ]
    }
   ],
   "source": [
    "area_old = trapz(z, dx=dx)\n",
    "area_new = trapz(zc, dx=dx)  \n",
    "print('Area old: {0} Area new: {1} Iterations: {2}'.format(area_old,area_new,iterations))"
   ]
  },
  {
   "cell_type": "code",
   "execution_count": 7,
   "metadata": {},
   "outputs": [
    {
     "data": {
      "text/plain": [
       "array([ 0.98963824,  1.01058104,  1.03238535,  1.05501349,  1.07841642])"
      ]
     },
     "execution_count": 7,
     "metadata": {},
     "output_type": "execute_result"
    }
   ],
   "source": [
    "get_stencil(qbedload,-1,4)"
   ]
  },
  {
   "cell_type": "code",
   "execution_count": 8,
   "metadata": {},
   "outputs": [
    {
     "data": {
      "text/plain": [
       "array([ 1.01058104,  1.03238535,  1.05501349])"
      ]
     },
     "execution_count": 8,
     "metadata": {},
     "output_type": "execute_result"
    }
   ],
   "source": [
    "qbedload[0:3]"
   ]
  },
  {
   "cell_type": "code",
   "execution_count": 9,
   "metadata": {},
   "outputs": [
    {
     "ename": "SyntaxError",
     "evalue": "invalid syntax (<ipython-input-9-14c8ca7e611a>, line 17)",
     "output_type": "error",
     "traceback": [
      "\u001b[1;36m  File \u001b[1;32m\"<ipython-input-9-14c8ca7e611a>\"\u001b[1;36m, line \u001b[1;32m17\u001b[0m\n\u001b[1;33m    uc[i] = un[i]-(1./(1.-pm))dt/dx*(flux[i]-flux[i-1])\u001b[0m\n\u001b[1;37m                               ^\u001b[0m\n\u001b[1;31mSyntaxError\u001b[0m\u001b[1;31m:\u001b[0m invalid syntax\n"
     ]
    }
   ],
   "source": [
    "gs = np.zeros((nx+2*gc,nt))\n",
    "flux = np.zeros(nx+2*gc)\n",
    "\n",
    "for n in range(1,nt):  \n",
    "    un = uc.copy() \n",
    "    for i in range(gc,nx-1+gc): #i=2\n",
    "        xloc = xc[i-(k-1):i+k] #i+k-1-(i-(k-1)-1) = 2k -1 \n",
    "        uloc = uc[i-(k-1):i+k]\n",
    "        f_left,f_right = ENO(xloc,uloc,k)\n",
    "        #f_left,f_right = WENO(xloc,uloc,k)\n",
    "        #upwind flux\n",
    "        flux[i]=0.5*(c+abs(c))*f_left + 0.5*(c-abs(c))*f_right\n",
    "    # Need the sign of the phase speed\n",
    "    \n",
    "    for i in range(gc,nx-gc):\n",
    "        if c>0:\n",
    "            uc[i] = un[i]-(1./(1.-pm))dt/dx*(flux[i]-flux[i-1])\n",
    "        else:\n",
    "            uc[i] = un[i]-dt/dx*(flux[i+1]-flux[i])\n",
    "            \n",
    "    \n",
    "    "
   ]
  },
  {
   "cell_type": "code",
   "execution_count": null,
   "metadata": {
    "collapsed": true
   },
   "outputs": [],
   "source": []
  }
 ],
 "metadata": {
  "kernelspec": {
   "display_name": "Python 3",
   "language": "python",
   "name": "python3"
  },
  "language_info": {
   "codemirror_mode": {
    "name": "ipython",
    "version": 3
   },
   "file_extension": ".py",
   "mimetype": "text/x-python",
   "name": "python",
   "nbconvert_exporter": "python",
   "pygments_lexer": "ipython3",
   "version": "3.6.5"
  }
 },
 "nbformat": 4,
 "nbformat_minor": 1
}
