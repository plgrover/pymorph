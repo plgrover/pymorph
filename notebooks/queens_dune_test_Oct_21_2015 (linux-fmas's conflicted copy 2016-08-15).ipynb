{
 "cells": [
  {
   "cell_type": "code",
   "execution_count": 1,
   "metadata": {
    "collapsed": false
   },
   "outputs": [
    {
     "name": "stdout",
     "output_type": "stream",
     "text": [
      "********************************************************************\n",
      "Warning: Some Riemannn solvers were not able to be imported.\n",
      " Did you run \"pip install\" in your clawpack directory?\n",
      "********************************************************************\n"
     ]
    },
    {
     "name": "stderr",
     "output_type": "stream",
     "text": [
      "Traceback (most recent call last):\n",
      "  File \"/usr/lib64/python2.7/site-packages/clawpack/riemann/__init__.py\", line 60, in <module>\n",
      "    import exner_1D\n",
      "ImportError: No module named exner_1D\n"
     ]
    }
   ],
   "source": [
    "import os,sys\n",
    "import csv\n",
    "import copy\n",
    "import math\n",
    "\n",
    "import matplotlib\n",
    "import matplotlib.pyplot as plt\n",
    "from clawpack import pyclaw\n",
    "from clawpack import riemann\n",
    "import numpy as np\n",
    "\n",
    "from scipy.integrate import simps, trapz\n",
    "\n",
    "sys.path.append(\"/home/pgrover/Dropbox/PhD/Morphodynamic_Model/pymorph\")\n",
    "from weno import get_left_flux,get_right_flux\n",
    "from weno import get_stencil\n",
    "from shallow_water_solver import shallow_solver\n",
    "from avalanche_scheme import *\n",
    "#from clawpack_geometry_tools import read_ascii\n",
    "\n",
    "%matplotlib inline\n",
    "%load_ext autoreload\n",
    "%autoreload 2"
   ]
  },
  {
   "cell_type": "markdown",
   "metadata": {},
   "source": [
    "# Dune Test\n",
    "The dune geometry from the Queen's lab will be tested using the Exner-1D WENO model and the shallow water solver from Clawpack.First thing is to be able to read in the geometry into the clawpack mesh."
   ]
  },
  {
   "cell_type": "code",
   "execution_count": 3,
   "metadata": {
    "collapsed": false
   },
   "outputs": [
    {
     "name": "stdout",
     "output_type": "stream",
     "text": [
      "Z: 87\n"
     ]
    }
   ],
   "source": [
    "def is_number(s):\n",
    "    try:\n",
    "        float(s)\n",
    "        return True\n",
    "    except ValueError:\n",
    "        return False\n",
    "\n",
    "filepath = '/home/pgrover/working/working/Paper_4_Turbulence_Modelling/FlumeExperiment/geometries/flume_profile_smoothed.txt'\n",
    "import collections\n",
    "\n",
    "retval = collections.OrderedDict()\n",
    "x = []\n",
    "z = []\n",
    "x = 0.0\n",
    "with open(filepath) as f:\n",
    "    for line in f:\n",
    "        values = line.split()\n",
    "        if is_number(values[0])==False:\n",
    "            if float(values[1]).is_integer():\n",
    "                retval[values[0]]=int(values[1])\n",
    "            else:\n",
    "                retval[values[0]]=float(values[1])\n",
    "        else:\n",
    "            z.append(float(values[0]))\n",
    "z = np.array(z)\n",
    "print('Z: {0}'.format(len(z)))\n",
    "xmax = float(retval['nrows']) * retval['cellsize']\n",
    "nx = retval['nrows']\n",
    "dx = retval['cellsize']"
   ]
  },
  {
   "cell_type": "code",
   "execution_count": 4,
   "metadata": {
    "collapsed": false
   },
   "outputs": [
    {
     "name": "stdout",
     "output_type": "stream",
     "text": [
      "Grid dx = 0.03\n",
      "Grid nx = 87\n"
     ]
    }
   ],
   "source": [
    "\n",
    "xdomain = x = pyclaw.Dimension(0.0,xmax,retval['nrows'],name='x')\n",
    "domain = pyclaw.Domain(xdomain)\n",
    "state = pyclaw.State(domain,1)\n",
    "xc = state.grid.x.centers\n",
    "dx = state.grid.delta[0]\n",
    "print('Grid dx = {0}'.format(dx))\n",
    "print('Grid nx = {0}'.format(len(xc)))\n"
   ]
  },
  {
   "cell_type": "code",
   "execution_count": 5,
   "metadata": {
    "collapsed": false
   },
   "outputs": [
    {
     "name": "stdout",
     "output_type": "stream",
     "text": [
      "(87, 87)\n"
     ]
    }
   ],
   "source": [
    "import logging\n",
    "logger = logging.getLogger('pyclaw')\n",
    "logger.setLevel(logging.CRITICAL)\n",
    "\n",
    "# Gravitational constant\n",
    "state.problem_data['grav'] = 9.8\n",
    "state.problem_data['sea_level'] = 0.0\n",
    "xc = state.grid.x.centers\n",
    "\n",
    "a=0.001\n",
    "b=3.0\n",
    "Q=10.0\n",
    "nP=0.4\n",
    "zc = z.copy()\n",
    "\n",
    "shw_slvr = shallow_solver(domain)\n",
    "u, surf,h = shw_slvr.run(zc,0.2)\n"
   ]
  },
  {
   "cell_type": "code",
   "execution_count": 6,
   "metadata": {
    "collapsed": false
   },
   "outputs": [
    {
     "data": {
      "text/plain": [
       "[<matplotlib.lines.Line2D at 0x7ff1cdf68b50>]"
      ]
     },
     "execution_count": 6,
     "metadata": {},
     "output_type": "execute_result"
    },
    {
     "data": {
      "image/png": "[encoded data removed]",
      "text/plain": [
       "<matplotlib.figure.Figure at 0x7ff1cdf68a10>"
      ]
     },
     "metadata": {},
     "output_type": "display_data"
    }
   ],
   "source": [
    "plt.plot(xc,surf)\n",
    "plt.plot(xc,z)"
   ]
  },
  {
   "cell_type": "code",
   "execution_count": 7,
   "metadata": {
    "collapsed": false
   },
   "outputs": [
    {
     "data": {
      "text/plain": [
       "array([ 0.31309223,  0.3132189 ,  0.31414332,  0.31507195,  0.31811262,\n",
       "        0.32216678,  0.32531886,  0.33028138,  0.33501368,  0.34008563,\n",
       "        0.34572245,  0.35129089,  0.35714163,  0.36287477,  0.36839457,\n",
       "        0.37399764,  0.37940809,  0.38494566,  0.39095986,  0.39704526,\n",
       "        0.40377384,  0.41082409,  0.4179089 ,  0.42527174,  0.43234602,\n",
       "        0.43921795,  0.44578268,  0.45202243,  0.45787407,  0.46343271,\n",
       "        0.46880674,  0.47412078,  0.47982601,  0.48634273,  0.49414578,\n",
       "        0.50334911,  0.51363316,  0.52628669,  0.47974742,  0.44140421,\n",
       "        0.4028595 ,  0.37141678,  0.34074903,  0.3150455 ,  0.31134696,\n",
       "        0.31178563,  0.31285897,  0.31490191,  0.31762507,  0.32173469,\n",
       "        0.32561281,  0.33003993,  0.33389691,  0.33902542,  0.34302866,\n",
       "        0.34873741,  0.35273846,  0.35892086,  0.36284516,  0.36905783,\n",
       "        0.37335552,  0.37902286,  0.38396968,  0.38965256,  0.39486256,\n",
       "        0.40161349,  0.40670923,  0.4139418 ,  0.41897023,  0.42505425,\n",
       "        0.43040981,  0.43519238,  0.44143787,  0.44610452,  0.45358595,\n",
       "        0.4589298 ,  0.46739904,  0.47390915,  0.48280236,  0.49086812,\n",
       "        0.49996711,  0.45282641,  0.41468599,  0.38229637,  0.35573328,\n",
       "        0.33288124,  0.31312511])"
      ]
     },
     "execution_count": 7,
     "metadata": {},
     "output_type": "execute_result"
    }
   ],
   "source": [
    "u"
   ]
  },
  {
   "cell_type": "code",
   "execution_count": 8,
   "metadata": {
    "collapsed": false
   },
   "outputs": [
    {
     "data": {
      "text/plain": [
       "[<matplotlib.lines.Line2D at 0x7ff1cddb6310>]"
      ]
     },
     "execution_count": 8,
     "metadata": {},
     "output_type": "execute_result"
    },
    {
     "data": {
      "image/png": "[encoded data removed]",
      "text/plain": [
       "<matplotlib.figure.Figure at 0x7ff1cdebb050>"
      ]
     },
     "metadata": {},
     "output_type": "display_data"
    }
   ],
   "source": [
    "plt.plot(xc,u)"
   ]
  },
  {
   "cell_type": "code",
   "execution_count": null,
   "metadata": {
    "collapsed": true
   },
   "outputs": [],
   "source": []
  }
 ],
 "metadata": {
  "kernelspec": {
   "display_name": "Python 2",
   "language": "python",
   "name": "python2"
  },
  "language_info": {
   "codemirror_mode": {
    "name": "ipython",
    "version": 2
   },
   "file_extension": ".py",
   "mimetype": "text/x-python",
   "name": "python",
   "nbconvert_exporter": "python",
   "pygments_lexer": "ipython2",
   "version": "2.7.8"
  }
 },
 "nbformat": 4,
 "nbformat_minor": 0
}
