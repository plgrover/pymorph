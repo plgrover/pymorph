{
 "cells": [
  {
   "cell_type": "code",
   "execution_count": 1,
   "metadata": {},
   "outputs": [
    {
     "name": "stdout",
     "output_type": "stream",
     "text": [
      "********************************************************************\n",
      "Warning: Some Riemannn solvers were not able to be imported.\n",
      " Did you run \"pip install\" in your clawpack directory?\n",
      "********************************************************************\n"
     ]
    },
    {
     "name": "stderr",
     "output_type": "stream",
     "text": [
      "Traceback (most recent call last):\n",
      "  File \"/usr/lib64/python2.7/site-packages/clawpack/riemann/__init__.py\", line 60, in <module>\n",
      "    import exner_1D\n",
      "ImportError: No module named exner_1D\n"
     ]
    }
   ],
   "source": [
    "import os,sys\n",
    "import csv\n",
    "import copy\n",
    "import math\n",
    "\n",
    "import matplotlib\n",
    "import matplotlib.pyplot as plt\n",
    "from clawpack import pyclaw\n",
    "from clawpack import riemann\n",
    "import numpy as np\n",
    "from scipy.integrate import simps, trapz\n",
    "\n",
    "sys.path.append(\"/home/pgrover/Dropbox/PhD/Morphodynamic_Model/pymorph\")\n",
    "from schemes.weno import get_left_flux,get_right_flux\n",
    "from schemes.weno import get_stencil\n",
    "\n",
    "from models.shallow_water_solver import shallow_solver\n",
    "from schemes.avalanche_scheme import *\n",
    "\n",
    "from matplotlib.collections import LineCollection\n",
    "from mpl_toolkits.mplot3d import Axes3D\n",
    "\n",
    "from IPython.display import display, Math, Latex\n",
    "\n",
    "%matplotlib inline\n",
    "%load_ext autoreload\n",
    "%autoreload 2"
   ]
  },
  {
   "cell_type": "markdown",
   "metadata": {},
   "source": [
    "#Long et. al. Gaussian Hump\n",
    "## Running with the Shallow Water Equations\n",
    "\n",
    "###October 21, 2015\n",
    "Starting to review this code and understand where I left off. I think what is left to do is check the Exner code against the analytical model shown in Long et al (2008). From what I can tell, I re-wrote the WENO scheme to match the scheme in the paper and I think it worked better but still need to verify that this the case. \n",
    "\n",
    "### August 15, 2016\n",
    "Now try this again using the WENO solver and also the 1-D SW Equations"
   ]
  },
  {
   "cell_type": "code",
   "execution_count": 34,
   "metadata": {},
   "outputs": [
    {
     "name": "stdout",
     "output_type": "stream",
     "text": [
      "Grid dx = 1.0\n",
      "Grid nx = 300\n",
      "Time step 1000 of 30000 - bed_max_delta 0.0225055394996\n",
      "Time step 2000 of 30000 - bed_max_delta 0.0116724150692\n",
      "Time step 3000 of 30000 - bed_max_delta 0.0231364833405\n",
      "Time step 4000 of 30000 - bed_max_delta 0.0155381910214\n",
      "Time step 5000 of 30000 - bed_max_delta 0.00106987853096\n",
      "Time step 6000 of 30000 - bed_max_delta 0.000325272128074\n",
      "Time step 7000 of 30000 - bed_max_delta 0.0285791195881\n",
      "Time step 8000 of 30000 - bed_max_delta 0.000429808069358\n",
      "Time step 9000 of 30000 - bed_max_delta 0.00708672299749\n",
      "Time step 10000 of 30000 - bed_max_delta 0.0162371892668\n",
      "Time step 11000 of 30000 - bed_max_delta 0.0078733755784\n",
      "Time step 12000 of 30000 - bed_max_delta 0.0145937222192\n",
      "Time step 13000 of 30000 - bed_max_delta 0.00681326874917\n",
      "Time step 14000 of 30000 - bed_max_delta 0.0155666811561\n",
      "Time step 15000 of 30000 - bed_max_delta 0.0156099252843\n",
      "Time step 16000 of 30000 - bed_max_delta 0.0212786935644\n",
      "Time step 17000 of 30000 - bed_max_delta 0.00933001428785\n",
      "Time step 18000 of 30000 - bed_max_delta 0.0259145842775\n",
      "Time step 19000 of 30000 - bed_max_delta 0.00230979721779\n",
      "Time step 20000 of 30000 - bed_max_delta 0.0150618020378\n",
      "Time step 21000 of 30000 - bed_max_delta 0.0236981235763\n",
      "Time step 22000 of 30000 - bed_max_delta 0.0232654045979\n",
      "Time step 23000 of 30000 - bed_max_delta 0.0146940989262\n",
      "Time step 24000 of 30000 - bed_max_delta 0.00683970935082\n",
      "Time step 25000 of 30000 - bed_max_delta 0.00642851342749\n",
      "Time step 26000 of 30000 - bed_max_delta 0.0222538598919\n",
      "Time step 27000 of 30000 - bed_max_delta 0.0159171900157\n",
      "Time step 28000 of 30000 - bed_max_delta 0.0107931771248\n",
      "Time step 29000 of 30000 - bed_max_delta 0.015183824594\n"
     ]
    },
    {
     "data": {
      "text/plain": [
       "[<matplotlib.lines.Line2D at 0x7ff5a58dde90>]"
      ]
     },
     "execution_count": 34,
     "metadata": {},
     "output_type": "execute_result"
    },
    {
     "data": {
      "image/png": "[encoded data removed]",
      "text/plain": [
       "<matplotlib.figure.Figure at 0x7ff5a6068690>"
      ]
     },
     "metadata": {},
     "output_type": "display_data"
    }
   ],
   "source": [
    "#--------------------------------\n",
    "# Set up the constants\n",
    "#--------------------------------\n",
    "a=0.001\n",
    "b=3.0\n",
    "Q=10.0\n",
    "nP=0.4\n",
    "xcentre = 150.  # Centre of hum\n",
    "h0 = 6.0        # Height of the dune\n",
    "s= 12.0            # Datum\n",
    "beta = 0.01\n",
    "\n",
    "#--------------------------------\n",
    "# Set up the domain, BCs and ICs\n",
    "#--------------------------------\n",
    "import logging\n",
    "logger = logging.getLogger('pyclaw')\n",
    "logger.setLevel(logging.CRITICAL)\n",
    "\n",
    "nx=300\n",
    "x = pyclaw.Dimension(0.0,300.0,nx,name='x')\n",
    "domain = pyclaw.Domain(x)\n",
    "state = pyclaw.State(domain,1)\n",
    "xc = state.grid.x.centers\n",
    "dx = state.grid.delta[0]\n",
    "print('Grid dx = {0}'.format(dx))\n",
    "print('Grid nx = {0}'.format(len(xc)))\n",
    "\n",
    " # Gravitational constant\n",
    "state.problem_data['grav'] = 9.8\n",
    "state.problem_data['sea_level'] = 0.0\n",
    "\n",
    "#--------------------------------\n",
    "# Set up the bathymetry\n",
    "#--------------------------------\n",
    "z = np.zeros(nx)\n",
    "# Eq 66 - Build the Gaussian Hump\n",
    "z = np.array([(h0 + 2.0*math.exp(-beta*(xp-xcentre)**2)) for xp in xc])\n",
    "zc = z.copy()\n",
    "z_hydro = z.copy()\n",
    "\n",
    "# Set up the inital state of the flow\n",
    "shw_slvr = shallow_solver(domain)\n",
    "u, surf,h = shw_slvr.run(zc,s)\n",
    "\n",
    "\n",
    "if np.isnan(u).any():\n",
    "    # Get the flow\n",
    "    print u\n",
    "    raise ValueError('Failed to calculate the flow')\n",
    "#--------------------------------\n",
    "# Initialize the sed transport \n",
    "#--------------------------------    \n",
    "# Eq 57\n",
    "qbedload = np.zeros(nx)\n",
    "roe_speed = np.zeros(nx)\n",
    "qbedload = a*u**b\n",
    "flux = np.zeros(nx)\n",
    "\n",
    "#--------------------------------\n",
    "#  Setup the model run parameters\n",
    "#--------------------------------\n",
    "simTime = 3000. # Runtime\n",
    "dt = 0.1 # Time step size (s)\n",
    "nt = int(simTime/dt)  # Number of time steps\n",
    "\n",
    "\n",
    "#--------------------------------\n",
    "# Set up the model reporting parameters\n",
    "#--------------------------------\n",
    "z0 = zc.copy() \n",
    "z600 = zc.copy() \n",
    "z2000 = zc.copy()\n",
    "verts = []\n",
    "\n",
    "extractionInterval = 100.\n",
    "tsteps=[]\n",
    "cntr = 0\n",
    "#--------------------------------\n",
    "#  Run the model\n",
    "#--------------------------------\n",
    "for n in range(1,nt):  \n",
    "    zn = zc.copy() \n",
    "    for i in range(0,nx): #i=2\n",
    "\n",
    "        zloc = get_stencil(zn,i-2,i+4)\n",
    "        \n",
    "        # Since k=3\n",
    "        # stencil is i-2 to i+2 \n",
    "        qloc = get_stencil(qbedload,i-2,i+4)\n",
    "        if len(qloc)<>6:\n",
    "            raise ValueError('Stencil is incorrect')\n",
    " \n",
    "        # Determine the Upwind flux\n",
    "        # The 0.5 comes from the c+abs(c) which is 2 if the wave speed is +ive\n",
    "        # this is the evaluation of the left and right based fluxes. Eq. 18 and 19\n",
    "        \n",
    "        if (zloc[3]-zloc[2]) == 0.0:\n",
    "            roe_speed[i]=np.sign( (qloc[3]-qloc[2]) )\n",
    "        else:\n",
    "            roe_speed[i]=np.sign( (qloc[3]-qloc[2])/ (zloc[3]-zloc[2]) )\n",
    "        \n",
    "        if roe_speed[i] >= 0.0:\n",
    "            flux[i] = get_left_flux(qloc)\n",
    "        else:\n",
    "            flux[i] = get_right_flux(qloc)\n",
    "        \n",
    "    # Need the sign of the phase speed\n",
    "    # Need to check this out\n",
    "    for i in range(0,nx): #i=2       \n",
    "        floc = get_stencil(flux,i-1,i+1)\n",
    "        zc[i] = zn[i]-(1./(1.-nP))*dt/dx*(floc[1]-floc[0])\n",
    "    \n",
    "    bed_max_delta = np.max(np.abs(z_hydro - zc))\n",
    "    \n",
    "    # Apply the avalanche model\n",
    "    zc,iterations = avalanche_model(dx,xc,zc)\n",
    "    #zc = z_updated.copy()\n",
    "    \n",
    "    # Re-run the solver and updated the sediment transport\n",
    "    # Check if the avalanche model was updated OR the bed changed greater than the threshold\n",
    "    if iterations > 0 or bed_max_delta > 0.05:\n",
    "        u, surf,h = shw_slvr.run(zc,s);\n",
    "        qbedload = a*u**b\n",
    "        z_hydro = zc.copy()\n",
    "        \n",
    "    cntr += 1\n",
    "    if cntr == 1000:\n",
    "        cntr = 0\n",
    "        print('Time step {0} of {1} - bed_max_delta {2}'.format(n,nt,bed_max_delta))\n",
    "\n",
    "plt.plot(xc,zc)\n",
    "    "
   ]
  },
  {
   "cell_type": "code",
   "execution_count": 35,
   "metadata": {
    "collapsed": true
   },
   "outputs": [],
   "source": [
    "from weno import get_exact_solution\n",
    "x_6000, z_a6000 = get_exact_solution(z0,xc, 0.4,s,a,b,10.,6000.)"
   ]
  },
  {
   "cell_type": "code",
   "execution_count": 36,
   "metadata": {},
   "outputs": [
    {
     "data": {
      "text/plain": [
       "<matplotlib.legend.Legend at 0x7ff5a5c3fd10>"
      ]
     },
     "execution_count": 36,
     "metadata": {},
     "output_type": "execute_result"
    },
    {
     "data": {
      "image/png": "[encoded data removed]",
      "text/plain": [
       "<matplotlib.figure.Figure at 0x7ff5a5fdf190>"
      ]
     },
     "metadata": {},
     "output_type": "display_data"
    }
   ],
   "source": [
    "fig = plt.figure(figsize=(8, 6))\n",
    "plt.plot(xc,z0,'k', label='t=0s') \n",
    "\n",
    "plt.plot(xc,zc, 'r', label='t=6000s')\n",
    "plt.plot(x_6000, z_a6000,'r--', label='t=6000s')\n",
    "\n",
    "plt.plot(xc, surf, 'b')\n",
    "\n",
    "plt.xlabel('x (m)')\n",
    "plt.ylabel('$z_b$ (m)')\n",
    "plt.xlim([120,210])\n",
    "plt.ylim([6,12.5])\n",
    "plt.legend(loc=2)"
   ]
  },
  {
   "cell_type": "code",
   "execution_count": 37,
   "metadata": {},
   "outputs": [
    {
     "data": {
      "text/plain": [
       "<matplotlib.legend.Legend at 0x7ff5a5b15750>"
      ]
     },
     "execution_count": 37,
     "metadata": {},
     "output_type": "execute_result"
    },
    {
     "data": {
      "image/png": "[encoded data removed]",
      "text/plain": [
       "<matplotlib.figure.Figure at 0x7ff5a5a0a790>"
      ]
     },
     "metadata": {},
     "output_type": "display_data"
    }
   ],
   "source": [
    "plt.plot(xc, surf, 'b', label='surface')\n",
    "plt.plot(xc, u, 'g', label='velocity')\n",
    "plt.plot(xc, h, 'k', label='depth')\n",
    "\n",
    "plt.xlim([120,210])\n",
    "plt.legend(loc=2)"
   ]
  },
  {
   "cell_type": "markdown",
   "metadata": {},
   "source": [
    "## Run 2 - Meyer-Peter-Muller Sediment Transport Equations\n",
    "\n",
    "Same as above but now we will swap the sediment transport equations from\n",
    "\n",
    "$Q_{bedload} = aU^b$\n",
    "\n",
    "to \n"
   ]
  },
  {
   "cell_type": "code",
   "execution_count": null,
   "metadata": {
    "collapsed": true
   },
   "outputs": [],
   "source": [
    "\n",
    "import cython\n",
    "%load_ext cython"
   ]
  },
  {
   "cell_type": "code",
   "execution_count": 87,
   "metadata": {},
   "outputs": [
    {
     "name": "stdout",
     "output_type": "stream",
     "text": [
      "Grid dx = 1.0\n",
      "Grid nx = 300\n",
      "Time step 1000 of 5000 - bed_max_delta 0.0268039179195\n",
      "Time step 2000 of 5000 - bed_max_delta 0.0117566954222\n",
      "Time step 3000 of 5000 - bed_max_delta 0.00563652766038\n",
      "Time step 4000 of 5000 - bed_max_delta 0.00892869454514\n",
      "Done\n"
     ]
    }
   ],
   "source": [
    "%%cython\n",
    "import sys\n",
    "from clawpack import pyclaw\n",
    "from clawpack import riemann\n",
    "import numpy as np\n",
    "import sed_trans\n",
    "\n",
    "sys.path.append(\"/home/pgrover/Dropbox/PhD/Morphodynamic_Model/pymorph\")\n",
    "from schemes.weno import get_left_flux,get_right_flux\n",
    "from schemes.weno import get_stencil\n",
    "\n",
    "from models.shallow_water_solver import shallow_solver\n",
    "from schemes.avalanche_scheme import *\n",
    "\n",
    "\n",
    "#--------------------------------\n",
    "# Set up the constants\n",
    "#--------------------------------\n",
    "a=0.001\n",
    "b=3.0\n",
    "Q=10.0\n",
    "nP=0.4\n",
    "xcentre = 150.  # Centre of hum\n",
    "h0 = 6.0        # Height of the dune\n",
    "s= 12.0         # Datum\n",
    "beta = 0.01\n",
    "\n",
    "# Sediment properties\n",
    "D50 = 0.001     # Particle Diameter\n",
    "rho_particule = 2650\n",
    "\n",
    "#--------------------------------\n",
    "# Set up the domain, BCs and ICs\n",
    "#--------------------------------\n",
    "import logging\n",
    "logger = logging.getLogger('pyclaw')\n",
    "logger.setLevel(logging.CRITICAL)\n",
    "\n",
    "nx=300\n",
    "x = pyclaw.Dimension(0.0,300.0,nx,name='x')\n",
    "domain = pyclaw.Domain(x)\n",
    "state = pyclaw.State(domain,1)\n",
    "xc = state.grid.x.centers\n",
    "dx = state.grid.delta[0]\n",
    "print('Grid dx = {0}'.format(dx))\n",
    "print('Grid nx = {0}'.format(len(xc)))\n",
    "\n",
    " # Gravitational constant\n",
    "state.problem_data['grav'] = 9.8\n",
    "state.problem_data['sea_level'] = 0.0\n",
    "\n",
    "#--------------------------------\n",
    "# Set up the bathymetry\n",
    "#--------------------------------\n",
    "z = np.zeros(nx)\n",
    "# Eq 66 - Build the Gaussian Hump\n",
    "z = np.array([(h0 + 2.0*math.exp(-beta*(xp-xcentre)**2)) for xp in xc])\n",
    "zc = z.copy()\n",
    "z_hydro = z.copy()\n",
    "\n",
    "# Set up the inital state of the flow\n",
    "shw_slvr = shallow_solver(domain)\n",
    "u, surf,h = shw_slvr.run(zc,s)\n",
    "\n",
    "\n",
    "if np.isnan(u).any():\n",
    "    # Get the flow\n",
    "    print u\n",
    "    raise ValueError('Failed to calculate the flow')\n",
    "#--------------------------------\n",
    "# Initialize the sed transport \n",
    "#--------------------------------    \n",
    "# Eq 57\n",
    "qbedload = np.zeros(nx)\n",
    "roe_speed = np.zeros(nx)\n",
    "qbedload = a*u**b\n",
    "flux = np.zeros(nx)\n",
    "\n",
    "#--------------------------------\n",
    "#  Setup the model run parameters\n",
    "#--------------------------------\n",
    "simTime = 10000. # Runtime in seconds\n",
    "dt = 2 # Time step size (s)\n",
    "nt = int(simTime/dt)  # Number of time steps\n",
    "\n",
    "\n",
    "#--------------------------------\n",
    "# Set up the model reporting parameters\n",
    "#--------------------------------\n",
    "z0 = zc.copy() \n",
    "z600 = zc.copy() \n",
    "z2000 = zc.copy()\n",
    "verts = []\n",
    "\n",
    "extractionInterval = 100.\n",
    "tsteps=[]\n",
    "cntr = 0\n",
    "#--------------------------------\n",
    "#  Run the model\n",
    "#--------------------------------\n",
    "for n in range(1,nt):  \n",
    "    zn = zc.copy() \n",
    "    for i in range(0,nx): #i=2\n",
    "\n",
    "        zloc = get_stencil(zn,i-2,i+4)\n",
    "        \n",
    "        # Since k=3\n",
    "        # stencil is i-2 to i+2 \n",
    "        qloc = get_stencil(qbedload,i-2,i+4)\n",
    "        if len(qloc)<>6:\n",
    "            raise ValueError('Stencil is incorrect')\n",
    " \n",
    "        # Determine the Upwind flux\n",
    "        # The 0.5 comes from the c+abs(c) which is 2 if the wave speed is +ive\n",
    "        # this is the evaluation of the left and right based fluxes. Eq. 18 and 19\n",
    "        \n",
    "        if (zloc[3]-zloc[2]) == 0.0:\n",
    "            roe_speed[i]=np.sign( (qloc[3]-qloc[2]) )\n",
    "        else:\n",
    "            roe_speed[i]=np.sign( (qloc[3]-qloc[2])/ (zloc[3]-zloc[2]) )\n",
    "        \n",
    "        if roe_speed[i] >= 0.0:\n",
    "            flux[i] = get_left_flux(qloc)\n",
    "        else:\n",
    "            flux[i] = get_right_flux(qloc)\n",
    "        \n",
    "    # Need the sign of the phase speed\n",
    "    # Need to check this out\n",
    "    for i in range(0,nx): #i=2       \n",
    "        floc = get_stencil(flux,i-1,i+1)\n",
    "        zc[i] = zn[i]-(1./(1.-nP))*dt/dx*(floc[1]-floc[0])\n",
    "    \n",
    "    bed_max_delta = np.max(np.abs(z_hydro - zc))\n",
    "    \n",
    "    # Apply the avalanche model\n",
    "    zc,iterations = avalanche_model(dx,xc,zc)\n",
    "    #zc = z_updated.copy()\n",
    "    \n",
    "    # Re-run the solver and updated the sediment transport\n",
    "    # Check if the avalanche model was updated OR the bed changed greater than the threshold\n",
    "    if iterations > 2 or bed_max_delta > 0.05:\n",
    "        u, surf,h = shw_slvr.run(zc,s)\n",
    "        for i in range(0,nx): #i=2    \n",
    "            zlocal = get_stencil(zn,i-2,i+2)\n",
    "            slope = (zlocal[3]-zlocal[1]) / dx\n",
    "            qbedload[i] = sed_trans.get_unit_bed_load2(h[i],u[i],D50,rho_particule,'mpm') \n",
    "        z_hydro = zc.copy()\n",
    "    \n",
    "    if (n*dt / extractionInterval) == math.floor(n*dt / extractionInterval):\n",
    "        verts.append(list(zip(xc.copy(),zc.copy())))\n",
    "        tsteps.append(n*dt)\n",
    "        \n",
    "    cntr += 1\n",
    "    if cntr == 1000:\n",
    "        cntr = 0\n",
    "        print('Time step {0} of {1} - bed_max_delta {2}'.format(n,nt,bed_max_delta))    \n",
    "        \n",
    "print('Done')"
   ]
  },
  {
   "cell_type": "code",
   "execution_count": 88,
   "metadata": {},
   "outputs": [
    {
     "data": {
      "text/plain": [
       "<matplotlib.legend.Legend at 0x7ff5a10e9210>"
      ]
     },
     "execution_count": 88,
     "metadata": {},
     "output_type": "execute_result"
    },
    {
     "data": {
      "image/png": "[encoded data removed]",
      "text/plain": [
       "<matplotlib.figure.Figure at 0x7ff5a10f8cd0>"
      ]
     },
     "metadata": {},
     "output_type": "display_data"
    }
   ],
   "source": [
    "fig = plt.figure(figsize=(8, 6))\n",
    "plt.plot(xc,z0,'k', label='t=0s') \n",
    "\n",
    "plt.plot(xc,zc, 'r', label='t=6000s')\n",
    "plt.plot(x_6000, z_a6000,'r--', label='t=6000s')\n",
    "\n",
    "plt.plot(xc, surf, 'b')\n",
    "\n",
    "plt.xlabel('x (m)')\n",
    "plt.ylabel('$z_b$ (m)')\n",
    "plt.xlim([120,210])\n",
    "plt.ylim([6,12.5])\n",
    "plt.legend(loc=2)"
   ]
  },
  {
   "cell_type": "code",
   "execution_count": 66,
   "metadata": {},
   "outputs": [
    {
     "data": {
      "text/plain": [
       "[<matplotlib.lines.Line2D at 0x7ff5a4bfb550>]"
      ]
     },
     "execution_count": 66,
     "metadata": {},
     "output_type": "execute_result"
    },
    {
     "data": {
      "image/png": "[encoded data removed]",
      "text/plain": [
       "<matplotlib.figure.Figure at 0x7ff5a4bfb4d0>"
      ]
     },
     "metadata": {},
     "output_type": "display_data"
    }
   ],
   "source": [
    "plt.plot(xc,qbedload*1000)\n",
    "plt.plot(xc,u)\n"
   ]
  },
  {
   "cell_type": "code",
   "execution_count": 84,
   "metadata": {},
   "outputs": [
    {
     "data": {
      "text/plain": [
       "1.7587782252803663e-07"
      ]
     },
     "execution_count": 84,
     "metadata": {},
     "output_type": "execute_result"
    }
   ],
   "source": [
    "slope"
   ]
  },
  {
   "cell_type": "markdown",
   "metadata": {},
   "source": [
    "## Now account for the influence of the bed slope on the sediment transport\n"
   ]
  },
  {
   "cell_type": "code",
   "execution_count": 1,
   "metadata": {},
   "outputs": [
    {
     "ename": "NameError",
     "evalue": "name 'pyclaw' is not defined",
     "traceback": [
      "\u001b[1;31m---------------------------------------------------------------------------\u001b[0m",
      "\u001b[1;31mNameError\u001b[0m                                 Traceback (most recent call last)",
      "\u001b[1;32m<ipython-input-1-feb0b60efe5e>\u001b[0m in \u001b[0;36m<module>\u001b[1;34m()\u001b[0m\n\u001b[0;32m     23\u001b[0m \u001b[1;33m\u001b[0m\u001b[0m\n\u001b[0;32m     24\u001b[0m \u001b[0mnx\u001b[0m\u001b[1;33m=\u001b[0m\u001b[1;36m300\u001b[0m\u001b[1;33m\u001b[0m\u001b[0m\n\u001b[1;32m---> 25\u001b[1;33m \u001b[0mx\u001b[0m \u001b[1;33m=\u001b[0m \u001b[0mpyclaw\u001b[0m\u001b[1;33m.\u001b[0m\u001b[0mDimension\u001b[0m\u001b[1;33m(\u001b[0m\u001b[1;36m0.0\u001b[0m\u001b[1;33m,\u001b[0m\u001b[1;36m300.0\u001b[0m\u001b[1;33m,\u001b[0m\u001b[0mnx\u001b[0m\u001b[1;33m,\u001b[0m\u001b[0mname\u001b[0m\u001b[1;33m=\u001b[0m\u001b[1;34m'x'\u001b[0m\u001b[1;33m)\u001b[0m\u001b[1;33m\u001b[0m\u001b[0m\n\u001b[0m\u001b[0;32m     26\u001b[0m \u001b[0mdomain\u001b[0m \u001b[1;33m=\u001b[0m \u001b[0mpyclaw\u001b[0m\u001b[1;33m.\u001b[0m\u001b[0mDomain\u001b[0m\u001b[1;33m(\u001b[0m\u001b[0mx\u001b[0m\u001b[1;33m)\u001b[0m\u001b[1;33m\u001b[0m\u001b[0m\n\u001b[0;32m     27\u001b[0m \u001b[0mstate\u001b[0m \u001b[1;33m=\u001b[0m \u001b[0mpyclaw\u001b[0m\u001b[1;33m.\u001b[0m\u001b[0mState\u001b[0m\u001b[1;33m(\u001b[0m\u001b[0mdomain\u001b[0m\u001b[1;33m,\u001b[0m\u001b[1;36m1\u001b[0m\u001b[1;33m)\u001b[0m\u001b[1;33m\u001b[0m\u001b[0m\n",
      "\u001b[1;31mNameError\u001b[0m: name 'pyclaw' is not defined"
     ],
     "output_type": "error"
    }
   ],
   "source": [
    "#--------------------------------\n",
    "# Set up the constants\n",
    "#--------------------------------\n",
    "a=0.001\n",
    "b=3.0\n",
    "Q=10.0\n",
    "nP=0.4\n",
    "xcentre = 150.  # Centre of hum\n",
    "h0 = 6.0        # Height of the dune\n",
    "s= 12.0         # Datum\n",
    "beta = 0.01\n",
    "\n",
    "# Sediment properties\n",
    "D50 = 0.001     # Particle Diameter\n",
    "rho_particule = 1650\n",
    "\n",
    "#--------------------------------\n",
    "# Set up the domain, BCs and ICs\n",
    "#--------------------------------\n",
    "import logging\n",
    "logger = logging.getLogger('pyclaw')\n",
    "logger.setLevel(logging.CRITICAL)\n",
    "\n",
    "nx=300\n",
    "x = pyclaw.Dimension(0.0,300.0,nx,name='x')\n",
    "domain = pyclaw.Domain(x)\n",
    "state = pyclaw.State(domain,1)\n",
    "xc = state.grid.x.centers\n",
    "dx = state.grid.delta[0]\n",
    "print('Grid dx = {0}'.format(dx))\n",
    "print('Grid nx = {0}'.format(len(xc)))\n",
    "\n",
    " # Gravitational constant\n",
    "state.problem_data['grav'] = 9.8\n",
    "state.problem_data['sea_level'] = 0.0\n",
    "\n",
    "#--------------------------------\n",
    "# Set up the bathymetry\n",
    "#--------------------------------\n",
    "z = np.zeros(nx)\n",
    "# Eq 66 - Build the Gaussian Hump\n",
    "z = np.array([(h0 + 2.0*math.exp(-beta*(xp-xcentre)**2)) for xp in xc])\n",
    "zc = z.copy()\n",
    "z_hydro = z.copy()\n",
    "\n",
    "# Set up the inital state of the flow\n",
    "shw_slvr = shallow_solver(domain)\n",
    "u, surf,h = shw_slvr.run(zc,s)\n",
    "\n",
    "\n",
    "if np.isnan(u).any():\n",
    "    # Get the flow\n",
    "    print u\n",
    "    raise ValueError('Failed to calculate the flow')\n",
    "#--------------------------------\n",
    "# Initialize the sed transport \n",
    "#--------------------------------    \n",
    "# Eq 57\n",
    "qbedload = np.zeros(nx)\n",
    "roe_speed = np.zeros(nx)\n",
    "qbedload = a*u**b\n",
    "flux = np.zeros(nx)\n",
    "\n",
    "#--------------------------------\n",
    "#  Setup the model run parameters\n",
    "#--------------------------------\n",
    "simTime = 20000. # Runtime in seconds\n",
    "dt = 10 # Time step size (s)\n",
    "nt = int(simTime/dt)  # Number of time steps\n",
    "\n",
    "\n",
    "#--------------------------------\n",
    "# Set up the model reporting parameters\n",
    "#--------------------------------\n",
    "z0 = zc.copy() \n",
    "z600 = zc.copy() \n",
    "z2000 = zc.copy()\n",
    "verts = []\n",
    "\n",
    "extractionInterval = 100.\n",
    "tsteps=[]\n",
    "cntr = 0\n",
    "#--------------------------------\n",
    "#  Run the model\n",
    "#--------------------------------\n",
    "for n in range(1,nt):  \n",
    "    zn = zc.copy() \n",
    "    for i in range(0,nx): #i=2\n",
    "\n",
    "        zloc = get_stencil(zn,i-2,i+4)\n",
    "        \n",
    "        # Since k=3\n",
    "        # stencil is i-2 to i+2 \n",
    "        qloc = get_stencil(qbedload,i-2,i+4)\n",
    "        if len(qloc)<>6:\n",
    "            raise ValueError('Stencil is incorrect')\n",
    " \n",
    "        # Determine the Upwind flux\n",
    "        # The 0.5 comes from the c+abs(c) which is 2 if the wave speed is +ive\n",
    "        # this is the evaluation of the left and right based fluxes. Eq. 18 and 19\n",
    "        \n",
    "        if (zloc[3]-zloc[2]) == 0.0:\n",
    "            roe_speed[i]=np.sign( (qloc[3]-qloc[2]) )\n",
    "        else:\n",
    "            roe_speed[i]=np.sign( (qloc[3]-qloc[2])/ (zloc[3]-zloc[2]) )\n",
    "        \n",
    "        if roe_speed[i] >= 0.0:\n",
    "            flux[i] = get_left_flux(qloc)\n",
    "        else:\n",
    "            flux[i] = get_right_flux(qloc)\n",
    "        \n",
    "    # Need the sign of the phase speed\n",
    "    # Need to check this out\n",
    "    for i in range(0,nx): #i=2       \n",
    "        floc = get_stencil(flux,i-1,i+1)\n",
    "        zc[i] = zn[i]-(1./(1.-nP))*dt/dx*(floc[1]-floc[0])\n",
    "    \n",
    "    bed_max_delta = np.max(np.abs(z_hydro - zc))\n",
    "    \n",
    "    # Apply the avalanche model\n",
    "    zc,iterations = avalanche_model(dx,xc,zc)\n",
    "    #zc = z_updated.copy()\n",
    "    \n",
    "    # Re-run the solver and updated the sediment transport\n",
    "    # Check if the avalanche model was updated OR the bed changed greater than the threshold\n",
    "    if iterations > 10 or bed_max_delta > 0.01:\n",
    "        u, surf,h = shw_slvr.run(zc,s)\n",
    "    # Remove the old method \n",
    "    #qbedload = a*u**b\n",
    "\n",
    "    for i in range(0,nx): #i=2        \n",
    "        qbedload[i] = sed_trans.get_unit_bed_load2(h[i],u[i],D50,rho_particule,'mpm')\n",
    "    z_hydro = zc.copy()\n",
    "    \n",
    "    if (n*dt / extractionInterval) == math.floor(n*dt / extractionInterval):\n",
    "        verts.append(list(zip(xc.copy(),zc.copy())))\n",
    "        tsteps.append(n*dt)\n",
    "        \n",
    "    cntr += 1\n",
    "    if cntr == 1000:\n",
    "        cntr = 0\n",
    "        print('Time step {0} of {1} - bed_max_delta {2}'.format(n,nt,bed_max_delta))    \n",
    "        \n",
    "print('Done')"
   ]
  },
  {
   "cell_type": "code",
   "execution_count": 33,
   "metadata": {},
   "outputs": [
    {
     "data": {
      "text/plain": [
       "<matplotlib.legend.Legend at 0x7ff5a6037e10>"
      ]
     },
     "execution_count": 33,
     "metadata": {},
     "output_type": "execute_result"
    },
    {
     "data": {
      "image/png": "[encoded data removed]",
      "text/plain": [
       "<matplotlib.figure.Figure at 0x7ff5a5a58d10>"
      ]
     },
     "metadata": {},
     "output_type": "display_data"
    }
   ],
   "source": [
    "fig = plt.figure(figsize=(8, 6))\n",
    "plt.plot(xc,z0,'k', label='t=0s') \n",
    "\n",
    "plt.plot(xc,zc, 'r', label='t=6000s')\n",
    "plt.plot(x_6000, z_a6000,'r--', label='t=6000s')\n",
    "\n",
    "plt.plot(xc, surf, 'b')\n",
    "\n",
    "plt.xlabel('x (m)')\n",
    "plt.ylabel('$z_b$ (m)')\n",
    "plt.xlim([120,210])\n",
    "plt.ylim([6,12.5])\n",
    "plt.legend(loc=2)"
   ]
  },
  {
   "cell_type": "code",
   "execution_count": 96,
   "metadata": {},
   "outputs": [
    {
     "ename": "ImportError",
     "evalue": "cannot import name get_unit_bed_load_slope",
     "traceback": [
      "\u001b[1;31m---------------------------------------------------------------------------\u001b[0m",
      "\u001b[1;31mImportError\u001b[0m                               Traceback (most recent call last)",
      "\u001b[1;32m<ipython-input-96-6f9468c4b66c>\u001b[0m in \u001b[0;36m<module>\u001b[1;34m()\u001b[0m\n\u001b[1;32m----> 1\u001b[1;33m \u001b[1;32mfrom\u001b[0m \u001b[0msed_trans\u001b[0m \u001b[1;32mimport\u001b[0m \u001b[0mget_unit_bed_load_slope\u001b[0m\u001b[1;33m\u001b[0m\u001b[0m\n\u001b[0m",
      "\u001b[1;31mImportError\u001b[0m: cannot import name get_unit_bed_load_slope"
     ],
     "output_type": "error"
    }
   ],
   "source": [
    "from sed_trans import get_unit_bed_load_slope"
   ]
  },
  {
   "cell_type": "code",
   "execution_count": null,
   "metadata": {
    "collapsed": true
   },
   "outputs": [],
   "source": []
  }
 ],
 "metadata": {
  "kernelspec": {
   "display_name": "Python 3",
   "language": "python",
   "name": "python3"
  },
  "language_info": {
   "codemirror_mode": {
    "name": "ipython",
    "version": 3
   },
   "file_extension": ".py",
   "mimetype": "text/x-python",
   "name": "python",
   "nbconvert_exporter": "python",
   "pygments_lexer": "ipython3",
   "version": "3.6.5"
  }
 },
 "nbformat": 4,
 "nbformat_minor": 1
}
