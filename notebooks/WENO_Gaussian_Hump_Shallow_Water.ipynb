{
 "cells": [
  {
   "cell_type": "code",
   "execution_count": 1,
   "metadata": {
    "collapsed": false
   },
   "outputs": [
    {
     "name": "stdout",
     "output_type": "stream",
     "text": [
      "********************************************************************\n",
      "Warning: Some Riemannn solvers were not able to be imported.\n",
      " Did you run \"pip install\" in your clawpack directory?\n",
      "********************************************************************\n"
     ]
    },
    {
     "name": "stderr",
     "output_type": "stream",
     "text": [
      "Traceback (most recent call last):\n",
      "  File \"/usr/lib64/python2.7/site-packages/clawpack/riemann/__init__.py\", line 60, in <module>\n",
      "    import exner_1D\n",
      "ImportError: No module named exner_1D\n"
     ]
    }
   ],
   "source": [
    "import os,sys\n",
    "import csv\n",
    "import copy\n",
    "import math\n",
    "\n",
    "import matplotlib\n",
    "import matplotlib.pyplot as plt\n",
    "from clawpack import pyclaw\n",
    "from clawpack import riemann\n",
    "import numpy as np\n",
    "\n",
    "from scipy.integrate import simps, trapz\n",
    "\n",
    "sys.path.append(\"/home/pgrover/Dropbox/PhD/Morphodynamic_Model/pymorph\")\n",
    "from weno import get_left_flux,get_right_flux\n",
    "from weno import get_stencil\n",
    "from shallow_water_solver import shallow_solver\n",
    "from avalanche_scheme import *\n",
    "from matplotlib.collections import LineCollection\n",
    "from mpl_toolkits.mplot3d import Axes3D\n",
    "\n",
    "from IPython.display import display, Math, Latex\n",
    "\n",
    "%matplotlib inline\n",
    "%load_ext autoreload\n",
    "%autoreload 2"
   ]
  },
  {
   "cell_type": "markdown",
   "metadata": {},
   "source": [
    "# Section 4 - An initial hump in unidirectional flow\n",
    "\n",
    "The following is a simple test using the Gaussian Hump using the avalanche model. Typically I ran it once without the avalanche model and then again with the avalanche model to get an idea of the difference.\n",
    "\n",
    "Again the eq. numbers referenced below are from: Long et al. (2008)\n",
    "\n",
    "This test assumes that the sediment transport rate $q_{bed}$ is a power function of the current speed (e.g. Grass 1981) along with a steady flow in the channel and a rigid lid.\n",
    "\n",
    "$q_{bed}=au^b$\n",
    "\n",
    "$u=Q/h$\n",
    "\n",
    "$h = s - z_b$\n",
    "\n",
    "where $s$ is the datum, $a$ and $b$ are constants and $h$ is the water depth.\n",
    "\n",
    "For the example in Section 4 in Long et al. (2008) the following values are used:"
   ]
  },
  {
   "cell_type": "markdown",
   "metadata": {},
   "source": [
    "### Model constants"
   ]
  },
  {
   "cell_type": "code",
   "execution_count": 2,
   "metadata": {
    "collapsed": true
   },
   "outputs": [],
   "source": [
    "# Set up the constants\n",
    "\n",
    "a=0.001\n",
    "b=3.0\n",
    "Q=10.0\n",
    "nP=0.4\n",
    "xcentre = 150.  # Centre of hum\n",
    "h0 = 6.0        # Height of the dune\n",
    "s= 12.0            # Datum\n",
    "beta = 0.01"
   ]
  },
  {
   "cell_type": "markdown",
   "metadata": {},
   "source": [
    "###Setup###\n",
    "Setup the Mesh, Boundary and Initial Conditions"
   ]
  },
  {
   "cell_type": "code",
   "execution_count": 10,
   "metadata": {
    "collapsed": false
   },
   "outputs": [
    {
     "name": "stdout",
     "output_type": "stream",
     "text": [
      "Grid dx = 1.0\n",
      "Grid nx = 300\n"
     ]
    },
    {
     "data": {
      "text/plain": [
       "<matplotlib.text.Text at 0x7eff8c5a4390>"
      ]
     },
     "execution_count": 10,
     "metadata": {},
     "output_type": "execute_result"
    },
    {
     "data": {
      "image/png": "[encoded data removed]",
      "text/plain": [
       "<matplotlib.figure.Figure at 0x7eff8d3a0a10>"
      ]
     },
     "metadata": {},
     "output_type": "display_data"
    }
   ],
   "source": [
    "nx=300\n",
    "x = pyclaw.Dimension(0.0,300.0,nx,name='x')\n",
    "domain = pyclaw.Domain(x)\n",
    "state = pyclaw.State(domain,1)\n",
    "xc = state.grid.x.centers\n",
    "dx = state.grid.delta[0]\n",
    "print('Grid dx = {0}'.format(dx))\n",
    "print('Grid nx = {0}'.format(len(xc)))\n",
    "\n",
    "# Set up the bathymetry\n",
    "z = np.zeros(nx)\n",
    "# Eq 66\n",
    "z = np.array([(h0 + 2.0*math.exp(-beta*(xp-xcentre)**2)) for xp in xc])\n",
    "zc = z.copy()\n",
    "\n",
    "# Eq 59\n",
    "h = np.zeros(nx)\n",
    "h = s - zc\n",
    "# Eq 58\n",
    "u = np.zeros(nx)\n",
    "u = Q/h\n",
    "# Eq 57\n",
    "qbedload = np.zeros(nx)\n",
    "roe_speed = np.zeros(nx)\n",
    "qbedload = a*u**b\n",
    "\n",
    "flux = np.zeros(nx)\n",
    "\n",
    "surf = np.ones(nx) * s\n",
    "\n",
    "fig = plt.figure(figsize=(12, 4)) \n",
    "plt.subplot(1,2,1)\n",
    "plt.plot(xc,z,'r') \n",
    "plt.plot(xc,surf,'b')\n",
    "plt.ylim([0,15])\n",
    "plt.title('Dune Profile')\n",
    "plt.subplot(1,2,2)\n",
    "plt.plot(xc,h,'b')  \n",
    "plt.title('Water Depth - $h$')"
   ]
  },
  {
   "cell_type": "markdown",
   "metadata": {},
   "source": [
    "### Simple Upwinding (First Order Time and Space)\n",
    "\n",
    "Set up the model and run. This looks like simple upwinding. "
   ]
  },
  {
   "cell_type": "code",
   "execution_count": 11,
   "metadata": {
    "collapsed": false
   },
   "outputs": [
    {
     "name": "stdout",
     "output_type": "stream",
     "text": [
      "Extracting\n",
      "Done\n"
     ]
    },
    {
     "data": {
      "image/png": "[encoded data removed]",
      "text/plain": [
       "<matplotlib.figure.Figure at 0x7eff8cfdc350>"
      ]
     },
     "metadata": {},
     "output_type": "display_data"
    }
   ],
   "source": [
    "import math\n",
    "simTime = 2000. # Runtime\n",
    "dt = 0.1 # Time step size (s)\n",
    "nt = int(simTime/dt)  # Number of time steps\n",
    "\n",
    "\n",
    "z0 = zc.copy() \n",
    "z600 = zc.copy() \n",
    "verts = []\n",
    "\n",
    "extractionInterval = 100.\n",
    "tsteps=[]\n",
    "\n",
    "# Each time-step\n",
    "for n in range(1,nt):  \n",
    "    zn = zc.copy() \n",
    "    # Now iterate over the domain\n",
    "    for i in range(0,nx): \n",
    "        #i=2\n",
    "        # xloc = xc[i-(k-1):i+k]\n",
    "        #xloc = get_stencil(xc,i-(k-1),i+k+1) #i+k-1-(i-(k-1)-1) = 2k -1 \n",
    "        zloc = get_stencil(zn,i-2,i+4)\n",
    "        #print xloc\n",
    "        #raise ValueError()\n",
    "        \n",
    "        # Since k=3\n",
    "        # stencil is i-2 to i+2 \n",
    "        qloc = get_stencil(qbedload,i-2,i+4)\n",
    "        if len(qloc)<>6:\n",
    "            raise ValueError('Stencil is incorrect')\n",
    " \n",
    "        #f_left,f_right = ENO(xloc,qloc,k)\n",
    "        #f_left,f_right = WENO(xloc,qloc,k)\n",
    "        \n",
    "        \n",
    "        #upwind flux\n",
    "        # The 0.5 comes from the c+abs(c) which is 2 if the wave speed is +ive\n",
    "        # this is the evaluation of the left and right based fluxes. Eq. 18 and 19\n",
    "        \n",
    "        if (zloc[3]-zloc[2]) == 0.0:\n",
    "            roe_speed[i]=np.sign( (qloc[3]-qloc[2]) )\n",
    "        else:\n",
    "            roe_speed[i]=np.sign( (qloc[3]-qloc[2])/ (zloc[3]-zloc[2]) )\n",
    "        \n",
    "        if roe_speed[i] >= 0.0:\n",
    "            flux[i] = get_left_flux(qloc)\n",
    "        else:\n",
    "            flux[i] = get_right_flux(qloc)\n",
    "        \n",
    "    # Need the sign of the phase speed\n",
    "    # Need to check this out\n",
    "\n",
    "    for i in range(0,nx): #i=2       \n",
    "        floc = get_stencil(flux,i-1,i+1)\n",
    "        # This is essentially eq. 8. \n",
    "        zc[i] = zn[i]-(1./(1.-nP))*(dt/(2.0*dx))*(floc[1]-floc[0])\n",
    "    \n",
    "    # Apply the avalanche model\n",
    "    #zc,iterations = avalanche_model(dx,xc,zc)\n",
    "    #zc = z_updated.copy()\n",
    "        \n",
    "    # Update the flow depth, velocity and bedload\n",
    "    h = s - zc\n",
    "    u = Q/h\n",
    "    qbedload = a*u**b\n",
    "    \n",
    "    if (n*dt==600):\n",
    "        print 'Extracting'\n",
    "        z600 = zc.copy() \n",
    "    if (n*dt / extractionInterval) == math.floor(n*dt / extractionInterval):\n",
    "        verts.append(list(zip(xc.copy(),zc.copy())))\n",
    "        tsteps.append(n*dt)\n",
    "    \n",
    "print 'Done'\n",
    "lines = LineCollection(verts)\n",
    "fig = plt.figure(figsize=(8, 6))\n",
    "ax = fig.gca(projection='3d')\n",
    "lines.set_alpha(0.7)\n",
    "ax.add_collection3d(lines, zs=tsteps, zdir='y')\n",
    "ax.set_xlim3d(0, 300)\n",
    "ax.set_zlim3d(6, 12)\n",
    "ax.set_ylim3d(0, 2000)\n",
    "ax.set_zlabel('$z_b$')\n",
    "ax.set_ylabel('$t(sec)$')\n",
    "ax.set_xlabel('$x(m)$')\n",
    "\n",
    "#view_init(elev=None, azim=None)\n",
    "ax.view_init(70, -75)"
   ]
  },
  {
   "cell_type": "markdown",
   "metadata": {},
   "source": [
    "### Results\n",
    "\n",
    "Comparing the results from the simple upwinding model for t=600 and 2000 s we see that our model appears to be moving a little to slow. The creast of the dune should be around 175 m however in this model it is approximately 170 m. "
   ]
  },
  {
   "cell_type": "code",
   "execution_count": 74,
   "metadata": {
    "collapsed": false
   },
   "outputs": [
    {
     "data": {
      "text/plain": [
       "((300,), (149,))"
      ]
     },
     "execution_count": 74,
     "metadata": {},
     "output_type": "execute_result"
    }
   ],
   "source": [
    "from weno import get_exact_solution\n",
    "x_600, z_a600 = get_exact_solution(z0,xc, 0.4,s,a,b,10.,600.)\n",
    "x_2000, z_a2000 = get_exact_solution(z0,xc, 0.4,s,a,b,10.,1500.)\n",
    "np.shape(x_a),np.shape(z_a600)"
   ]
  },
  {
   "cell_type": "code",
   "execution_count": 75,
   "metadata": {
    "collapsed": false
   },
   "outputs": [
    {
     "data": {
      "text/plain": [
       "<matplotlib.legend.Legend at 0x7eff85d66990>"
      ]
     },
     "execution_count": 75,
     "metadata": {},
     "output_type": "execute_result"
    },
    {
     "data": {
      "image/png": "[encoded data removed]",
      "text/plain": [
       "<matplotlib.figure.Figure at 0x7eff85ea5410>"
      ]
     },
     "metadata": {},
     "output_type": "display_data"
    }
   ],
   "source": [
    "plt.plot(xc,z0,'r', label='t=0s') \n",
    "plt.plot(xc,z600,'g', label='t=600s')\n",
    "plt.plot(x_600, z_a600,'g--', label='t=600s')\n",
    "plt.plot(xc,zc, label='t=2000s')\n",
    "plt.plot(x_2000, z_a2000,'b--', label='t=2000s')\n",
    "plt.xlabel('x (m)')\n",
    "plt.ylabel('$z_b$ (m)')\n",
    "plt.xlim([120,190])\n",
    "plt.ylim([6,6+2.5])\n",
    "plt.legend(loc=2)"
   ]
  },
  {
   "cell_type": "code",
   "execution_count": 140,
   "metadata": {
    "collapsed": false
   },
   "outputs": [
    {
     "name": "stdout",
     "output_type": "stream",
     "text": [
      "-38.8029704419 4.85776108861\n"
     ]
    }
   ],
   "source": [
    "slopes = np.zeros(len(zc))\n",
    "for i in range(len(xc)):\n",
    "        zloc = get_stencil(zc,i,i+2)\n",
    "        slopes[i] =get_slope(dx, zloc)\n",
    "print min(slopes),max(slopes)\n"
   ]
  },
  {
   "cell_type": "code",
   "execution_count": 4,
   "metadata": {
    "collapsed": false
   },
   "outputs": [
    {
     "ename": "NameError",
     "evalue": "name 'zc_no_avalanche' is not defined",
     "output_type": "error",
     "traceback": [
      "\u001b[1;31m---------------------------------------------------------------------------\u001b[0m",
      "\u001b[1;31mNameError\u001b[0m                                 Traceback (most recent call last)",
      "\u001b[1;32m<ipython-input-4-9c1f0c8eb20e>\u001b[0m in \u001b[0;36m<module>\u001b[1;34m()\u001b[0m\n\u001b[1;32m----> 1\u001b[1;33m \u001b[0mplt\u001b[0m\u001b[1;33m.\u001b[0m\u001b[0mplot\u001b[0m\u001b[1;33m(\u001b[0m\u001b[0mxc\u001b[0m\u001b[1;33m,\u001b[0m\u001b[0mzc_no_avalanche\u001b[0m\u001b[1;33m)\u001b[0m\u001b[1;33m\u001b[0m\u001b[0m\n\u001b[0m\u001b[0;32m      2\u001b[0m \u001b[0mplt\u001b[0m\u001b[1;33m.\u001b[0m\u001b[0mplot\u001b[0m\u001b[1;33m(\u001b[0m\u001b[0mxc\u001b[0m\u001b[1;33m,\u001b[0m\u001b[0mzc\u001b[0m\u001b[1;33m,\u001b[0m\u001b[1;34m'r'\u001b[0m\u001b[1;33m)\u001b[0m\u001b[1;33m\u001b[0m\u001b[0m\n\u001b[0;32m      3\u001b[0m \u001b[0mplt\u001b[0m\u001b[1;33m.\u001b[0m\u001b[0mxlim\u001b[0m\u001b[1;33m(\u001b[0m\u001b[1;33m[\u001b[0m\u001b[1;36m140\u001b[0m\u001b[1;33m,\u001b[0m\u001b[1;36m190\u001b[0m\u001b[1;33m]\u001b[0m\u001b[1;33m)\u001b[0m\u001b[1;33m\u001b[0m\u001b[0m\n",
      "\u001b[1;31mNameError\u001b[0m: name 'zc_no_avalanche' is not defined"
     ]
    }
   ],
   "source": [
    "plt.plot(xc,zc_no_avalanche)\n",
    "plt.plot(xc,zc,'r')\n",
    "plt.xlim([140,190])"
   ]
  },
  {
   "cell_type": "markdown",
   "metadata": {},
   "source": [
    "## Running with the Shallow Water Equations\n",
    "\n",
    "###October 21, 2015\n",
    "Starting to review this code and understand where I left off. I think what is left to do is check the Exner code against the analytical model shown in Long et al (2008). From what I can tell, I re-wrote the WENO scheme to match the scheme in the paper and I think it worked better but still need to verify that this the case. "
   ]
  },
  {
   "cell_type": "code",
   "execution_count": 32,
   "metadata": {
    "collapsed": false
   },
   "outputs": [
    {
     "name": "stdout",
     "output_type": "stream",
     "text": [
      "Time step 10 of 1000 - bed_max_delta 0.0444460687248\n",
      "Time step 20 of 1000 - bed_max_delta 0.0372965125929\n",
      "Time step 30 of 1000 - bed_max_delta 0.0341526704662\n",
      "Time step 40 of 1000 - bed_max_delta 0.0311817679711\n",
      "Time step 50 of 1000 - bed_max_delta 0.0328955115822\n",
      "Time step 60 of 1000 - bed_max_delta 0.0343726810987\n",
      "Time step 70 of 1000 - bed_max_delta 0.0421565066984\n",
      "Time step 80 of 1000 - bed_max_delta 0.0515285394164\n",
      "Time step 90 of 1000 - bed_max_delta 0.0142077962554\n",
      "Time step 100 of 1000 - bed_max_delta 0.0295001109487\n",
      "Time step 110 of 1000 - bed_max_delta 0.0555120183104\n",
      "Time step 120 of 1000 - bed_max_delta 0.03695859965\n",
      "Time step 130 of 1000 - bed_max_delta 0.0300520078452\n",
      "Time step 140 of 1000 - bed_max_delta 0.0337986814058\n",
      "Time step 150 of 1000 - bed_max_delta 0.0514866036578\n",
      "Time step 160 of 1000 - bed_max_delta 0.0129696962476\n",
      "Time step 170 of 1000 - bed_max_delta 0.0471068535691\n",
      "Time step 180 of 1000 - bed_max_delta 0.0141112313763\n",
      "Time step 190 of 1000 - bed_max_delta 0.0483095970368\n",
      "Time step 200 of 1000 - bed_max_delta 0.0568992609021\n",
      "Time step 210 of 1000 - bed_max_delta 0.0496854846568\n",
      "Time step 220 of 1000 - bed_max_delta 0.0367099233643\n",
      "Time step 230 of 1000 - bed_max_delta 0.0212414634832\n",
      "Time step 240 of 1000 - bed_max_delta 0.0186980528405\n",
      "Time step 250 of 1000 - bed_max_delta 0.0313612605831\n",
      "Time step 260 of 1000 - bed_max_delta 0.021822147558\n",
      "Time step 270 of 1000 - bed_max_delta 0.042857837392\n",
      "Time step 280 of 1000 - bed_max_delta 0.0175426272715\n",
      "Time step 290 of 1000 - bed_max_delta 0.0329788669592\n",
      "Time step 300 of 1000 - bed_max_delta 0.0217757295975\n",
      "Time step 310 of 1000 - bed_max_delta 0.0414486478226\n",
      "Time step 320 of 1000 - bed_max_delta 0.0168305319129\n",
      "Time step 330 of 1000 - bed_max_delta 0.0165891445338\n",
      "Time step 340 of 1000 - bed_max_delta 0.0422211692557\n",
      "Time step 350 of 1000 - bed_max_delta 0.0199512933542\n",
      "Time step 360 of 1000 - bed_max_delta 0.0169226570446\n",
      "Time step 370 of 1000 - bed_max_delta 0.0155540947724\n",
      "Time step 380 of 1000 - bed_max_delta 0.0403833257687\n",
      "Time step 390 of 1000 - bed_max_delta 0.0198307183513\n",
      "Time step 400 of 1000 - bed_max_delta 0.0173517992596\n",
      "Time step 410 of 1000 - bed_max_delta 0.014283183322\n",
      "Time step 420 of 1000 - bed_max_delta 0.0187908012342\n",
      "Time step 430 of 1000 - bed_max_delta 0.0198500697787\n",
      "Time step 440 of 1000 - bed_max_delta 0.0179970739661\n",
      "Time step 450 of 1000 - bed_max_delta 0.0151360010623\n",
      "Time step 460 of 1000 - bed_max_delta 0.0157474323085\n",
      "Time step 470 of 1000 - bed_max_delta 0.0194834473745\n",
      "Time step 480 of 1000 - bed_max_delta 0.0185522261086\n",
      "Time step 490 of 1000 - bed_max_delta 0.0164678239771\n",
      "Time step 500 of 1000 - bed_max_delta 0.0134206800552\n",
      "Time step 510 of 1000 - bed_max_delta 0.0173190052024\n",
      "Time step 520 of 1000 - bed_max_delta 0.0189098615947\n",
      "Time step 530 of 1000 - bed_max_delta 0.0175972262365\n",
      "Time step 540 of 1000 - bed_max_delta 0.0311867638565\n",
      "Time step 550 of 1000 - bed_max_delta 0.026807969749\n",
      "Time step 560 of 1000 - bed_max_delta 0.0347285353376\n",
      "Time step 570 of 1000 - bed_max_delta 0.0366779370186\n",
      "Time step 580 of 1000 - bed_max_delta 0.0340759540933\n",
      "Time step 590 of 1000 - bed_max_delta 0.0296967401565\n",
      "Time step 600 of 1000 - bed_max_delta 0.0136026594497\n",
      "Time step 610 of 1000 - bed_max_delta 0.0175215233478\n",
      "Time step 620 of 1000 - bed_max_delta 0.0177403170724\n",
      "Time step 630 of 1000 - bed_max_delta 0.016392316639\n",
      "Time step 640 of 1000 - bed_max_delta 0.0441251193359\n",
      "Time step 650 of 1000 - bed_max_delta 0.0261601403949\n",
      "Time step 660 of 1000 - bed_max_delta 0.0335695715741\n",
      "Time step 670 of 1000 - bed_max_delta 0.0349761197573\n",
      "Time step 680 of 1000 - bed_max_delta 0.0325407406873\n",
      "Time step 690 of 1000 - bed_max_delta 0.0286342986444\n",
      "Time step 700 of 1000 - bed_max_delta 0.0250975234742\n",
      "Time step 710 of 1000 - bed_max_delta 0.0162605292836\n",
      "Time step 720 of 1000 - bed_max_delta 0.0171199477788\n",
      "Time step 730 of 1000 - bed_max_delta 0.0486621509214\n",
      "Time step 740 of 1000 - bed_max_delta 0.028812696632\n",
      "Time step 750 of 1000 - bed_max_delta 0.0121222839523\n",
      "Time step 760 of 1000 - bed_max_delta 0.0151116916576\n",
      "Time step 770 of 1000 - bed_max_delta 0.0168337759576\n",
      "Time step 780 of 1000 - bed_max_delta 0.015868407463\n",
      "Time step 790 of 1000 - bed_max_delta 0.0442718075835\n",
      "Time step 800 of 1000 - bed_max_delta 0.0249435603364\n",
      "Time step 810 of 1000 - bed_max_delta 0.0264985027095\n",
      "Time step 820 of 1000 - bed_max_delta 0.0325158858487\n",
      "Time step 830 of 1000 - bed_max_delta 0.0322860389648\n",
      "Time step 840 of 1000 - bed_max_delta 0.0146505130398\n",
      "Time step 850 of 1000 - bed_max_delta 0.0260833644761\n",
      "Time step 860 of 1000 - bed_max_delta 0.0122062586141\n",
      "Time step 870 of 1000 - bed_max_delta 0.0152752000546\n",
      "Time step 880 of 1000 - bed_max_delta 0.0160738465375\n",
      "Time step 890 of 1000 - bed_max_delta 0.0148725853119\n",
      "Time step 900 of 1000 - bed_max_delta 0.0271905242983\n",
      "Time step 910 of 1000 - bed_max_delta 0.0232386606354\n",
      "Time step 920 of 1000 - bed_max_delta 0.0260536420814\n",
      "Time step 930 of 1000 - bed_max_delta 0.031273485084\n",
      "Time step 940 of 1000 - bed_max_delta 0.0309557366564\n",
      "Time step 950 of 1000 - bed_max_delta 0.0139540231858\n",
      "Time step 960 of 1000 - bed_max_delta 0.0250026259694\n",
      "Time step 970 of 1000 - bed_max_delta 0.0116740665743\n",
      "Time step 980 of 1000 - bed_max_delta 0.0144873470461\n",
      "Time step 990 of 1000 - bed_max_delta 0.0155273374165\n"
     ]
    },
    {
     "data": {
      "text/plain": [
       "[<matplotlib.lines.Line2D at 0x7f428010da10>]"
      ]
     },
     "execution_count": 32,
     "metadata": {},
     "output_type": "execute_result"
    },
    {
     "data": {
      "image/png": "[encoded data removed]",
      "text/plain": [
       "<matplotlib.figure.Figure at 0x7f427fbfc450>"
      ]
     },
     "metadata": {},
     "output_type": "display_data"
    }
   ],
   "source": [
    "import logging\n",
    "logger = logging.getLogger('pyclaw')\n",
    "logger.setLevel(logging.CRITICAL)\n",
    "\n",
    "x = pyclaw.Dimension( 0, 300, 300, name='x')\n",
    "domain = pyclaw.Domain(x)\n",
    "state = pyclaw.State(domain, 2, 1)\n",
    "\n",
    " # Gravitational constant\n",
    "state.problem_data['grav'] = 9.8\n",
    "state.problem_data['sea_level'] = 0.0\n",
    "xc = state.grid.x.centers\n",
    "#Set the bathymetry\n",
    "#state.aux[0, :] = 0.8 * numpy.exp(-xc**2 / 0.2**2) - 1.0\n",
    "# This is a bump upstream from a symmetrical dune\n",
    "#state.q[0, :] = 0.1 * numpy.exp(-(xc + 0.4)**2 / 0.2**2) - state.aux[0, :]\n",
    "\n",
    "a=0.001\n",
    "b=3.0\n",
    "Q=10.0\n",
    "nP=0.4\n",
    "xcentre = 150.  # Centre of hum\n",
    "\n",
    "datum = 10.0\n",
    "h0 = -6 + datum        # Water depth\n",
    "s= 0.0 + datum            # Datum\n",
    "\n",
    "beta = 0.01\n",
    "z = np.zeros(300)\n",
    "# Eq 66\n",
    "\n",
    "z = np.array([(h0 + 2.0*math.exp(-beta*(xp-xcentre)**2)) for xp in xc])\n",
    "zc = z.copy()\n",
    "z_hydro = z.copy()\n",
    "\n",
    "# Set the flow conditions\n",
    "a=0.005\n",
    "b=3.0\n",
    "\n",
    "plt.plot(xc,z,'r')\n",
    "\n",
    "shw_slvr = shallow_solver(domain)\n",
    "u, surf,h = shw_slvr.run(zc,s)\n",
    "\n",
    "if np.isnan(u).any():\n",
    "    # Get the flow\n",
    "    print u\n",
    "    raise ValueError('Failed to calculate the flow')\n",
    "\n",
    "# Eq 57\n",
    "qbedload = np.zeros(nx)\n",
    "roe_speed = np.zeros(nx)\n",
    "qbedload = a*u**b\n",
    "\n",
    "flux = np.zeros(nx)\n",
    "\n",
    "nt = 1000   # Number of time steps\n",
    "dt = 1.0 # Time step size (s)\n",
    "\n",
    "\n",
    "\n",
    "cntr = 0\n",
    "\n",
    "\n",
    "\n",
    "\n",
    "for n in range(1,nt):  \n",
    "    zn = zc.copy() \n",
    "    for i in range(0,nx): #i=2\n",
    "        # xloc = xc[i-(k-1):i+k]\n",
    "        #xloc = get_stencil(xc,i-(k-1),i+k+1) #i+k-1-(i-(k-1)-1) = 2k -1 \n",
    "        zloc = get_stencil(zn,i-2,i+4)\n",
    "        #print xloc\n",
    "        #raise ValueError()\n",
    "        \n",
    "        # Since k=3\n",
    "        # stencil is i-2 to i+2 \n",
    "        qloc = get_stencil(qbedload,i-2,i+4)\n",
    "        if len(qloc)<>6:\n",
    "            raise ValueError('Stencil is incorrect')\n",
    " \n",
    "        #f_left,f_right = ENO(xloc,qloc,k)\n",
    "        #f_left,f_right = WENO(xloc,qloc,k)\n",
    "        \n",
    "        \n",
    "        # Upwind flux\n",
    "        # The 0.5 comes from the c+abs(c) which is 2 if the wave speed is +ive\n",
    "        # this is the evaluation of the left and right based fluxes. Eq. 18 and 19\n",
    "        \n",
    "        if (zloc[3]-zloc[2]) == 0.0:\n",
    "            roe_speed[i]=np.sign( (qloc[3]-qloc[2]) )\n",
    "        else:\n",
    "            roe_speed[i]=np.sign( (qloc[3]-qloc[2])/ (zloc[3]-zloc[2]) )\n",
    "        \n",
    "        if roe_speed[i] >= 0.0:\n",
    "            flux[i] = get_left_flux(qloc)\n",
    "        else:\n",
    "            flux[i] = get_right_flux(qloc)\n",
    "        \n",
    "    # Need the sign of the phase speed\n",
    "    # Need to check this out\n",
    "\n",
    "    for i in range(0,nx): #i=2       \n",
    "        floc = get_stencil(flux,i-1,i+1)\n",
    "        zc[i] = zn[i]-(1./(1.-nP))*dt/dx*(floc[1]-floc[0])\n",
    "    \n",
    "    bed_max_delta = np.max(np.abs(z_hydro - zc))\n",
    "    \n",
    "    # Apply the avalanche model\n",
    "    zc,iterations = avalanche_model(dx,xc,zc)\n",
    "    #zc = z_updated.copy()\n",
    "    \n",
    "    if iterations > 0 or bed_max_delta > 0.05:\n",
    "        u, surf,h = shw_slvr.run(zc,s);\n",
    "        qbedload = a*u**b\n",
    "        z_hydro = zc.copy()\n",
    "        \n",
    "    cntr += 1\n",
    "    if cntr == 10:\n",
    "        cntr = 0\n",
    "        print('Time step {0} of {1} - bed_max_delta {2}'.format(n,nt,bed_max_delta))\n",
    "\n",
    "plt.plot(xc,zc)\n",
    "    "
   ]
  },
  {
   "cell_type": "code",
   "execution_count": 35,
   "metadata": {
    "collapsed": false
   },
   "outputs": [
    {
     "name": "stdout",
     "output_type": "stream",
     "text": [
      "(1231.4490770181103, 1231.4486240192196)\n"
     ]
    }
   ],
   "source": [
    "area_old = trapz(z, dx=dx)\n",
    "area_new = trapz(zc, dx=dx)     \n",
    "\n",
    "print(area_old,area_new)"
   ]
  },
  {
   "cell_type": "code",
   "execution_count": 5,
   "metadata": {
    "collapsed": false
   },
   "outputs": [
    {
     "name": "stdout",
     "output_type": "stream",
     "text": [
      "2015-09-16 13:49:58,289 INFO CLAW: Solution 0 computed for time t=0.000000\n",
      "2015-09-16 13:49:58,308 INFO CLAW: Solution 1 computed for time t=2.000000\n",
      "2015-09-16 13:49:58,327 INFO CLAW: Solution 2 computed for time t=4.000000\n",
      "2015-09-16 13:49:58,346 INFO CLAW: Solution 3 computed for time t=6.000000\n",
      "2015-09-16 13:49:58,374 INFO CLAW: Solution 4 computed for time t=8.000000\n",
      "2015-09-16 13:49:58,393 INFO CLAW: Solution 5 computed for time t=10.000000\n"
     ]
    }
   ],
   "source": [
    "u, surf,h = shw_slvr.run(z,10);"
   ]
  },
  {
   "cell_type": "code",
   "execution_count": 33,
   "metadata": {
    "collapsed": false
   },
   "outputs": [
    {
     "data": {
      "text/plain": [
       "[<matplotlib.lines.Line2D at 0x7f42805cfb50>]"
      ]
     },
     "execution_count": 33,
     "metadata": {},
     "output_type": "execute_result"
    },
    {
     "data": {
      "image/png": "[encoded data removed]",
      "text/plain": [
       "<matplotlib.figure.Figure at 0x7f427fc2f390>"
      ]
     },
     "metadata": {},
     "output_type": "display_data"
    }
   ],
   "source": [
    "plt.plot(u)\n",
    "plt.plot(zc)\n",
    "plt.plot(qbedload*20.)"
   ]
  },
  {
   "cell_type": "code",
   "execution_count": 7,
   "metadata": {
    "collapsed": false
   },
   "outputs": [
    {
     "data": {
      "text/plain": [
       "array([ 0.1147202 ,  0.1147202 ,  0.1147202 ,  0.1147202 ,  0.1147202 ,\n",
       "        0.1147202 ,  0.1147202 ,  0.1147202 ,  0.1147202 ,  0.1147202 ,\n",
       "        0.1147202 ,  0.1147202 ,  0.1147202 ,  0.1147202 ,  0.1147202 ,\n",
       "        0.1147202 ,  0.1147202 ,  0.1147202 ,  0.1147202 ,  0.1147202 ,\n",
       "        0.1147202 ,  0.1147202 ,  0.1147202 ,  0.1147202 ,  0.1147202 ,\n",
       "        0.1147202 ,  0.1147202 ,  0.1147202 ,  0.1147202 ,  0.1147202 ,\n",
       "        0.1147202 ,  0.1147202 ,  0.1147202 ,  0.1147202 ,  0.1147202 ,\n",
       "        0.1147202 ,  0.1147202 ,  0.1147202 ,  0.1147202 ,  0.1147202 ,\n",
       "        0.11472019,  0.11472019,  0.11472017,  0.11472015,  0.11472011,\n",
       "        0.11472004,  0.11471991,  0.11471971,  0.11471936,  0.11471881,\n",
       "        0.11471793,  0.11471655,  0.11471445,  0.11471129,  0.11470662,\n",
       "        0.11469986,  0.11469027,  0.11467691,  0.11465864,  0.11463415,\n",
       "        0.11460193,  0.11456035,  0.11450772,  0.11444235,  0.11436265,\n",
       "        0.11426727,  0.11415518,  0.11402575,  0.11387885,  0.11371489,\n",
       "        0.11353481,  0.1133401 ,  0.1131327 ,  0.112915  ,  0.11268971,\n",
       "        0.1124598 ,  0.11222837,  0.11199859,  0.11177355,  0.11155618,\n",
       "        0.11134917,  0.11115482,  0.11097503,  0.11081116,  0.11066405,\n",
       "        0.11053398,  0.11042068,  0.11032339,  0.11024094,  0.11017185,\n",
       "        0.11011444,  0.11006694,  0.11002762,  0.10999486,  0.10996723,\n",
       "        0.10994351,  0.10992271,  0.10990408,  0.10988704,  0.1098712 ,\n",
       "        0.10985629,  0.10984214,  0.10982866,  0.10981578,  0.1098035 ,\n",
       "        0.10979179,  0.10978066,  0.10977011,  0.10976015,  0.10975078,\n",
       "        0.10974197,  0.10973374,  0.10972606,  0.10971893,  0.10971233,\n",
       "        0.10970627,  0.10970078,  0.10969593,  0.10969186,  0.10968884,\n",
       "        0.10968735,  0.10968819,  0.10969267,  0.10970284,  0.10972184,\n",
       "        0.10975434,  0.10980713,  0.10988973,  0.11001522,  0.11020103,\n",
       "        0.11046972,  0.1108497 ,  0.11137571,  0.11208899,  0.11303696,\n",
       "        0.1142724 ,  0.11585182,  0.11783288,  0.12027052,  0.12321135,\n",
       "        0.12668581,  0.13069752,  0.13520969,  0.14012935,  0.14529183,\n",
       "        0.1504507 ,  0.15528062,  0.15940166,  0.16242941,  0.16404477,\n",
       "        0.16406464,  0.16248725,  0.15949258,  0.15539778,  0.15058672,\n",
       "        0.14543985,  0.14028377,  0.13536637,  0.13085365,  0.12683969,\n",
       "        0.12336208,  0.12041776,  0.11797666,  0.11599234,  0.11440998,\n",
       "        0.11317194,  0.11222171,  0.11150648,  0.11097876,  0.11059729,\n",
       "        0.11032728,  0.11014027,  0.11001368,  0.10993004,  0.10987627,\n",
       "        0.10984281,  0.10982287,  0.10981177,  0.10980637,  0.1098046 ,\n",
       "        0.10980516,  0.10980725,  0.10981038,  0.10981429,  0.10981883,\n",
       "        0.10982393,  0.10982955,  0.10983571,  0.10984239,  0.10984962,\n",
       "        0.10985741,  0.10986576,  0.10987469,  0.10988418,  0.10989425,\n",
       "        0.10990489,  0.10991609,  0.10992787,  0.10994025,  0.10995328,\n",
       "        0.10996706,  0.10998176,  0.10999765,  0.11001513,  0.11003477,\n",
       "        0.11005731,  0.11008376,  0.11011531,  0.1101534 ,  0.11019962,\n",
       "        0.11025571,  0.11032338,  0.11040428,  0.11049987,  0.11061127,\n",
       "        0.11073921,  0.11088391,  0.11104507,  0.11122185,  0.11141287,\n",
       "        0.11161626,  0.11182972,  0.11205064,  0.11227613,  0.11250317,\n",
       "        0.11272866,  0.11294957,  0.11316302,  0.11336635,  0.11355725,\n",
       "        0.1137338 ,  0.11389457,  0.11403862,  0.11416557,  0.11427554,\n",
       "        0.11436913,  0.11444735,  0.11451152,  0.11456319,  0.11460402,\n",
       "        0.11463566,  0.11465972,  0.11467766,  0.11469079,  0.11470022,\n",
       "        0.11470685,  0.11471144,  0.11471455,  0.11471662,  0.11471797,\n",
       "        0.11471883,  0.11471938,  0.11471971,  0.11471992,  0.11472004,\n",
       "        0.11472011,  0.11472015,  0.11472017,  0.11472019,  0.11472019,\n",
       "        0.1147202 ,  0.1147202 ,  0.1147202 ,  0.1147202 ,  0.1147202 ,\n",
       "        0.1147202 ,  0.1147202 ,  0.1147202 ,  0.1147202 ,  0.1147202 ,\n",
       "        0.1147202 ,  0.1147202 ,  0.1147202 ,  0.1147202 ,  0.1147202 ,\n",
       "        0.1147202 ,  0.1147202 ,  0.1147202 ,  0.1147202 ,  0.1147202 ,\n",
       "        0.1147202 ,  0.1147202 ,  0.1147202 ,  0.1147202 ,  0.1147202 ,\n",
       "        0.1147202 ,  0.1147202 ,  0.1147202 ,  0.1147202 ,  0.1147202 ,\n",
       "        0.1147202 ,  0.1147202 ,  0.1147202 ,  0.1147202 ,  0.1147202 ,\n",
       "        0.1147202 ,  0.1147202 ,  0.1147202 ,  0.1147202 ,  0.1147202 ])"
      ]
     },
     "execution_count": 7,
     "metadata": {},
     "output_type": "execute_result"
    }
   ],
   "source": [
    "u"
   ]
  },
  {
   "cell_type": "code",
   "execution_count": null,
   "metadata": {
    "collapsed": true
   },
   "outputs": [],
   "source": []
  },
  {
   "cell_type": "code",
   "execution_count": null,
   "metadata": {
    "collapsed": true
   },
   "outputs": [],
   "source": []
  }
 ],
 "metadata": {
  "kernelspec": {
   "display_name": "Python 2",
   "language": "python",
   "name": "python2"
  },
  "language_info": {
   "codemirror_mode": {
    "name": "ipython",
    "version": 2
   },
   "file_extension": ".py",
   "mimetype": "text/x-python",
   "name": "python",
   "nbconvert_exporter": "python",
   "pygments_lexer": "ipython2",
   "version": "2.7.8"
  }
 },
 "nbformat": 4,
 "nbformat_minor": 0
}
