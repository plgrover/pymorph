{
 "cells": [
  {
   "cell_type": "code",
   "execution_count": 1,
   "metadata": {},
   "outputs": [],
   "source": [
    "import os,sys\n",
    "import csv\n",
    "import copy\n",
    "import math\n",
    "import collections\n",
    "\n",
    "import matplotlib\n",
    "import matplotlib.pyplot as plt\n",
    "import clawpack.petclaw as pyclaw\n",
    "from clawpack import riemann\n",
    "import numpy as np\n",
    "from scipy.integrate import simps, trapz\n",
    "from scipy.interpolate import interp1d\n",
    "\n",
    "sys.path.append(\"/pymorph\")\n",
    "from schemes.weno import get_left_flux,get_right_flux\n",
    "from schemes.weno import get_stencil\n",
    "import sediment_transport.sed_trans as sedtrans\n",
    "\n",
    "from models.shallow_water_solver import shallow_water_solver\n",
    "from schemes.avalanche_scheme import *\n",
    "\n",
    "from matplotlib.collections import LineCollection\n",
    "from mpl_toolkits.mplot3d import Axes3D\n",
    "\n",
    "from IPython.display import display, Math, Latex\n",
    "\n",
    "sys.path.append(\"/pymorph\")\n",
    "from schemes.weno import get_left_flux,get_right_flux\n",
    "from schemes.weno import get_stencil\n",
    "import sediment_transport.sed_trans as sedtrans\n",
    "\n",
    "plt.style.use(['dark_background'])\n",
    "\n",
    "%matplotlib inline\n",
    "%load_ext autoreload\n",
    "%autoreload 2"
   ]
  },
  {
   "cell_type": "markdown",
   "metadata": {},
   "source": [
    "# The purpose here is to test Dirichlet boundary conditions"
   ]
  },
  {
   "cell_type": "code",
   "execution_count": 2,
   "metadata": {},
   "outputs": [],
   "source": [
    "filepath = '../Paper_3/flume_profile_smoothed_v002.txt'\n",
    "\n",
    "def is_number(s):\n",
    "    try:\n",
    "        float(s)\n",
    "        return True\n",
    "    except ValueError:\n",
    "        return False\n",
    "    \n",
    "def get_bathymetry(filepath, resolution=1):\n",
    "    retval = collections.OrderedDict()\n",
    "    z = []\n",
    "    with open(filepath) as f:\n",
    "        for line in f:\n",
    "            values = line.split()\n",
    "            if is_number(values[0])==False:\n",
    "                if float(values[1]).is_integer():\n",
    "                    retval[values[0]]=int(values[1])\n",
    "                else:\n",
    "                    retval[values[0]]=float(values[1])\n",
    "            else:\n",
    "                z.append(float(values[0]))\n",
    "    z = np.array(z)\n",
    "    print('Z: {0}'.format(len(z)))\n",
    "    xmax = float(retval['nrows']) * retval['cellsize']\n",
    "    nx = retval['nrows']\n",
    "    dx = retval['cellsize']\n",
    "    #--------------------------------\n",
    "    # Increase the resolution on the grid\n",
    "    #--------------------------------\n",
    "    x = np.linspace(0, nx*dx, num=len(z))\n",
    "    f = interp1d(x, z)\n",
    "    xnew = np.linspace(0, nx*dx, num=len(z)*resolution)\n",
    "    znew = f(xnew)\n",
    "    nx = len(xnew)\n",
    "\n",
    "    return znew,xnew"
   ]
  },
  {
   "cell_type": "code",
   "execution_count": 3,
   "metadata": {},
   "outputs": [
    {
     "name": "stdout",
     "output_type": "stream",
     "text": [
      "Z: 87\n",
      "2019-04-24 03:49:54,210 INFO CLAW: Solution 0 computed for time t=0.000000\n",
      "2019-04-24 03:49:54,944 INFO CLAW: Solution 1 computed for time t=13.333333\n",
      "2019-04-24 03:49:55,782 INFO CLAW: Solution 2 computed for time t=26.666667\n",
      "2019-04-24 03:49:56,605 INFO CLAW: Solution 3 computed for time t=40.000000\n",
      "2019-04-24 03:49:57,466 INFO CLAW: Solution 4 computed for time t=53.333333\n",
      "2019-04-24 03:49:58,375 INFO CLAW: Solution 5 computed for time t=66.666667\n",
      "2019-04-24 03:49:59,324 INFO CLAW: Solution 6 computed for time t=80.000000\n",
      "2019-04-24 03:50:00,282 INFO CLAW: Solution 7 computed for time t=93.333333\n",
      "2019-04-24 03:50:01,185 INFO CLAW: Solution 8 computed for time t=106.666667\n",
      "2019-04-24 03:50:02,236 INFO CLAW: Solution 9 computed for time t=120.000000\n",
      "2019-04-24 03:50:03,152 INFO CLAW: Solution 10 computed for time t=133.333333\n",
      "2019-04-24 03:50:04,293 INFO CLAW: Solution 11 computed for time t=146.666667\n",
      "2019-04-24 03:50:05,196 INFO CLAW: Solution 12 computed for time t=160.000000\n",
      "2019-04-24 03:50:06,279 INFO CLAW: Solution 13 computed for time t=173.333333\n",
      "2019-04-24 03:50:07,353 INFO CLAW: Solution 14 computed for time t=186.666667\n",
      "2019-04-24 03:50:08,340 INFO CLAW: Solution 15 computed for time t=200.000000\n"
     ]
    },
    {
     "data": {
      "text/plain": [
       "[<matplotlib.lines.Line2D at 0x7fd990bf0048>]"
      ]
     },
     "execution_count": 3,
     "metadata": {},
     "output_type": "execute_result"
    },
    {
     "data": {
      "image/png": "[encoded data removed]",
      "text/plain": [
       "<Figure size 432x288 with 1 Axes>"
      ]
     },
     "metadata": {},
     "output_type": "display_data"
    }
   ],
   "source": [
    "\n",
    "z,x = get_bathymetry(filepath,4)\n",
    "\n",
    "sws = shallow_water_solver(kernel_language='Fortran')\n",
    "sws.set_solver(max_steps=10000)\n",
    "sws.set_state_domain(x,z)\n",
    "sws.set_mannings_source_term(mannings=0.025, slope=1.26/1000.)\n",
    "sws.set_boundary_conditions()\n",
    "sws.set_inital_conditions(0.32, 0.0)\n",
    "sws.set_controller(tfinal=200., num_output_times=15)\n",
    "sws.run()\n",
    "cntrl = sws.get_controller()\n",
    "\n",
    "for i in range(cntrl.num_output_times):\n",
    "    surf = cntrl.frames[i].q[0,:] + z\n",
    "    plt.plot(x,surf)\n",
    "plt.plot(x,z)"
   ]
  },
  {
   "cell_type": "code",
   "execution_count": 4,
   "metadata": {},
   "outputs": [
    {
     "name": "stdout",
     "output_type": "stream",
     "text": [
      "Z: 87\n",
      "2019-04-24 03:50:08,523 INFO CLAW: Solution 0 computed for time t=0.000000\n",
      "2019-04-24 03:50:13,691 INFO CLAW: Solution 1 computed for time t=100.000000\n",
      "2019-04-24 03:50:19,134 INFO CLAW: Solution 2 computed for time t=200.000000\n",
      "2019-04-24 03:50:24,575 INFO CLAW: Solution 3 computed for time t=300.000000\n"
     ]
    },
    {
     "data": {
      "text/plain": [
       "[<matplotlib.lines.Line2D at 0x7fd990bf6cf8>]"
      ]
     },
     "execution_count": 4,
     "metadata": {},
     "output_type": "execute_result"
    },
    {
     "data": {
      "image/png": "[encoded data removed]",
      "text/plain": [
       "<Figure size 432x288 with 1 Axes>"
      ]
     },
     "metadata": {},
     "output_type": "display_data"
    }
   ],
   "source": [
    "\n",
    "\n",
    "\n",
    "z,x = get_bathymetry(filepath,4)\n",
    "\n",
    "sws = shallow_water_solver(kernel_language='Fortran')\n",
    "sws.set_solver(max_steps=100000)\n",
    "sws.set_state_domain(x,z)\n",
    "sws.set_mannings_source_term(mannings=0.025, slope=1.26/1000.)\n",
    "\n",
    "#sws.set_boundary_conditions()\n",
    "hout = 0.25\n",
    "Qin = 0.08\n",
    "\n",
    "sws.set_Dirichlet_BC(hout,Qin)\n",
    "sws.set_inital_conditions(hout, 0.0)\n",
    "sws.set_controller(tfinal=300., num_output_times=3)\n",
    "sws.run()\n",
    "cntrl = sws.get_controller()\n",
    "\n",
    "for i in range(cntrl.num_output_times):\n",
    "    surf = cntrl.frames[i].q[0,:] + z\n",
    "    plt.plot(x,surf)\n",
    "plt.plot(x,z)"
   ]
  },
  {
   "cell_type": "code",
   "execution_count": 5,
   "metadata": {},
   "outputs": [
    {
     "data": {
      "text/plain": [
       "[<matplotlib.lines.Line2D at 0x7fd98e8ad668>]"
      ]
     },
     "execution_count": 5,
     "metadata": {},
     "output_type": "execute_result"
    },
    {
     "data": {
      "image/png": "[encoded data removed]",
      "text/plain": [
       "<Figure size 432x288 with 1 Axes>"
      ]
     },
     "metadata": {},
     "output_type": "display_data"
    }
   ],
   "source": [
    "for i in range(cntrl.num_output_times):\n",
    "    depth = cntrl.frames[i].q[0,:]\n",
    "    u = cntrl.frames[i].q[1,:]\n",
    "    plt.plot(x,u)\n",
    "plt.plot(x,z)\n"
   ]
  },
  {
   "cell_type": "code",
   "execution_count": 7,
   "metadata": {},
   "outputs": [
    {
     "data": {
      "text/plain": [
       "[<matplotlib.lines.Line2D at 0x7fd98e808828>]"
      ]
     },
     "execution_count": 7,
     "metadata": {},
     "output_type": "execute_result"
    },
    {
     "data": {
      "image/png": "[encoded data removed]",
      "text/plain": [
       "<Figure size 432x288 with 1 Axes>"
      ]
     },
     "metadata": {},
     "output_type": "display_data"
    }
   ],
   "source": [
    "for i in range(cntrl.num_output_times):\n",
    "    depth = cntrl.frames[i].q[0,:]\n",
    "    u = cntrl.frames[i].q[1,:]/depth\n",
    "\n",
    "    plt.plot(x,u)\n",
    "plt.plot(x,z)"
   ]
  },
  {
   "cell_type": "markdown",
   "metadata": {},
   "source": [
    "## Now for calibration\n",
    "\n",
    "Based on the documentation in Weibe the flow conditions for A3DOWN is as follows:\n",
    "\n",
    "| Stage | Qc1 | Qc1 |\n",
    "\n",
    "| 32 cm | 0.045 | 0.020 |"
   ]
  },
  {
   "cell_type": "code",
   "execution_count": 9,
   "metadata": {},
   "outputs": [
    {
     "name": "stdout",
     "output_type": "stream",
     "text": [
      "0.07894736842105263 0.17763157894736842\n"
     ]
    }
   ],
   "source": [
    "# 32 cm Case \n",
    "Qc132 = 0.045\n",
    "Qc120 = 0.020\n",
    "B = 0.76\n",
    "Qtotal32 = Qc132 * 3.\n",
    "Qtotal20 = Qc120 * 3.\n",
    "q32cm = Qtotal32 / B\n",
    "q20cm = Qtotal20 / B\n",
    "\n",
    "\n",
    "# Print out the unit flows\n",
    "print(q20cm, q32cm)"
   ]
  },
  {
   "cell_type": "markdown",
   "metadata": {},
   "source": [
    "### Calibrate 32 cm flow first\n",
    "\n",
    "The flow conditions reported in Table 4.1 are based on the equalibrium conditions at the start and final conditions. Therefore we need to perform the calibration based on the 32 cm flow as our dunes are based on these conditions. "
   ]
  },
  {
   "cell_type": "code",
   "execution_count": 83,
   "metadata": {},
   "outputs": [
    {
     "name": "stdout",
     "output_type": "stream",
     "text": [
      "Z: 87\n",
      "2019-04-22 03:13:35,572 INFO CLAW: Solution 0 computed for time t=0.000000\n",
      "2019-04-22 03:13:44,704 INFO CLAW: Solution 1 computed for time t=100.000000\n",
      "2019-04-22 03:13:54,190 INFO CLAW: Solution 2 computed for time t=200.000000\n",
      "2019-04-22 03:14:03,241 INFO CLAW: Solution 3 computed for time t=300.000000\n"
     ]
    }
   ],
   "source": [
    "z,x = get_bathymetry(filepath,4)\n",
    "\n",
    "sws = shallow_water_solver(kernel_language='Fortran')\n",
    "sws.set_solver(max_steps=100000)\n",
    "sws.set_state_domain(x,z)\n",
    "sws.set_mannings_source_term(mannings=0.048, slope=1.26/1000.)\n",
    "\n",
    "#sws.set_boundary_conditions()\n",
    "hout = 0.357\n",
    "Qin = q32cm\n",
    "\n",
    "sws.set_Dirichlet_BC(hout,Qin)\n",
    "sws.set_inital_conditions(hout, 0.0)\n",
    "sws.set_controller(tfinal=300., num_output_times=3)\n",
    "sws.run()\n",
    "cntrl = sws.get_controller()\n",
    "\n"
   ]
  },
  {
   "cell_type": "code",
   "execution_count": 84,
   "metadata": {},
   "outputs": [
    {
     "data": {
      "image/png": "[encoded data removed]",
      "text/plain": [
       "<Figure size 432x288 with 1 Axes>"
      ]
     },
     "metadata": {},
     "output_type": "display_data"
    }
   ],
   "source": [
    "for i in range(cntrl.num_output_times):\n",
    "    surf = cntrl.frames[i].q[0,:] + z\n",
    "    plt.plot(x,surf)\n",
    "plt.plot(x,z)\n",
    "\n",
    "plt.style.use(['dark_background'])"
   ]
  },
  {
   "cell_type": "code",
   "execution_count": 85,
   "metadata": {},
   "outputs": [
    {
     "name": "stdout",
     "output_type": "stream",
     "text": [
      "The mean depth is 0.320 cm and the mean velocity is 0.561 m/s\n",
      "h: 0.31950032128033057  and  u: 0.5599592648380952\n"
     ]
    }
   ],
   "source": [
    "final_time = cntrl.num_output_times\n",
    "\n",
    "depth = cntrl.frames[final_time].q[0,:]\n",
    "surf = cntrl.frames[final_time].q[0,:] + z\n",
    "u = cntrl.frames[final_time].q[1,:]/depth\n",
    "print('The mean depth is 0.320 cm and the mean velocity is 0.561 m/s')\n",
    "print('h: {0}  and  u: {1}'.format(depth.mean(),u.mean()))"
   ]
  },
  {
   "cell_type": "code",
   "execution_count": null,
   "metadata": {},
   "outputs": [],
   "source": []
  },
  {
   "cell_type": "code",
   "execution_count": null,
   "metadata": {},
   "outputs": [],
   "source": []
  }
 ],
 "metadata": {
  "kernelspec": {
   "display_name": "Python 3",
   "language": "python",
   "name": "python3"
  },
  "language_info": {
   "codemirror_mode": {
    "name": "ipython",
    "version": 3
   },
   "file_extension": ".py",
   "mimetype": "text/x-python",
   "name": "python",
   "nbconvert_exporter": "python",
   "pygments_lexer": "ipython3",
   "version": "3.6.8"
  }
 },
 "nbformat": 4,
 "nbformat_minor": 2
}
