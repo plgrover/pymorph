{
 "cells": [
  {
   "cell_type": "code",
   "execution_count": 1,
   "metadata": {},
   "outputs": [],
   "source": [
    "import os,sys\n",
    "import csv\n",
    "import copy\n",
    "import math\n",
    "\n",
    "import matplotlib\n",
    "import matplotlib.pyplot as plt\n",
    "from clawpack import pyclaw\n",
    "from clawpack import riemann\n",
    "import numpy as np\n",
    "from scipy.integrate import simps, trapz\n",
    "\n",
    "sys.path.append(\"/pymorph\")\n",
    "from schemes.weno import get_left_flux,get_right_flux\n",
    "from schemes.weno import get_stencil\n",
    "\n",
    "from models.shallow_water_solver import shallow_solver\n",
    "from schemes.avalanche_scheme import *\n",
    "\n",
    "from matplotlib.collections import LineCollection\n",
    "from mpl_toolkits.mplot3d import Axes3D\n",
    "\n",
    "from IPython.display import display, Math, Latex\n",
    "\n",
    "%matplotlib inline\n",
    "%load_ext autoreload\n",
    "%autoreload 2\n",
    "\n",
    "\n",
    "plt.style.use(['dark_background'])\n",
    "\n",
    "import cython\n",
    "%load_ext cython"
   ]
  },
  {
   "cell_type": "markdown",
   "metadata": {},
   "source": [
    "# Long et. al. Gaussian Hump\n",
    "## Running with the Shallow Water Equations\n",
    "\n",
    "### October 21, 2015\n",
    "Starting to review this code and understand where I left off. I think what is left to do is check the Exner code against the analytical model shown in Long et al (2008). From what I can tell, I re-wrote the WENO scheme to match the scheme in the paper and I think it worked better but still need to verify that this the case. \n",
    "\n",
    "### August 15, 2016\n",
    "Now try this again using the WENO solver and also the 1-D SW Equations"
   ]
  },
  {
   "cell_type": "code",
   "execution_count": 4,
   "metadata": {},
   "outputs": [
    {
     "name": "stdout",
     "output_type": "stream",
     "text": [
      "Grid dx = 1.0\n",
      "Grid nx = 300\n",
      "Time step 1000 of 100000 - bed_max_delta 0.0008392768469800416\n",
      "Time step 2000 of 100000 - bed_max_delta 0.03557622685898565\n",
      "Time step 3000 of 100000 - bed_max_delta 0.024268449154487115\n",
      "Time step 4000 of 100000 - bed_max_delta 0.0061860239206863454\n",
      "Time step 5000 of 100000 - bed_max_delta 0.004408638647923624\n",
      "Time step 6000 of 100000 - bed_max_delta 0.027296083410988103\n",
      "Time step 7000 of 100000 - bed_max_delta 0.0109139313630493\n",
      "Time step 8000 of 100000 - bed_max_delta 0.007364116713952207\n",
      "Time step 9000 of 100000 - bed_max_delta 0.01822097666413569\n",
      "Time step 10000 of 100000 - bed_max_delta 0.00980827398124351\n",
      "Time step 11000 of 100000 - bed_max_delta 0.0045191049148956\n",
      "Time step 12000 of 100000 - bed_max_delta 0.01910100556272365\n",
      "Time step 13000 of 100000 - bed_max_delta 0.018261365839570942\n",
      "Time step 14000 of 100000 - bed_max_delta 0.0017792747614384652\n",
      "Time step 15000 of 100000 - bed_max_delta 0.015806570561935906\n",
      "Time step 16000 of 100000 - bed_max_delta 0.01035840149010081\n",
      "Time step 17000 of 100000 - bed_max_delta 0.01800382124230282\n",
      "Time step 18000 of 100000 - bed_max_delta 0.0003789263547320232\n",
      "Time step 19000 of 100000 - bed_max_delta 0.023364746840037753\n",
      "Time step 20000 of 100000 - bed_max_delta 0.009152568201792555\n",
      "Time step 21000 of 100000 - bed_max_delta 0.007328679976893682\n",
      "Time step 22000 of 100000 - bed_max_delta 0.013462882259055675\n",
      "Time step 23000 of 100000 - bed_max_delta 0.0046513809704258335\n",
      "Time step 24000 of 100000 - bed_max_delta 0.010619842159616866\n",
      "Time step 25000 of 100000 - bed_max_delta 0.009621787272070748\n",
      "Time step 26000 of 100000 - bed_max_delta 0.0063041324657326925\n",
      "Time step 27000 of 100000 - bed_max_delta 0.005586158719765422\n",
      "Time step 28000 of 100000 - bed_max_delta 0.025100508958168177\n",
      "Time step 29000 of 100000 - bed_max_delta 0.009225260692563353\n",
      "Time step 30000 of 100000 - bed_max_delta 0.02168207775915043\n",
      "Time step 31000 of 100000 - bed_max_delta 0.022856784763387594\n",
      "Time step 32000 of 100000 - bed_max_delta 0.025250841235730626\n",
      "Time step 33000 of 100000 - bed_max_delta 0.0010849261288692347\n",
      "Time step 34000 of 100000 - bed_max_delta 0.01742402468589077\n",
      "Time step 35000 of 100000 - bed_max_delta 0.01771061271604868\n",
      "Time step 36000 of 100000 - bed_max_delta 0.006084263089278785\n",
      "Time step 37000 of 100000 - bed_max_delta 0.006835478947984086\n",
      "Time step 38000 of 100000 - bed_max_delta 0.018476653780323815\n",
      "Time step 39000 of 100000 - bed_max_delta 0.017485443150876634\n",
      "Time step 40000 of 100000 - bed_max_delta 0.026936205894685372\n",
      "Time step 41000 of 100000 - bed_max_delta 0.017080960669817458\n",
      "Time step 42000 of 100000 - bed_max_delta 0.0024677902092804516\n",
      "Time step 43000 of 100000 - bed_max_delta 0.012189912537890812\n",
      "Time step 44000 of 100000 - bed_max_delta 0.004542184208082389\n",
      "Time step 45000 of 100000 - bed_max_delta 0.010485507551397433\n",
      "Time step 46000 of 100000 - bed_max_delta 0.019935604949245622\n",
      "Time step 47000 of 100000 - bed_max_delta 0.007862950574132554\n",
      "Time step 48000 of 100000 - bed_max_delta 0.02025670292649906\n",
      "Time step 49000 of 100000 - bed_max_delta 0.01975109621779403\n",
      "Time step 50000 of 100000 - bed_max_delta 0.005101497775465091\n",
      "Time step 51000 of 100000 - bed_max_delta 0.018259798200942257\n",
      "Time step 52000 of 100000 - bed_max_delta 0.018478037032780392\n",
      "Time step 53000 of 100000 - bed_max_delta 0.0025472486359987556\n",
      "Time step 54000 of 100000 - bed_max_delta 0.013957907473965747\n",
      "Time step 55000 of 100000 - bed_max_delta 0.001903825790550151\n",
      "Time step 56000 of 100000 - bed_max_delta 0.049493191677019155\n",
      "Time step 57000 of 100000 - bed_max_delta 0.012908854399762859\n",
      "Time step 58000 of 100000 - bed_max_delta 0.02590149707277334\n",
      "Time step 59000 of 100000 - bed_max_delta 0.0010713445405965416\n",
      "Time step 60000 of 100000 - bed_max_delta 0.02536578634801412\n",
      "Time step 61000 of 100000 - bed_max_delta 0.0185071617220256\n",
      "Time step 62000 of 100000 - bed_max_delta 0.024722839186861023\n",
      "Time step 63000 of 100000 - bed_max_delta 0.016624190767755564\n",
      "Time step 64000 of 100000 - bed_max_delta 0.0084716385634378\n",
      "Time step 65000 of 100000 - bed_max_delta 0.03435204034329953\n",
      "Time step 66000 of 100000 - bed_max_delta 0.00426103080012652\n",
      "Time step 67000 of 100000 - bed_max_delta 0.03647970777005938\n",
      "Time step 68000 of 100000 - bed_max_delta 0.003976611803136798\n",
      "Time step 69000 of 100000 - bed_max_delta 0.01989453183948875\n",
      "Time step 70000 of 100000 - bed_max_delta 0.03105625407284851\n",
      "Time step 71000 of 100000 - bed_max_delta 0.018169157277649894\n",
      "Time step 72000 of 100000 - bed_max_delta 0.012889365916186613\n",
      "Time step 73000 of 100000 - bed_max_delta 0.019837862495482028\n",
      "Time step 74000 of 100000 - bed_max_delta 0.0021110682657479174\n",
      "Time step 75000 of 100000 - bed_max_delta 0.036744029486257546\n",
      "Time step 76000 of 100000 - bed_max_delta 0.021897499026692913\n",
      "Time step 77000 of 100000 - bed_max_delta 0.03478069068134637\n",
      "Time step 78000 of 100000 - bed_max_delta 0.01913344112276949\n",
      "Time step 79000 of 100000 - bed_max_delta 0.035397908724721816\n",
      "Time step 80000 of 100000 - bed_max_delta 0.03678543489134789\n",
      "Time step 81000 of 100000 - bed_max_delta 0.011783818010830949\n",
      "Time step 82000 of 100000 - bed_max_delta 0.0042293116289648935\n",
      "Time step 83000 of 100000 - bed_max_delta 0.02008780012767275\n",
      "Time step 84000 of 100000 - bed_max_delta 0.020842718742954958\n",
      "Time step 85000 of 100000 - bed_max_delta 0.00833651432213145\n",
      "Time step 86000 of 100000 - bed_max_delta 0.005091012694010466\n",
      "Time step 87000 of 100000 - bed_max_delta 0.03900816533250584\n",
      "Time step 88000 of 100000 - bed_max_delta 0.019178060837464983\n",
      "Time step 89000 of 100000 - bed_max_delta 0.015027739913035632\n",
      "Time step 90000 of 100000 - bed_max_delta 0.004846816834643164\n",
      "Time step 91000 of 100000 - bed_max_delta 0.02089997803363186\n",
      "Time step 92000 of 100000 - bed_max_delta 0.0024865616276503744\n",
      "Time step 93000 of 100000 - bed_max_delta 0.0034899928215192944\n",
      "Time step 94000 of 100000 - bed_max_delta 0.010267659783906424\n",
      "Time step 95000 of 100000 - bed_max_delta 0.007081326989748504\n",
      "Time step 96000 of 100000 - bed_max_delta 0.01257791260172425\n",
      "Time step 97000 of 100000 - bed_max_delta 0.013062037595430454\n",
      "Time step 98000 of 100000 - bed_max_delta 0.017052960279464457\n",
      "Time step 99000 of 100000 - bed_max_delta 0.043380291872114896\n"
     ]
    },
    {
     "data": {
      "text/plain": [
       "[<matplotlib.lines.Line2D at 0x7f549abbddd8>]"
      ]
     },
     "execution_count": 6,
       "[<matplotlib.lines.Line2D at 0x7ffb45002390>]"
      ]
     },
     "execution_count": 4,
     "metadata": {},
     "output_type": "execute_result"
    },
    {
     "data": {
     "image/png": "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\n",
      "text/plain": [
       "<Figure size 432x288 with 1 Axes>"
      ]
     },
     "metadata": {},
     "output_type": "display_data"
    }
   ],
   "source": [
    "#--------------------------------\n",
    "# Set up the constants\n",
    "#--------------------------------\n",
    "a=0.001\n",
    "b=3.0\n",
    "Q=10.0\n",
    "nP=0.4\n",
    "xcentre = 150.  # Centre of hump\n",
    "h0 = 6.0        # Height of the dune\n",
    "s= 12.0            # Datum\n",
    "beta = 0.01\n",
    "\n",
    "#--------------------------------\n",
    "# Set up the domain, BCs and ICs\n",
    "#--------------------------------\n",
    "import logging\n",
    "logger = logging.getLogger('pyclaw')\n",
    "logger.setLevel(logging.CRITICAL)\n",
    "\n",
    "nx=300\n",
    "x = pyclaw.Dimension(0.0,300.0,nx,name='x')\n",
    "domain = pyclaw.Domain(x)\n",
    "state = pyclaw.State(domain,1)\n",
    "xc = state.grid.x.centers\n",
    "dx = state.grid.delta[0]\n",
    "print('Grid dx = {0}'.format(dx))\n",
    "print('Grid nx = {0}'.format(len(xc)))\n",
    "\n",
    " # Gravitational constant\n",
    "state.problem_data['grav'] = 9.8\n",
    "state.problem_data['sea_level'] = 0.0\n",
    "\n",
    "#--------------------------------\n",
    "# Set up the bathymetry\n",
    "#--------------------------------\n",
    "z = np.zeros(nx)\n",
    "# Eq 66 - Build the Gaussian Hump\n",
    "z = np.array([(h0 + 2.0*math.exp(-beta*(xp-xcentre)**2)) for xp in xc])\n",
    "zc = z.copy()\n",
    "z_hydro = z.copy()\n",
    "\n",
    "# Set up the inital state of the flow\n",
    "shw_slvr = shallow_solver(domain)\n",
    "u, surf,h = shw_slvr.run(zc,s)\n",
    "\n",
    "\n",
    "if np.isnan(u).any():\n",
    "    # Get the flow\n",
    "    print(u)\n",
    "    raise ValueError('Failed to calculate the flow')\n",
    "#--------------------------------\n",
    "# Initialize the sed transport \n",
    "#--------------------------------    \n",
    "# Eq 57\n",
    "qbedload = np.zeros(nx)\n",
    "roe_speed = np.zeros(nx)\n",
    "qbedload = a*u**b\n",
    "flux = np.zeros(nx)\n",
    "\n",
    "#--------------------------------\n",
    "#  Setup the model run parameters\n",
    "#--------------------------------\n",
    "simTime = 1000. # Runtime\n",
    "dt = 0.1 # Time step size (s)\n",
    "nt = int(simTime/dt)  # Number of time steps\n",
    "\n",
    "\n",
    "#--------------------------------\n",
    "# Set up the model reporting parameters\n",
    "#--------------------------------\n",
    "z0 = zc.copy() \n",
    "z600 = zc.copy() \n",
    "z2000 = zc.copy()\n",
    "verts = []\n",
    "\n",
    "extractionInterval = 100.\n",
    "tsteps=[]\n",
    "cntr = 0\n",
    "#--------------------------------\n",
    "#  Run the model\n",
    "#--------------------------------\n",
    "for n in range(1,nt):  \n",
    "    zn = zc.copy() \n",
    "    for i in range(0,nx): #i=2\n",
    "\n",
    "        zloc = get_stencil(zn,i-2,i+4)\n",
    "        \n",
    "        # Since k=3\n",
    "        # stencil is i-2 to i+2 \n",
    "        qloc = get_stencil(qbedload,i-2,i+4)\n",
    "        if len(qloc) != 6:\n",
    "            raise ValueError('Stencil is incorrect')\n",
    " \n",
    "        # Determine the Upwind flux\n",
    "        # The 0.5 comes from the c+abs(c) which is 2 if the wave speed is +ive\n",
    "        # this is the evaluation of the left and right based fluxes. Eq. 18 and 19\n",
    "        \n",
    "        if (zloc[3]-zloc[2]) == 0.0:\n",
    "            roe_speed[i]=np.sign( (qloc[3]-qloc[2]) )\n",
    "        else:\n",
    "            roe_speed[i]=np.sign( (qloc[3]-qloc[2])/ (zloc[3]-zloc[2]) )\n",
    "        \n",
    "        if roe_speed[i] >= 0.0:\n",
    "            flux[i] = get_left_flux(qloc)\n",
    "        else:\n",
    "            flux[i] = get_right_flux(qloc)\n",
    "        \n",
    "    # Need the sign of the phase speed\n",
    "    # Need to check this out\n",
    "    for i in range(0,nx): #i=2       \n",
    "        floc = get_stencil(flux,i-1,i+1)\n",
    "        zc[i] = zn[i]-(1./(1.-nP))*dt/dx*(floc[1]-floc[0])\n",
    "    \n",
    "    bed_max_delta = np.max(np.abs(z_hydro - zc))\n",
    "    \n",
    "    # Apply the avalanche model\n",
    "    zc,iterations = avalanche_model(dx,xc,zc)\n",
    "    #zc = z_updated.copy()\n",
    "    \n",
    "    # Re-run the solver and updated the sediment transport\n",
    "    # Check if the avalanche model was updated OR the bed changed greater than the threshold\n",
    "    if iterations > 0 or bed_max_delta > 0.05:\n",
    "        u, surf,h = shw_slvr.run(zc,s);\n",
    "        qbedload = a*u**b\n",
    "        z_hydro = zc.copy()\n",
    "        \n",
    "    cntr += 1\n",
    "    if cntr == 1000:\n",
    "        cntr = 0\n",
    "        print('Time step {0} of {1} - bed_max_delta {2}'.format(n,nt,bed_max_delta))\n",
    "\n",
    "plt.plot(xc,zc)\n",
    "    "
   ]
  },
  {
   "cell_type": "code",
<<<<<<< HEAD
   "execution_count": 9,
=======
   "execution_count": 8,
>>>>>>> 9dc9742005b934db2080f2ab043e95a503e61d42
   "metadata": {
    "collapsed": true
   },
   "outputs": [],
   "source": [
<<<<<<< HEAD
    "from schemes.weno import get_exact_solution\n",
    "x_6000, z_a6000 = get_exact_solution(z0,xc, 0.4,s,a,b,10.,6000.)"
=======
    "import schemes.weno as weno\n",
    "x_6000, z_a6000 = weno.get_exact_solution(z0,xc, 0.4,s,a,b,10.,simTime)"
>>>>>>> 9dc9742005b934db2080f2ab043e95a503e61d42
   ]
  },
  {
   "cell_type": "code",
<<<<<<< HEAD
   "execution_count": 10,
=======
   "execution_count": 9,
>>>>>>> 9dc9742005b934db2080f2ab043e95a503e61d42
   "metadata": {},
   "outputs": [
    {
     "data": {
      "text/plain": [
<<<<<<< HEAD
       "<matplotlib.legend.Legend at 0x7f549ab3b8d0>"
      ]
     },
     "execution_count": 10,
=======
       "<matplotlib.legend.Legend at 0x7ffb42f75a20>"
      ]
     },
     "execution_count": 9,
>>>>>>> 9dc9742005b934db2080f2ab043e95a503e61d42
     "metadata": {},
     "output_type": "execute_result"
    },
    {
     "data": {
<<<<<<< HEAD
      "image/png": "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\n",
=======
      "image/png": "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\n",
>>>>>>> 9dc9742005b934db2080f2ab043e95a503e61d42
      "text/plain": [
       "<Figure size 576x432 with 1 Axes>"
      ]
     },
     "metadata": {},
     "output_type": "display_data"
    }
   ],
   "source": [
    "fig = plt.figure(figsize=(8, 6))\n",
    "plt.plot(xc,z0,'k', label='t=0s') \n",
    "\n",
    "plt.plot(xc,zc, 'r', label='t=6000s')\n",
    "plt.plot(x_6000, z_a6000,'r--', label='t=6000s')\n",
    "\n",
    "plt.plot(xc, surf, 'b')\n",
    "\n",
    "plt.xlabel('x (m)')\n",
    "plt.ylabel('$z_b$ (m)')\n",
    "plt.xlim([120,210])\n",
    "plt.ylim([6,12.5])\n",
    "plt.legend(loc=2)"
   ]
  },
  {
   "cell_type": "code",
<<<<<<< HEAD
   "execution_count": 11,
=======
   "execution_count": 10,
>>>>>>> 9dc9742005b934db2080f2ab043e95a503e61d42
   "metadata": {},
   "outputs": [
    {
     "data": {
      "text/plain": [
<<<<<<< HEAD
       "<matplotlib.legend.Legend at 0x7f549ccd17b8>"
      ]
     },
     "execution_count": 11,
=======
       "<matplotlib.legend.Legend at 0x7ffb42e4f9e8>"
      ]
     },
     "execution_count": 10,
>>>>>>> 9dc9742005b934db2080f2ab043e95a503e61d42
     "metadata": {},
     "output_type": "execute_result"
    },
    {
     "data": {
<<<<<<< HEAD
      "image/png": "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\n",
=======
      "image/png": "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\n",
>>>>>>> 9dc9742005b934db2080f2ab043e95a503e61d42
      "text/plain": [
       "<Figure size 432x288 with 1 Axes>"
      ]
     },
     "metadata": {},
     "output_type": "display_data"
    }
   ],
   "source": [
    "plt.plot(xc, surf, 'b', label='surface')\n",
    "plt.plot(xc, u, 'g', label='velocity')\n",
    "plt.plot(xc, h, 'k', label='depth')\n",
    "\n",
    "plt.xlim([120,210])\n",
    "plt.legend(loc=2)"
   ]
  },
  {
   "cell_type": "markdown",
   "metadata": {},
   "source": [
    "## Run 2 - Meyer-Peter-Muller Sediment Transport Equations\n",
    "\n",
    "Same as above but now we will swap the sediment transport equations from\n",
    "\n",
    "$Q_{bedload} = aU^b$\n",
    "\n",
    "to \n"
   ]
  },
  {
   "cell_type": "code",
<<<<<<< HEAD
   "execution_count": 12,
=======
   "execution_count": 16,
>>>>>>> 9dc9742005b934db2080f2ab043e95a503e61d42
   "metadata": {},
   "outputs": [
    {
     "name": "stderr",
     "output_type": "stream",
     "text": [
<<<<<<< HEAD
      "\n",
      "Error compiling Cython file:\n",
      "------------------------------------------------------------\n",
      "...\n",
      "u, surf,h = shw_slvr.run(zc,s)\n",
      "\n",
      "\n",
      "if np.isnan(u).any():\n",
      "    # Get the flow\n",
      "    print u\n",
      "         ^\n",
      "------------------------------------------------------------\n",
      "\n",
      "/root/.cache/ipython/cython/_cython_magic_0722e5f6d7daba508ac5c027045ab467.pyx:67:10: Syntax error in simple statement list\n"
     ]
    },
    {
     "ename": "TypeError",
     "evalue": "object of type 'NoneType' has no len()",
     "output_type": "error",
     "traceback": [
      "\u001b[0;31m---------------------------------------------------------------------------\u001b[0m",
      "\u001b[0;31mTypeError\u001b[0m                                 Traceback (most recent call last)",
      "\u001b[0;32m<ipython-input-12-180cdf3ca464>\u001b[0m in \u001b[0;36m<module>\u001b[0;34m\u001b[0m\n\u001b[0;32m----> 1\u001b[0;31m \u001b[0mget_ipython\u001b[0m\u001b[0;34m(\u001b[0m\u001b[0;34m)\u001b[0m\u001b[0;34m.\u001b[0m\u001b[0mrun_cell_magic\u001b[0m\u001b[0;34m(\u001b[0m\u001b[0;34m'cython'\u001b[0m\u001b[0;34m,\u001b[0m \u001b[0;34m''\u001b[0m\u001b[0;34m,\u001b[0m \u001b[0;34m'import sys\\nfrom clawpack import pyclaw\\nfrom clawpack import riemann\\nimport numpy as np\\nimport sed_trans\\n\\nsys.path.append(\"/home/pgrover/Dropbox/PhD/Morphodynamic_Model/pymorph\")\\nfrom schemes.weno import get_left_flux,get_right_flux\\nfrom schemes.weno import get_stencil\\n\\nfrom models.shallow_water_solver import shallow_solver\\nfrom schemes.avalanche_scheme import *\\n\\n\\n#--------------------------------\\n# Set up the constants\\n#--------------------------------\\na=0.001\\nb=3.0\\nQ=10.0\\nnP=0.4\\nxcentre = 150.  # Centre of hum\\nh0 = 6.0        # Height of the dune\\ns= 12.0         # Datum\\nbeta = 0.01\\n\\n# Sediment properties\\nD50 = 0.001     # Particle Diameter\\nrho_particule = 2650\\n\\n#--------------------------------\\n# Set up the domain, BCs and ICs\\n#--------------------------------\\nimport logging\\nlogger = logging.getLogger(\\'pyclaw\\')\\nlogger.setLevel(logging.CRITICAL)\\n\\nnx=300\\nx = pyclaw.Dimension(0.0,300.0,nx,name=\\'x\\')\\ndomain = pyclaw.Domain(x)\\nstate = pyclaw.State(domain,1)\\nxc = state.grid.x.centers\\ndx = state.grid.delta[0]\\nprint(\\'Grid dx = {0}\\'.format(dx))\\nprint(\\'Grid nx = {0}\\'.format(len(xc)))\\n\\n # Gravitational constant\\nstate.problem_data[\\'grav\\'] = 9.8\\nstate.problem_data[\\'sea_level\\'] = 0.0\\n\\n#--------------------------------\\n# Set up the bathymetry\\n#--------------------------------\\nz = np.zeros(nx)\\n# Eq 66 - Build the Gaussian Hump\\nz = np.array([(h0 + 2.0*math.exp(-beta*(xp-xcentre)**2)) for xp in xc])\\nzc = z.copy()\\nz_hydro = z.copy()\\n\\n# Set up the inital state of the flow\\nshw_slvr = shallow_solver(domain)\\nu, surf,h = shw_slvr.run(zc,s)\\n\\n\\nif np.isnan(u).any():\\n    # Get the flow\\n    print u\\n    raise ValueError(\\'Failed to calculate the flow\\')\\n#--------------------------------\\n# Initialize the sed transport \\n#--------------------------------    \\n# Eq 57\\nqbedload = np.zeros(nx)\\nroe_speed = np.zeros(nx)\\nqbedload = a*u**b\\nflux = np.zeros(nx)\\n\\n#--------------------------------\\n#  Setup the model run parameters\\n#--------------------------------\\nsimTime = 10000. # Runtime in seconds\\ndt = 2 # Time step size (s)\\nnt = int(simTime/dt)  # Number of time steps\\n\\n\\n#--------------------------------\\n# Set up the model reporting parameters\\n#--------------------------------\\nz0 = zc.copy() \\nz600 = zc.copy() \\nz2000 = zc.copy()\\nverts = []\\n\\nextractionInterval = 100.\\ntsteps=[]\\ncntr = 0\\n#--------------------------------\\n#  Run the model\\n#--------------------------------\\nfor n in range(1,nt):  \\n    zn = zc.copy() \\n    for i in range(0,nx): #i=2\\n\\n        zloc = get_stencil(zn,i-2,i+4)\\n        \\n        # Since k=3\\n        # stencil is i-2 to i+2 \\n        qloc = get_stencil(qbedload,i-2,i+4)\\n        if len(qloc)<>6:\\n            raise ValueError(\\'Stencil is incorrect\\')\\n \\n        # Determine the Upwind flux\\n        # The 0.5 comes from the c+abs(c) which is 2 if the wave speed is +ive\\n        # this is the evaluation of the left and right based fluxes. Eq. 18 and 19\\n        \\n        if (zloc[3]-zloc[2]) == 0.0:\\n            roe_speed[i]=np.sign( (qloc[3]-qloc[2]) )\\n        else:\\n            roe_speed[i]=np.sign( (qloc[3]-qloc[2])/ (zloc[3]-zloc[2]) )\\n        \\n        if roe_speed[i] >= 0.0:\\n            flux[i] = get_left_flux(qloc)\\n        else:\\n            flux[i] = get_right_flux(qloc)\\n        \\n    # Need the sign of the phase speed\\n    # Need to check this out\\n    for i in range(0,nx): #i=2       \\n        floc = get_stencil(flux,i-1,i+1)\\n        zc[i] = zn[i]-(1./(1.-nP))*dt/dx*(floc[1]-floc[0])\\n    \\n    bed_max_delta = np.max(np.abs(z_hydro - zc))\\n    \\n    # Apply the avalanche model\\n    zc,iterations = avalanche_model(dx,xc,zc)\\n    #zc = z_updated.copy()\\n    \\n    # Re-run the solver and updated the sediment transport\\n    # Check if the avalanche model was updated OR the bed changed greater than the threshold\\n    if iterations > 2 or bed_max_delta > 0.05:\\n        u, surf,h = shw_slvr.run(zc,s)\\n        for i in range(0,nx): #i=2    \\n            zlocal = get_stencil(zn,i-2,i+2)\\n            slope = (zlocal[3]-zlocal[1]) / dx\\n            qbedload[i] = sed_trans.get_unit_bed_load2(h[i],u[i],D50,rho_particule,\\'mpm\\') \\n        z_hydro = zc.copy()\\n    \\n    if (n*dt / extractionInterval) == math.floor(n*dt / extractionInterval):\\n        verts.append(list(zip(xc.copy(),zc.copy())))\\n        tsteps.append(n*dt)\\n        \\n    cntr += 1\\n    if cntr == 1000:\\n        cntr = 0\\n        print(\\'Time step {0} of {1} - bed_max_delta {2}\\'.format(n,nt,bed_max_delta))    \\n        \\nprint(\\'Done\\')\\n'\u001b[0m\u001b[0;34m)\u001b[0m\u001b[0;34m\u001b[0m\u001b[0;34m\u001b[0m\u001b[0m\n\u001b[0m",
      "\u001b[0;32m/usr/local/lib/python3.6/site-packages/IPython/core/interactiveshell.py\u001b[0m in \u001b[0;36mrun_cell_magic\u001b[0;34m(self, magic_name, line, cell)\u001b[0m\n\u001b[1;32m   2350\u001b[0m             \u001b[0;32mwith\u001b[0m \u001b[0mself\u001b[0m\u001b[0;34m.\u001b[0m\u001b[0mbuiltin_trap\u001b[0m\u001b[0;34m:\u001b[0m\u001b[0;34m\u001b[0m\u001b[0;34m\u001b[0m\u001b[0m\n\u001b[1;32m   2351\u001b[0m                 \u001b[0margs\u001b[0m \u001b[0;34m=\u001b[0m \u001b[0;34m(\u001b[0m\u001b[0mmagic_arg_s\u001b[0m\u001b[0;34m,\u001b[0m \u001b[0mcell\u001b[0m\u001b[0;34m)\u001b[0m\u001b[0;34m\u001b[0m\u001b[0;34m\u001b[0m\u001b[0m\n\u001b[0;32m-> 2352\u001b[0;31m                 \u001b[0mresult\u001b[0m \u001b[0;34m=\u001b[0m \u001b[0mfn\u001b[0m\u001b[0;34m(\u001b[0m\u001b[0;34m*\u001b[0m\u001b[0margs\u001b[0m\u001b[0;34m,\u001b[0m \u001b[0;34m**\u001b[0m\u001b[0mkwargs\u001b[0m\u001b[0;34m)\u001b[0m\u001b[0;34m\u001b[0m\u001b[0;34m\u001b[0m\u001b[0m\n\u001b[0m\u001b[1;32m   2353\u001b[0m             \u001b[0;32mreturn\u001b[0m \u001b[0mresult\u001b[0m\u001b[0;34m\u001b[0m\u001b[0;34m\u001b[0m\u001b[0m\n\u001b[1;32m   2354\u001b[0m \u001b[0;34m\u001b[0m\u001b[0m\n",
      "\u001b[0;32m</usr/local/lib/python3.6/site-packages/decorator.py:decorator-gen-130>\u001b[0m in \u001b[0;36mcython\u001b[0;34m(self, line, cell)\u001b[0m\n",
      "\u001b[0;32m/usr/local/lib/python3.6/site-packages/IPython/core/magic.py\u001b[0m in \u001b[0;36m<lambda>\u001b[0;34m(f, *a, **k)\u001b[0m\n\u001b[1;32m    185\u001b[0m     \u001b[0;31m# but it's overkill for just that one bit of state.\u001b[0m\u001b[0;34m\u001b[0m\u001b[0;34m\u001b[0m\u001b[0;34m\u001b[0m\u001b[0m\n\u001b[1;32m    186\u001b[0m     \u001b[0;32mdef\u001b[0m \u001b[0mmagic_deco\u001b[0m\u001b[0;34m(\u001b[0m\u001b[0marg\u001b[0m\u001b[0;34m)\u001b[0m\u001b[0;34m:\u001b[0m\u001b[0;34m\u001b[0m\u001b[0;34m\u001b[0m\u001b[0m\n\u001b[0;32m--> 187\u001b[0;31m         \u001b[0mcall\u001b[0m \u001b[0;34m=\u001b[0m \u001b[0;32mlambda\u001b[0m \u001b[0mf\u001b[0m\u001b[0;34m,\u001b[0m \u001b[0;34m*\u001b[0m\u001b[0ma\u001b[0m\u001b[0;34m,\u001b[0m \u001b[0;34m**\u001b[0m\u001b[0mk\u001b[0m\u001b[0;34m:\u001b[0m \u001b[0mf\u001b[0m\u001b[0;34m(\u001b[0m\u001b[0;34m*\u001b[0m\u001b[0ma\u001b[0m\u001b[0;34m,\u001b[0m \u001b[0;34m**\u001b[0m\u001b[0mk\u001b[0m\u001b[0;34m)\u001b[0m\u001b[0;34m\u001b[0m\u001b[0;34m\u001b[0m\u001b[0m\n\u001b[0m\u001b[1;32m    188\u001b[0m \u001b[0;34m\u001b[0m\u001b[0m\n\u001b[1;32m    189\u001b[0m         \u001b[0;32mif\u001b[0m \u001b[0mcallable\u001b[0m\u001b[0;34m(\u001b[0m\u001b[0marg\u001b[0m\u001b[0;34m)\u001b[0m\u001b[0;34m:\u001b[0m\u001b[0;34m\u001b[0m\u001b[0;34m\u001b[0m\u001b[0m\n",
      "\u001b[0;32m/usr/local/lib/python3.6/site-packages/Cython/Build/IpythonMagic.py\u001b[0m in \u001b[0;36mcython\u001b[0;34m(self, line, cell)\u001b[0m\n\u001b[1;32m    323\u001b[0m         \u001b[0;32mif\u001b[0m \u001b[0mneed_cythonize\u001b[0m\u001b[0;34m:\u001b[0m\u001b[0;34m\u001b[0m\u001b[0;34m\u001b[0m\u001b[0m\n\u001b[1;32m    324\u001b[0m             \u001b[0mextensions\u001b[0m \u001b[0;34m=\u001b[0m \u001b[0mself\u001b[0m\u001b[0;34m.\u001b[0m\u001b[0m_cythonize\u001b[0m\u001b[0;34m(\u001b[0m\u001b[0mmodule_name\u001b[0m\u001b[0;34m,\u001b[0m \u001b[0mcode\u001b[0m\u001b[0;34m,\u001b[0m \u001b[0mlib_dir\u001b[0m\u001b[0;34m,\u001b[0m \u001b[0margs\u001b[0m\u001b[0;34m,\u001b[0m \u001b[0mquiet\u001b[0m\u001b[0;34m=\u001b[0m\u001b[0margs\u001b[0m\u001b[0;34m.\u001b[0m\u001b[0mquiet\u001b[0m\u001b[0;34m)\u001b[0m\u001b[0;34m\u001b[0m\u001b[0;34m\u001b[0m\u001b[0m\n\u001b[0;32m--> 325\u001b[0;31m             \u001b[0;32massert\u001b[0m \u001b[0mlen\u001b[0m\u001b[0;34m(\u001b[0m\u001b[0mextensions\u001b[0m\u001b[0;34m)\u001b[0m \u001b[0;34m==\u001b[0m \u001b[0;36m1\u001b[0m\u001b[0;34m\u001b[0m\u001b[0;34m\u001b[0m\u001b[0m\n\u001b[0m\u001b[1;32m    326\u001b[0m             \u001b[0mextension\u001b[0m \u001b[0;34m=\u001b[0m \u001b[0mextensions\u001b[0m\u001b[0;34m[\u001b[0m\u001b[0;36m0\u001b[0m\u001b[0;34m]\u001b[0m\u001b[0;34m\u001b[0m\u001b[0;34m\u001b[0m\u001b[0m\n\u001b[1;32m    327\u001b[0m             \u001b[0mself\u001b[0m\u001b[0;34m.\u001b[0m\u001b[0m_code_cache\u001b[0m\u001b[0;34m[\u001b[0m\u001b[0mkey\u001b[0m\u001b[0;34m]\u001b[0m \u001b[0;34m=\u001b[0m \u001b[0mmodule_name\u001b[0m\u001b[0;34m\u001b[0m\u001b[0;34m\u001b[0m\u001b[0m\n",
      "\u001b[0;31mTypeError\u001b[0m: object of type 'NoneType' has no len()"
=======
      "Grid dx = 1.0\n",
      "Grid nx = 300\n",
      "Time step 1000 of 5000 - bed_max_delta 0.00022461492469361133\n",
      "Time step 2000 of 5000 - bed_max_delta 0.017858718745291213\n",
      "Time step 3000 of 5000 - bed_max_delta 0.00922153983035301\n",
      "Time step 4000 of 5000 - bed_max_delta 0.03381204496702139\n",
      "Done\n"
>>>>>>> 9dc9742005b934db2080f2ab043e95a503e61d42
     ]
    }
   ],
   "source": [
    "%%cython\n",
    "import sys\n",
    "from clawpack import pyclaw\n",
    "from clawpack import riemann\n",
    "import numpy as np\n",
    "from sediment_transport import sed_trans\n",
    "\n",
    "sys.path.append(\"/pymorph\")\n",
    "from schemes.weno import get_left_flux,get_right_flux\n",
    "from schemes.weno import get_stencil\n",
    "\n",
    "from models.shallow_water_solver import shallow_solver\n",
    "from schemes.avalanche_scheme import *\n",
    "\n",
    "\n",
    "#--------------------------------\n",
    "# Set up the constants\n",
    "#--------------------------------\n",
    "a=0.001\n",
    "b=3.0\n",
    "Q=10.0\n",
    "nP=0.4\n",
    "xcentre = 150.  # Centre of hum\n",
    "h0 = 6.0        # Height of the dune\n",
    "s= 12.0         # Datum\n",
    "beta = 0.01\n",
    "\n",
    "# Sediment properties\n",
    "D50 = 0.001     # Particle Diameter\n",
    "rho_particule = 2650\n",
    "\n",
    "#--------------------------------\n",
    "# Set up the domain, BCs and ICs\n",
    "#--------------------------------\n",
    "import logging\n",
    "logger = logging.getLogger('pyclaw')\n",
    "logger.setLevel(logging.CRITICAL)\n",
    "\n",
    "nx=300\n",
    "x = pyclaw.Dimension(0.0,300.0,nx,name='x')\n",
    "domain = pyclaw.Domain(x)\n",
    "state = pyclaw.State(domain,1)\n",
    "xc = state.grid.x.centers\n",
    "dx = state.grid.delta[0]\n",
    "print('Grid dx = {0}'.format(dx))\n",
    "print('Grid nx = {0}'.format(len(xc)))\n",
    "\n",
    " # Gravitational constant\n",
    "state.problem_data['grav'] = 9.8\n",
    "state.problem_data['sea_level'] = 0.0\n",
    "\n",
    "#--------------------------------\n",
    "# Set up the bathymetry\n",
    "#--------------------------------\n",
    "z = np.zeros(nx)\n",
    "# Eq 66 - Build the Gaussian Hump\n",
    "z = np.array([(h0 + 2.0*math.exp(-beta*(xp-xcentre)**2)) for xp in xc])\n",
    "zc = z.copy()\n",
    "z_hydro = z.copy()\n",
    "\n",
    "# Set up the inital state of the flow\n",
    "shw_slvr = shallow_solver(domain)\n",
    "u, surf,h = shw_slvr.run(zc,s)\n",
    "\n",
    "\n",
    "if np.isnan(u).any():\n",
    "    # Get the flow\n",
    "    print( u)\n",
    "    raise ValueError('Failed to calculate the flow')\n",
    "#--------------------------------\n",
    "# Initialize the sed transport \n",
    "#--------------------------------    \n",
    "# Eq 57\n",
    "qbedload = np.zeros(nx)\n",
    "roe_speed = np.zeros(nx)\n",
    "qbedload = a*u**b\n",
    "flux = np.zeros(nx)\n",
    "\n",
    "#--------------------------------\n",
    "#  Setup the model run parameters\n",
    "#--------------------------------\n",
    "simTime = 10000. # Runtime in seconds\n",
    "dt = 2 # Time step size (s)\n",
    "nt = int(simTime/dt)  # Number of time steps\n",
    "\n",
    "\n",
    "#--------------------------------\n",
    "# Set up the model reporting parameters\n",
    "#--------------------------------\n",
    "z0 = zc.copy() \n",
    "z600 = zc.copy() \n",
    "z2000 = zc.copy()\n",
    "verts = []\n",
    "\n",
    "extractionInterval = 100.\n",
    "tsteps=[]\n",
    "cntr = 0\n",
    "#--------------------------------\n",
    "#  Run the model\n",
    "#--------------------------------\n",
    "for n in range(1,nt):  \n",
    "    zn = zc.copy() \n",
    "    for i in range(0,nx): #i=2\n",
    "\n",
    "        zloc = get_stencil(zn,i-2,i+4)\n",
    "        \n",
    "        # Since k=3\n",
    "        # stencil is i-2 to i+2 \n",
    "        qloc = get_stencil(qbedload,i-2,i+4)\n",
    "        if len(qloc)<>6:\n",
    "            raise ValueError('Stencil is incorrect')\n",
    " \n",
    "        # Determine the Upwind flux\n",
    "        # The 0.5 comes from the c+abs(c) which is 2 if the wave speed is +ive\n",
    "        # this is the evaluation of the left and right based fluxes. Eq. 18 and 19\n",
    "        \n",
    "        if (zloc[3]-zloc[2]) == 0.0:\n",
    "            roe_speed[i]=np.sign( (qloc[3]-qloc[2]) )\n",
    "        else:\n",
    "            roe_speed[i]=np.sign( (qloc[3]-qloc[2])/ (zloc[3]-zloc[2]) )\n",
    "        \n",
    "        if roe_speed[i] >= 0.0:\n",
    "            flux[i] = get_left_flux(qloc)\n",
    "        else:\n",
    "            flux[i] = get_right_flux(qloc)\n",
    "        \n",
    "    # Need the sign of the phase speed\n",
    "    # Need to check this out\n",
    "    for i in range(0,nx): #i=2       \n",
    "        floc = get_stencil(flux,i-1,i+1)\n",
    "        zc[i] = zn[i]-(1./(1.-nP))*dt/dx*(floc[1]-floc[0])\n",
    "    \n",
    "    bed_max_delta = np.max(np.abs(z_hydro - zc))\n",
    "    \n",
    "    # Apply the avalanche model\n",
    "    zc,iterations = avalanche_model(dx,xc,zc)\n",
    "    #zc = z_updated.copy()\n",
    "    \n",
    "    # Re-run the solver and updated the sediment transport\n",
    "    # Check if the avalanche model was updated OR the bed changed greater than the threshold\n",
    "    if iterations > 2 or bed_max_delta > 0.05:\n",
    "        u, surf,h = shw_slvr.run(zc,s)\n",
    "        for i in range(0,nx): #i=2    \n",
    "            zlocal = get_stencil(zn,i-2,i+2)\n",
    "            slope = (zlocal[3]-zlocal[1]) / dx\n",
    "            qbedload[i] = sed_trans.get_unit_bed_load2(h[i],u[i],D50,rho_particule,'mpm') \n",
    "        z_hydro = zc.copy()\n",
    "    \n",
    "    if (n*dt / extractionInterval) == math.floor(n*dt / extractionInterval):\n",
    "        verts.append(list(zip(xc.copy(),zc.copy())))\n",
    "        tsteps.append(n*dt)\n",
    "        \n",
    "    cntr += 1\n",
    "    if cntr == 1000:\n",
    "        cntr = 0\n",
    "        print('Time step {0} of {1} - bed_max_delta {2}'.format(n,nt,bed_max_delta))    \n",
    "        \n",
    "print('Done')"
   ]
  },
  {
   "cell_type": "code",
   "execution_count": 17,
   "metadata": {},
   "outputs": [
    {
     "data": {
      "text/plain": [
       "<matplotlib.legend.Legend at 0x7ffb45510748>"
      ]
     },
     "execution_count": 17,
     "metadata": {},
     "output_type": "execute_result"
    },
    {
     "data": {
      "image/png": "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\n",
      "text/plain": [
       "<Figure size 576x432 with 1 Axes>"
      ]
     },
     "metadata": {},
     "output_type": "display_data"
    }
   ],
   "source": [
    "fig = plt.figure(figsize=(8, 6))\n",
    "plt.plot(xc,z0,'k', label='t=0s') \n",
    "\n",
    "plt.plot(xc,zc, 'r', label='t=6000s')\n",
    "plt.plot(x_6000, z_a6000,'r--', label='t=6000s')\n",
    "\n",
    "plt.plot(xc, surf, 'b')\n",
    "\n",
    "plt.xlabel('x (m)')\n",
    "plt.ylabel('$z_b$ (m)')\n",
    "plt.xlim([120,210])\n",
    "plt.ylim([6,12.5])\n",
    "plt.legend(loc=2)"
   ]
  },
  {
   "cell_type": "code",
   "execution_count": 18,
   "metadata": {},
   "outputs": [
    {
     "data": {
      "text/plain": [
       "[<matplotlib.lines.Line2D at 0x7ffb45588358>]"
      ]
     },
     "execution_count": 18,
     "metadata": {},
     "output_type": "execute_result"
    },
    {
     "data": {
      "image/png": "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\n",
      "text/plain": [
       "<Figure size 432x288 with 1 Axes>"
      ]
     },
     "metadata": {},
     "output_type": "display_data"
    }
   ],
   "source": [
    "plt.plot(xc,qbedload*1000)\n",
    "plt.plot(xc,u)\n"
   ]
  },
  {
   "cell_type": "code",
   "execution_count": 19,
   "metadata": {},
   "outputs": [
    {
     "data": {
      "text/plain": [
       "3.5348636906462616e-08"
      ]
     },
     "execution_count": 19,
     "metadata": {},
     "output_type": "execute_result"
    }
   ],
   "source": [
    "slope"
   ]
  },
  {
   "cell_type": "markdown",
   "metadata": {},
   "source": [
    "## Now account for the influence of the bed slope on the sediment transport\n"
   ]
  },
  {
   "cell_type": "code",
   "execution_count": 26,
   "metadata": {},
   "outputs": [
    {
     "name": "stdout",
     "output_type": "stream",
     "text": [
      "Grid dx = 1.0\n",
      "Grid nx = 300\n",
      "Time step 1000 of 10000 - bed_max_delta 0.00024203163771296943\n",
      "Time step 2000 of 10000 - bed_max_delta 0.00024203163771296943\n",
      "Time step 3000 of 10000 - bed_max_delta 0.00024203163771296943\n",
      "Time step 4000 of 10000 - bed_max_delta 0.00024203163771296943\n",
      "Time step 5000 of 10000 - bed_max_delta 0.00024203163771296943\n",
      "Time step 6000 of 10000 - bed_max_delta 0.00024203163771296943\n",
      "Time step 7000 of 10000 - bed_max_delta 0.00024203163771296943\n",
      "Time step 8000 of 10000 - bed_max_delta 0.00024203163771296943\n",
      "Time step 9000 of 10000 - bed_max_delta 0.00024203163771296943\n",
      "Done\n"
     ]
    }
   ],
   "source": [
    "#--------------------------------\n",
    "# Set up the constants\n",
    "#--------------------------------\n",
    "a=0.001\n",
    "b=3.0\n",
    "Q=10.0\n",
    "nP=0.4\n",
    "xcentre = 150.  # Centre of hum\n",
    "h0 = 6.0        # Height of the dune\n",
    "s= 12.0         # Datum\n",
    "beta = 0.01\n",
    "\n",
    "# Sediment properties\n",
    "D50 = 0.001     # Particle Diameter\n",
    "rho_particule = 1650\n",
    "\n",
    "#--------------------------------\n",
    "# Set up the domain, BCs and ICs\n",
    "#--------------------------------\n",
    "import logging\n",
    "logger = logging.getLogger('pyclaw')\n",
    "logger.setLevel(logging.CRITICAL)\n",
    "\n",
    "nx=300\n",
    "x = pyclaw.Dimension(0.0,300.0,nx,name='x')\n",
    "domain = pyclaw.Domain(x)\n",
    "state = pyclaw.State(domain,1)\n",
    "xc = state.grid.x.centers\n",
    "dx = state.grid.delta[0]\n",
    "print('Grid dx = {0}'.format(dx))\n",
    "print('Grid nx = {0}'.format(len(xc)))\n",
    "\n",
    " # Gravitational constant\n",
    "state.problem_data['grav'] = 9.8\n",
    "state.problem_data['sea_level'] = 0.0\n",
    "\n",
    "#--------------------------------\n",
    "# Set up the bathymetry\n",
    "#--------------------------------\n",
    "z = np.zeros(nx)\n",
    "# Eq 66 - Build the Gaussian Hump\n",
    "z = np.array([(h0 + 2.0*math.exp(-beta*(xp-xcentre)**2)) for xp in xc])\n",
    "zc = z.copy()\n",
    "z_hydro = z.copy()\n",
    "\n",
    "# Set up the inital state of the flow\n",
    "shw_slvr = shallow_solver(domain)\n",
    "u, surf,h = shw_slvr.run(zc,s)\n",
    "\n",
    "\n",
    "if np.isnan(u).any():\n",
    "    # Get the flow\n",
    "    print(u)\n",
    "    raise ValueError('Failed to calculate the flow')\n",
    "#--------------------------------\n",
    "# Initialize the sed transport \n",
    "#--------------------------------    \n",
    "# Eq 57\n",
    "qbedload = np.zeros(nx)\n",
    "roe_speed = np.zeros(nx)\n",
    "qbedload = a*u**b\n",
    "flux = np.zeros(nx)\n",
    "\n",
    "#--------------------------------\n",
    "#  Setup the model run parameters\n",
    "#--------------------------------\n",
    "simTime = 20000. # Runtime in seconds\n",
    "dt = 2 # Time step size (s)\n",
    "nt = int(simTime/dt)  # Number of time steps\n",
    "\n",
    "\n",
    "#--------------------------------\n",
    "# Set up the model reporting parameters\n",
    "#--------------------------------\n",
    "z0 = zc.copy() \n",
    "z600 = zc.copy() \n",
    "z2000 = zc.copy()\n",
    "verts = []\n",
    "\n",
    "extractionInterval = 100.\n",
    "tsteps=[]\n",
    "cntr = 0\n",
    "#--------------------------------\n",
    "#  Run the model\n",
    "#--------------------------------\n",
    "for n in range(1,nt):  \n",
    "    zn = zc.copy() \n",
    "    for i in range(0,nx): #i=2\n",
    "\n",
    "        zloc = get_stencil(zn,i-2,i+4)\n",
    "        \n",
    "        # Since k=3\n",
    "        # stencil is i-2 to i+2 \n",
    "        qloc = get_stencil(qbedload,i-2,i+4)\n",
    "        if len(qloc)!=6:\n",
    "            raise ValueError('Stencil is incorrect')\n",
    " \n",
    "        # Determine the Upwind flux\n",
    "        # The 0.5 comes from the c+abs(c) which is 2 if the wave speed is +ive\n",
    "        # this is the evaluation of the left and right based fluxes. Eq. 18 and 19\n",
    "        \n",
    "        if (zloc[3]-zloc[2]) == 0.0:\n",
    "            roe_speed[i]=np.sign( (qloc[3]-qloc[2]) )\n",
    "        else:\n",
    "            roe_speed[i]=np.sign( (qloc[3]-qloc[2])/ (zloc[3]-zloc[2]) )\n",
    "        \n",
    "        if roe_speed[i] >= 0.0:\n",
    "            flux[i] = get_left_flux(qloc)\n",
    "        else:\n",
    "            flux[i] = get_right_flux(qloc)\n",
    "        \n",
    "    # Need the sign of the phase speed\n",
    "    # Need to check this out\n",
    "    for i in range(0,nx): #i=2       \n",
    "        floc = get_stencil(flux,i-1,i+1)\n",
    "        zc[i] = zn[i]-(1./(1.-nP))*dt/dx*(floc[1]-floc[0])\n",
    "    \n",
    "    bed_max_delta = np.max(np.abs(z_hydro - zc))\n",
    "    \n",
    "    # Apply the avalanche model\n",
    "    zc,iterations = avalanche_model(dx,xc,zc)\n",
    "    #zc = z_updated.copy()\n",
    "    \n",
    "    # Re-run the solver and updated the sediment transport\n",
    "    # Check if the avalanche model was updated OR the bed changed greater than the threshold\n",
    "    if iterations > 10 or bed_max_delta > 0.01:\n",
    "        u, surf,h = shw_slvr.run(zc,s)\n",
    "    # Remove the old method \n",
    "    #qbedload = a*u**b\n",
    "\n",
    "    for i in range(0,nx): #i=2        \n",
    "        qbedload[i] = sed_trans.get_unit_bed_load2(h[i],u[i],D50,rho_particule,'mpm')\n",
    "    z_hydro = zc.copy()\n",
    "    \n",
    "    if (n*dt / extractionInterval) == math.floor(n*dt / extractionInterval):\n",
    "        verts.append(list(zip(xc.copy(),zc.copy())))\n",
    "        tsteps.append(n*dt)\n",
    "        \n",
    "    cntr += 1\n",
    "    if cntr == 1000:\n",
    "        cntr = 0\n",
    "        print('Time step {0} of {1} - bed_max_delta {2}'.format(n,nt,bed_max_delta))    \n",
    "        \n",
    "print('Done')"
   ]
  },
  {
   "cell_type": "code",
   "execution_count": 27,
   "metadata": {},
   "outputs": [
    {
     "data": {
      "text/plain": [
       "<matplotlib.legend.Legend at 0x7ffb4507fc50>"
      ]
     },
     "execution_count": 27,
     "metadata": {},
     "output_type": "execute_result"
    },
    {
     "data": {
      "image/png": "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\n",
      "text/plain": [
       "<Figure size 576x432 with 1 Axes>"
      ]
     },
     "metadata": {},
     "output_type": "display_data"
    }
   ],
   "source": [
    "fig = plt.figure(figsize=(8, 6))\n",
    "plt.plot(xc,z0,'k', label='t=0s') \n",
    "\n",
    "plt.plot(xc,zc, 'r', label='t=6000s')\n",
    "plt.plot(x_6000, z_a6000,'r--', label='t=6000s')\n",
    "\n",
    "plt.plot(xc, surf, 'b')\n",
    "\n",
    "plt.xlabel('x (m)')\n",
    "plt.ylabel('$z_b$ (m)')\n",
    "plt.xlim([120,210])\n",
    "plt.ylim([6,12.5])\n",
    "plt.legend(loc=2)"
   ]
  },
  {
   "cell_type": "code",
   "execution_count": 25,
   "metadata": {},
   "outputs": [
    {
     "data": {
      "text/plain": [
       "10"
      ]
     },
     "execution_count": 25,
     "metadata": {},
     "output_type": "execute_result"
    }
   ],
   "source": [
    "dt"
   ]
  },
  {
   "cell_type": "code",
   "execution_count": null,
   "metadata": {
    "collapsed": true
   },
   "outputs": [],
   "source": []
  },
  {
   "cell_type": "code",
   "execution_count": null,
   "metadata": {},
   "outputs": [],
   "source": []
  }
 ],
 "metadata": {
  "kernelspec": {
   "display_name": "Python 3",
   "language": "python",
   "name": "python3"
  },
  "language_info": {
   "codemirror_mode": {
    "name": "ipython",
    "version": 3
   },
   "file_extension": ".py",
   "mimetype": "text/x-python",
   "name": "python",
   "nbconvert_exporter": "python",
   "pygments_lexer": "ipython3",
   "version": "3.6.8"
  }
 },
 "nbformat": 4,
 "nbformat_minor": 2
}
