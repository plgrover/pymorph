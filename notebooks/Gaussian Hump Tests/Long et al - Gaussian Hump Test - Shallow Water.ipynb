{
 "cells": [
  {
   "cell_type": "code",
   "execution_count": 1,
   "metadata": {},
   "outputs": [],
   "source": [
    "import os,sys\n",
    "import csv\n",
    "import copy\n",
    "import math\n",
    "\n",
    "import matplotlib\n",
    "import matplotlib.pyplot as plt\n",
    "from clawpack import pyclaw\n",
    "from clawpack import riemann\n",
    "import numpy as np\n",
    "from scipy.integrate import simps, trapz\n",
    "\n",
    "sys.path.append(\"/pymorph\")\n",
    "from schemes.weno import get_left_flux,get_right_flux\n",
    "from schemes.weno import get_stencil\n",
    "\n",
    "from models.shallow_water_solver import shallow_solver\n",
    "from schemes.avalanche_scheme import *\n",
    "\n",
    "from matplotlib.collections import LineCollection\n",
    "from mpl_toolkits.mplot3d import Axes3D\n",
    "\n",
    "from IPython.display import display, Math, Latex\n",
    "\n",
    "%matplotlib inline\n",
    "%load_ext autoreload\n",
    "%autoreload 2\n",
    "\n",
    "\n",
    "plt.style.use(['dark_background'])\n",
    "\n",
    "import cython\n",
    "%load_ext cython"
   ]
  },
  {
   "cell_type": "markdown",
   "metadata": {},
   "source": [
    "# Long et. al. Gaussian Hump\n",
    "## Running with the Shallow Water Equations\n",
    "\n",
    "### October 21, 2015\n",
    "Starting to review this code and understand where I left off. I think what is left to do is check the Exner code against the analytical model shown in Long et al (2008). From what I can tell, I re-wrote the WENO scheme to match the scheme in the paper and I think it worked better but still need to verify that this the case. \n",
    "\n",
    "### August 15, 2016\n",
    "Now try this again using the WENO solver and also the 1-D SW Equations"
   ]
  },
  {
   "cell_type": "code",
   "execution_count": 4,
   "metadata": {},
   "outputs": [
    {
     "name": "stdout",
     "output_type": "stream",
     "text": [
      "Grid dx = 1.0\n",
      "Grid nx = 300\n",
      "Time step 1000 of 10000 - bed_max_delta 0.0008392768469800416\n",
      "Time step 2000 of 10000 - bed_max_delta 0.03557622685898565\n",
      "Time step 3000 of 10000 - bed_max_delta 0.024268449154487115\n",
      "Time step 4000 of 10000 - bed_max_delta 0.0061860239206863454\n",
      "Time step 5000 of 10000 - bed_max_delta 0.004408638647923624\n",
      "Time step 6000 of 10000 - bed_max_delta 0.027296083410988103\n",
      "Time step 7000 of 10000 - bed_max_delta 0.0109139313630493\n",
      "Time step 8000 of 10000 - bed_max_delta 0.007364116713952207\n",
      "Time step 9000 of 10000 - bed_max_delta 0.01822097666413569\n"
     ]
    },
    {
     "data": {
      "text/plain": [
       "[<matplotlib.lines.Line2D at 0x7ffb45002390>]"
      ]
     },
     "execution_count": 4,
     "metadata": {},
     "output_type": "execute_result"
    },
    {
     "data": {
      "image/png": "[encoded data removed]",
      "text/plain": [
       "<Figure size 432x288 with 1 Axes>"
      ]
     },
     "metadata": {},
     "output_type": "display_data"
    }
   ],
   "source": [
    "#--------------------------------\n",
    "# Set up the constants\n",
    "#--------------------------------\n",
    "a=0.001\n",
    "b=3.0\n",
    "Q=10.0\n",
    "nP=0.4\n",
    "xcentre = 150.  # Centre of hump\n",
    "h0 = 6.0        # Height of the dune\n",
    "s= 12.0            # Datum\n",
    "beta = 0.01\n",
    "\n",
    "#--------------------------------\n",
    "# Set up the domain, BCs and ICs\n",
    "#--------------------------------\n",
    "import logging\n",
    "logger = logging.getLogger('pyclaw')\n",
    "logger.setLevel(logging.CRITICAL)\n",
    "\n",
    "nx=300\n",
    "x = pyclaw.Dimension(0.0,300.0,nx,name='x')\n",
    "domain = pyclaw.Domain(x)\n",
    "state = pyclaw.State(domain,1)\n",
    "xc = state.grid.x.centers\n",
    "dx = state.grid.delta[0]\n",
    "print('Grid dx = {0}'.format(dx))\n",
    "print('Grid nx = {0}'.format(len(xc)))\n",
    "\n",
    " # Gravitational constant\n",
    "state.problem_data['grav'] = 9.8\n",
    "state.problem_data['sea_level'] = 0.0\n",
    "\n",
    "#--------------------------------\n",
    "# Set up the bathymetry\n",
    "#--------------------------------\n",
    "z = np.zeros(nx)\n",
    "# Eq 66 - Build the Gaussian Hump\n",
    "z = np.array([(h0 + 2.0*math.exp(-beta*(xp-xcentre)**2)) for xp in xc])\n",
    "zc = z.copy()\n",
    "z_hydro = z.copy()\n",
    "\n",
    "# Set up the inital state of the flow\n",
    "shw_slvr = shallow_solver(domain)\n",
    "u, surf,h = shw_slvr.run(zc,s)\n",
    "\n",
    "\n",
    "if np.isnan(u).any():\n",
    "    # Get the flow\n",
    "    print(u)\n",
    "    raise ValueError('Failed to calculate the flow')\n",
    "#--------------------------------\n",
    "# Initialize the sed transport \n",
    "#--------------------------------    \n",
    "# Eq 57\n",
    "qbedload = np.zeros(nx)\n",
    "roe_speed = np.zeros(nx)\n",
    "qbedload = a*u**b\n",
    "flux = np.zeros(nx)\n",
    "\n",
    "#--------------------------------\n",
    "#  Setup the model run parameters\n",
    "#--------------------------------\n",
    "simTime = 1000. # Runtime\n",
    "dt = 0.1 # Time step size (s)\n",
    "nt = int(simTime/dt)  # Number of time steps\n",
    "\n",
    "\n",
    "#--------------------------------\n",
    "# Set up the model reporting parameters\n",
    "#--------------------------------\n",
    "z0 = zc.copy() \n",
    "z600 = zc.copy() \n",
    "z2000 = zc.copy()\n",
    "verts = []\n",
    "\n",
    "extractionInterval = 100.\n",
    "tsteps=[]\n",
    "cntr = 0\n",
    "#--------------------------------\n",
    "#  Run the model\n",
    "#--------------------------------\n",
    "for n in range(1,nt):  \n",
    "    zn = zc.copy() \n",
    "    for i in range(0,nx): #i=2\n",
    "\n",
    "        zloc = get_stencil(zn,i-2,i+4)\n",
    "        \n",
    "        # Since k=3\n",
    "        # stencil is i-2 to i+2 \n",
    "        qloc = get_stencil(qbedload,i-2,i+4)\n",
    "        if len(qloc) != 6:\n",
    "            raise ValueError('Stencil is incorrect')\n",
    " \n",
    "        # Determine the Upwind flux\n",
    "        # The 0.5 comes from the c+abs(c) which is 2 if the wave speed is +ive\n",
    "        # this is the evaluation of the left and right based fluxes. Eq. 18 and 19\n",
    "        \n",
    "        if (zloc[3]-zloc[2]) == 0.0:\n",
    "            roe_speed[i]=np.sign( (qloc[3]-qloc[2]) )\n",
    "        else:\n",
    "            roe_speed[i]=np.sign( (qloc[3]-qloc[2])/ (zloc[3]-zloc[2]) )\n",
    "        \n",
    "        if roe_speed[i] >= 0.0:\n",
    "            flux[i] = get_left_flux(qloc)\n",
    "        else:\n",
    "            flux[i] = get_right_flux(qloc)\n",
    "        \n",
    "    # Need the sign of the phase speed\n",
    "    # Need to check this out\n",
    "    for i in range(0,nx): #i=2       \n",
    "        floc = get_stencil(flux,i-1,i+1)\n",
    "        zc[i] = zn[i]-(1./(1.-nP))*dt/dx*(floc[1]-floc[0])\n",
    "    \n",
    "    bed_max_delta = np.max(np.abs(z_hydro - zc))\n",
    "    \n",
    "    # Apply the avalanche model\n",
    "    zc,iterations = avalanche_model(dx,xc,zc)\n",
    "    #zc = z_updated.copy()\n",
    "    \n",
    "    # Re-run the solver and updated the sediment transport\n",
    "    # Check if the avalanche model was updated OR the bed changed greater than the threshold\n",
    "    if iterations > 0 or bed_max_delta > 0.05:\n",
    "        u, surf,h = shw_slvr.run(zc,s);\n",
    "        qbedload = a*u**b\n",
    "        z_hydro = zc.copy()\n",
    "        \n",
    "    cntr += 1\n",
    "    if cntr == 1000:\n",
    "        cntr = 0\n",
    "        print('Time step {0} of {1} - bed_max_delta {2}'.format(n,nt,bed_max_delta))\n",
    "\n",
    "plt.plot(xc,zc)\n",
    "    "
   ]
  },
  {
   "cell_type": "code",
   "execution_count": 8,
   "metadata": {
    "collapsed": true
   },
   "outputs": [],
   "source": [
    "import schemes.weno as weno\n",
    "x_6000, z_a6000 = weno.get_exact_solution(z0,xc, 0.4,s,a,b,10.,simTime)"
   ]
  },
  {
   "cell_type": "code",
   "execution_count": 9,
   "metadata": {},
   "outputs": [
    {
     "data": {
      "text/plain": [
       "<matplotlib.legend.Legend at 0x7ffb42f75a20>"
      ]
     },
     "execution_count": 9,
     "metadata": {},
     "output_type": "execute_result"
    },
    {
     "data": {
      "image/png": "[encoded data removed]",
      "text/plain": [
       "<Figure size 576x432 with 1 Axes>"
      ]
     },
     "metadata": {},
     "output_type": "display_data"
    }
   ],
   "source": [
    "fig = plt.figure(figsize=(8, 6))\n",
    "plt.plot(xc,z0,'k', label='t=0s') \n",
    "\n",
    "plt.plot(xc,zc, 'r', label='t=6000s')\n",
    "plt.plot(x_6000, z_a6000,'r--', label='t=6000s')\n",
    "\n",
    "plt.plot(xc, surf, 'b')\n",
    "\n",
    "plt.xlabel('x (m)')\n",
    "plt.ylabel('$z_b$ (m)')\n",
    "plt.xlim([120,210])\n",
    "plt.ylim([6,12.5])\n",
    "plt.legend(loc=2)"
   ]
  },
  {
   "cell_type": "code",
   "execution_count": 10,
   "metadata": {},
   "outputs": [
    {
     "data": {
      "text/plain": [
       "<matplotlib.legend.Legend at 0x7ffb42e4f9e8>"
      ]
     },
     "execution_count": 10,
     "metadata": {},
     "output_type": "execute_result"
    },
    {
     "data": {
      "image/png": "[encoded data removed]",
      "text/plain": [
       "<Figure size 432x288 with 1 Axes>"
      ]
     },
     "metadata": {},
     "output_type": "display_data"
    }
   ],
   "source": [
    "plt.plot(xc, surf, 'b', label='surface')\n",
    "plt.plot(xc, u, 'g', label='velocity')\n",
    "plt.plot(xc, h, 'k', label='depth')\n",
    "\n",
    "plt.xlim([120,210])\n",
    "plt.legend(loc=2)"
   ]
  },
  {
   "cell_type": "markdown",
   "metadata": {},
   "source": [
    "## Run 2 - Meyer-Peter-Muller Sediment Transport Equations\n",
    "\n",
    "Same as above but now we will swap the sediment transport equations from\n",
    "\n",
    "$Q_{bedload} = aU^b$\n",
    "\n",
    "to \n"
   ]
  },
  {
   "cell_type": "code",
   "execution_count": 16,
   "metadata": {},
   "outputs": [
    {
     "name": "stdout",
     "output_type": "stream",
     "text": [
      "Grid dx = 1.0\n",
      "Grid nx = 300\n",
      "Time step 1000 of 5000 - bed_max_delta 0.00022461492469361133\n",
      "Time step 2000 of 5000 - bed_max_delta 0.017858718745291213\n",
      "Time step 3000 of 5000 - bed_max_delta 0.00922153983035301\n",
      "Time step 4000 of 5000 - bed_max_delta 0.03381204496702139\n",
      "Done\n"
     ]
    }
   ],
   "source": [
    "%%cython\n",
    "import sys\n",
    "from clawpack import pyclaw\n",
    "from clawpack import riemann\n",
    "import numpy as np\n",
    "from sediment_transport import sed_trans\n",
    "\n",
    "sys.path.append(\"/pymorph\")\n",
    "from schemes.weno import get_left_flux,get_right_flux\n",
    "from schemes.weno import get_stencil\n",
    "\n",
    "from models.shallow_water_solver import shallow_solver\n",
    "from schemes.avalanche_scheme import *\n",
    "\n",
    "\n",
    "#--------------------------------\n",
    "# Set up the constants\n",
    "#--------------------------------\n",
    "a=0.001\n",
    "b=3.0\n",
    "Q=10.0\n",
    "nP=0.4\n",
    "xcentre = 150.  # Centre of hum\n",
    "h0 = 6.0        # Height of the dune\n",
    "s= 12.0         # Datum\n",
    "beta = 0.01\n",
    "\n",
    "# Sediment properties\n",
    "D50 = 0.001     # Particle Diameter\n",
    "rho_particule = 2650\n",
    "\n",
    "#--------------------------------\n",
    "# Set up the domain, BCs and ICs\n",
    "#--------------------------------\n",
    "import logging\n",
    "logger = logging.getLogger('pyclaw')\n",
    "logger.setLevel(logging.CRITICAL)\n",
    "\n",
    "nx=300\n",
    "x = pyclaw.Dimension(0.0,300.0,nx,name='x')\n",
    "domain = pyclaw.Domain(x)\n",
    "state = pyclaw.State(domain,1)\n",
    "xc = state.grid.x.centers\n",
    "dx = state.grid.delta[0]\n",
    "print('Grid dx = {0}'.format(dx))\n",
    "print('Grid nx = {0}'.format(len(xc)))\n",
    "\n",
    " # Gravitational constant\n",
    "state.problem_data['grav'] = 9.8\n",
    "state.problem_data['sea_level'] = 0.0\n",
    "\n",
    "#--------------------------------\n",
    "# Set up the bathymetry\n",
    "#--------------------------------\n",
    "z = np.zeros(nx)\n",
    "# Eq 66 - Build the Gaussian Hump\n",
    "z = np.array([(h0 + 2.0*math.exp(-beta*(xp-xcentre)**2)) for xp in xc])\n",
    "zc = z.copy()\n",
    "z_hydro = z.copy()\n",
    "\n",
    "# Set up the inital state of the flow\n",
    "shw_slvr = shallow_solver(domain)\n",
    "u, surf,h = shw_slvr.run(zc,s)\n",
    "\n",
    "\n",
    "if np.isnan(u).any():\n",
    "    # Get the flow\n",
    "    print( u)\n",
    "    raise ValueError('Failed to calculate the flow')\n",
    "#--------------------------------\n",
    "# Initialize the sed transport \n",
    "#--------------------------------    \n",
    "# Eq 57\n",
    "qbedload = np.zeros(nx)\n",
    "roe_speed = np.zeros(nx)\n",
    "qbedload = a*u**b\n",
    "flux = np.zeros(nx)\n",
    "\n",
    "#--------------------------------\n",
    "#  Setup the model run parameters\n",
    "#--------------------------------\n",
    "simTime = 10000. # Runtime in seconds\n",
    "dt = 2 # Time step size (s)\n",
    "nt = int(simTime/dt)  # Number of time steps\n",
    "\n",
    "\n",
    "#--------------------------------\n",
    "# Set up the model reporting parameters\n",
    "#--------------------------------\n",
    "z0 = zc.copy() \n",
    "z600 = zc.copy() \n",
    "z2000 = zc.copy()\n",
    "verts = []\n",
    "\n",
    "extractionInterval = 100.\n",
    "tsteps=[]\n",
    "cntr = 0\n",
    "#--------------------------------\n",
    "#  Run the model\n",
    "#--------------------------------\n",
    "for n in range(1,nt):  \n",
    "    zn = zc.copy() \n",
    "    for i in range(0,nx): #i=2\n",
    "\n",
    "        zloc = get_stencil(zn,i-2,i+4)\n",
    "        \n",
    "        # Since k=3\n",
    "        # stencil is i-2 to i+2 \n",
    "        qloc = get_stencil(qbedload,i-2,i+4)\n",
    "        if len(qloc)<>6:\n",
    "            raise ValueError('Stencil is incorrect')\n",
    " \n",
    "        # Determine the Upwind flux\n",
    "        # The 0.5 comes from the c+abs(c) which is 2 if the wave speed is +ive\n",
    "        # this is the evaluation of the left and right based fluxes. Eq. 18 and 19\n",
    "        \n",
    "        if (zloc[3]-zloc[2]) == 0.0:\n",
    "            roe_speed[i]=np.sign( (qloc[3]-qloc[2]) )\n",
    "        else:\n",
    "            roe_speed[i]=np.sign( (qloc[3]-qloc[2])/ (zloc[3]-zloc[2]) )\n",
    "        \n",
    "        if roe_speed[i] >= 0.0:\n",
    "            flux[i] = get_left_flux(qloc)\n",
    "        else:\n",
    "            flux[i] = get_right_flux(qloc)\n",
    "        \n",
    "    # Need the sign of the phase speed\n",
    "    # Need to check this out\n",
    "    for i in range(0,nx): #i=2       \n",
    "        floc = get_stencil(flux,i-1,i+1)\n",
    "        zc[i] = zn[i]-(1./(1.-nP))*dt/dx*(floc[1]-floc[0])\n",
    "    \n",
    "    bed_max_delta = np.max(np.abs(z_hydro - zc))\n",
    "    \n",
    "    # Apply the avalanche model\n",
    "    zc,iterations = avalanche_model(dx,xc,zc)\n",
    "    #zc = z_updated.copy()\n",
    "    \n",
    "    # Re-run the solver and updated the sediment transport\n",
    "    # Check if the avalanche model was updated OR the bed changed greater than the threshold\n",
    "    if iterations > 2 or bed_max_delta > 0.05:\n",
    "        u, surf,h = shw_slvr.run(zc,s)\n",
    "        for i in range(0,nx): #i=2    \n",
    "            zlocal = get_stencil(zn,i-2,i+2)\n",
    "            slope = (zlocal[3]-zlocal[1]) / dx\n",
    "            qbedload[i] = sed_trans.get_unit_bed_load2(h[i],u[i],D50,rho_particule,'mpm') \n",
    "        z_hydro = zc.copy()\n",
    "    \n",
    "    if (n*dt / extractionInterval) == math.floor(n*dt / extractionInterval):\n",
    "        verts.append(list(zip(xc.copy(),zc.copy())))\n",
    "        tsteps.append(n*dt)\n",
    "        \n",
    "    cntr += 1\n",
    "    if cntr == 1000:\n",
    "        cntr = 0\n",
    "        print('Time step {0} of {1} - bed_max_delta {2}'.format(n,nt,bed_max_delta))    \n",
    "        \n",
    "print('Done')"
   ]
  },
  {
   "cell_type": "code",
   "execution_count": 17,
   "metadata": {},
   "outputs": [
    {
     "data": {
      "text/plain": [
       "<matplotlib.legend.Legend at 0x7ffb45510748>"
      ]
     },
     "execution_count": 17,
     "metadata": {},
     "output_type": "execute_result"
    },
    {
     "data": {
      "image/png": "[encoded data removed]",
      "text/plain": [
       "<Figure size 576x432 with 1 Axes>"
      ]
     },
     "metadata": {},
     "output_type": "display_data"
    }
   ],
   "source": [
    "fig = plt.figure(figsize=(8, 6))\n",
    "plt.plot(xc,z0,'k', label='t=0s') \n",
    "\n",
    "plt.plot(xc,zc, 'r', label='t=6000s')\n",
    "plt.plot(x_6000, z_a6000,'r--', label='t=6000s')\n",
    "\n",
    "plt.plot(xc, surf, 'b')\n",
    "\n",
    "plt.xlabel('x (m)')\n",
    "plt.ylabel('$z_b$ (m)')\n",
    "plt.xlim([120,210])\n",
    "plt.ylim([6,12.5])\n",
    "plt.legend(loc=2)"
   ]
  },
  {
   "cell_type": "code",
   "execution_count": 18,
   "metadata": {},
   "outputs": [
    {
     "data": {
      "text/plain": [
       "[<matplotlib.lines.Line2D at 0x7ffb45588358>]"
      ]
     },
     "execution_count": 18,
     "metadata": {},
     "output_type": "execute_result"
    },
    {
     "data": {
      "image/png": "[encoded data removed]",
      "text/plain": [
       "<Figure size 432x288 with 1 Axes>"
      ]
     },
     "metadata": {},
     "output_type": "display_data"
    }
   ],
   "source": [
    "plt.plot(xc,qbedload*1000)\n",
    "plt.plot(xc,u)\n"
   ]
  },
  {
   "cell_type": "code",
   "execution_count": 19,
   "metadata": {},
   "outputs": [
    {
     "data": {
      "text/plain": [
       "3.5348636906462616e-08"
      ]
     },
     "execution_count": 19,
     "metadata": {},
     "output_type": "execute_result"
    }
   ],
   "source": [
    "slope"
   ]
  },
  {
   "cell_type": "markdown",
   "metadata": {},
   "source": [
    "## Now account for the influence of the bed slope on the sediment transport\n"
   ]
  },
  {
   "cell_type": "code",
   "execution_count": 26,
   "metadata": {},
   "outputs": [
    {
     "name": "stdout",
     "output_type": "stream",
     "text": [
      "Grid dx = 1.0\n",
      "Grid nx = 300\n",
      "Time step 1000 of 10000 - bed_max_delta 0.00024203163771296943\n",
      "Time step 2000 of 10000 - bed_max_delta 0.00024203163771296943\n",
      "Time step 3000 of 10000 - bed_max_delta 0.00024203163771296943\n",
      "Time step 4000 of 10000 - bed_max_delta 0.00024203163771296943\n",
      "Time step 5000 of 10000 - bed_max_delta 0.00024203163771296943\n",
      "Time step 6000 of 10000 - bed_max_delta 0.00024203163771296943\n",
      "Time step 7000 of 10000 - bed_max_delta 0.00024203163771296943\n",
      "Time step 8000 of 10000 - bed_max_delta 0.00024203163771296943\n",
      "Time step 9000 of 10000 - bed_max_delta 0.00024203163771296943\n",
      "Done\n"
     ]
    }
   ],
   "source": [
    "#--------------------------------\n",
    "# Set up the constants\n",
    "#--------------------------------\n",
    "a=0.001\n",
    "b=3.0\n",
    "Q=10.0\n",
    "nP=0.4\n",
    "xcentre = 150.  # Centre of hum\n",
    "h0 = 6.0        # Height of the dune\n",
    "s= 12.0         # Datum\n",
    "beta = 0.01\n",
    "\n",
    "# Sediment properties\n",
    "D50 = 0.001     # Particle Diameter\n",
    "rho_particule = 1650\n",
    "\n",
    "#--------------------------------\n",
    "# Set up the domain, BCs and ICs\n",
    "#--------------------------------\n",
    "import logging\n",
    "logger = logging.getLogger('pyclaw')\n",
    "logger.setLevel(logging.CRITICAL)\n",
    "\n",
    "nx=300\n",
    "x = pyclaw.Dimension(0.0,300.0,nx,name='x')\n",
    "domain = pyclaw.Domain(x)\n",
    "state = pyclaw.State(domain,1)\n",
    "xc = state.grid.x.centers\n",
    "dx = state.grid.delta[0]\n",
    "print('Grid dx = {0}'.format(dx))\n",
    "print('Grid nx = {0}'.format(len(xc)))\n",
    "\n",
    " # Gravitational constant\n",
    "state.problem_data['grav'] = 9.8\n",
    "state.problem_data['sea_level'] = 0.0\n",
    "\n",
    "#--------------------------------\n",
    "# Set up the bathymetry\n",
    "#--------------------------------\n",
    "z = np.zeros(nx)\n",
    "# Eq 66 - Build the Gaussian Hump\n",
    "z = np.array([(h0 + 2.0*math.exp(-beta*(xp-xcentre)**2)) for xp in xc])\n",
    "zc = z.copy()\n",
    "z_hydro = z.copy()\n",
    "\n",
    "# Set up the inital state of the flow\n",
    "shw_slvr = shallow_solver(domain)\n",
    "u, surf,h = shw_slvr.run(zc,s)\n",
    "\n",
    "\n",
    "if np.isnan(u).any():\n",
    "    # Get the flow\n",
    "    print(u)\n",
    "    raise ValueError('Failed to calculate the flow')\n",
    "#--------------------------------\n",
    "# Initialize the sed transport \n",
    "#--------------------------------    \n",
    "# Eq 57\n",
    "qbedload = np.zeros(nx)\n",
    "roe_speed = np.zeros(nx)\n",
    "qbedload = a*u**b\n",
    "flux = np.zeros(nx)\n",
    "\n",
    "#--------------------------------\n",
    "#  Setup the model run parameters\n",
    "#--------------------------------\n",
    "simTime = 20000. # Runtime in seconds\n",
    "dt = 2 # Time step size (s)\n",
    "nt = int(simTime/dt)  # Number of time steps\n",
    "\n",
    "\n",
    "#--------------------------------\n",
    "# Set up the model reporting parameters\n",
    "#--------------------------------\n",
    "z0 = zc.copy() \n",
    "z600 = zc.copy() \n",
    "z2000 = zc.copy()\n",
    "verts = []\n",
    "\n",
    "extractionInterval = 100.\n",
    "tsteps=[]\n",
    "cntr = 0\n",
    "#--------------------------------\n",
    "#  Run the model\n",
    "#--------------------------------\n",
    "for n in range(1,nt):  \n",
    "    zn = zc.copy() \n",
    "    for i in range(0,nx): #i=2\n",
    "\n",
    "        zloc = get_stencil(zn,i-2,i+4)\n",
    "        \n",
    "        # Since k=3\n",
    "        # stencil is i-2 to i+2 \n",
    "        qloc = get_stencil(qbedload,i-2,i+4)\n",
    "        if len(qloc)!=6:\n",
    "            raise ValueError('Stencil is incorrect')\n",
    " \n",
    "        # Determine the Upwind flux\n",
    "        # The 0.5 comes from the c+abs(c) which is 2 if the wave speed is +ive\n",
    "        # this is the evaluation of the left and right based fluxes. Eq. 18 and 19\n",
    "        \n",
    "        if (zloc[3]-zloc[2]) == 0.0:\n",
    "            roe_speed[i]=np.sign( (qloc[3]-qloc[2]) )\n",
    "        else:\n",
    "            roe_speed[i]=np.sign( (qloc[3]-qloc[2])/ (zloc[3]-zloc[2]) )\n",
    "        \n",
    "        if roe_speed[i] >= 0.0:\n",
    "            flux[i] = get_left_flux(qloc)\n",
    "        else:\n",
    "            flux[i] = get_right_flux(qloc)\n",
    "        \n",
    "    # Need the sign of the phase speed\n",
    "    # Need to check this out\n",
    "    for i in range(0,nx): #i=2       \n",
    "        floc = get_stencil(flux,i-1,i+1)\n",
    "        zc[i] = zn[i]-(1./(1.-nP))*dt/dx*(floc[1]-floc[0])\n",
    "    \n",
    "    bed_max_delta = np.max(np.abs(z_hydro - zc))\n",
    "    \n",
    "    # Apply the avalanche model\n",
    "    zc,iterations = avalanche_model(dx,xc,zc)\n",
    "    #zc = z_updated.copy()\n",
    "    \n",
    "    # Re-run the solver and updated the sediment transport\n",
    "    # Check if the avalanche model was updated OR the bed changed greater than the threshold\n",
    "    if iterations > 10 or bed_max_delta > 0.01:\n",
    "        u, surf,h = shw_slvr.run(zc,s)\n",
    "    # Remove the old method \n",
    "    #qbedload = a*u**b\n",
    "\n",
    "    for i in range(0,nx): #i=2        \n",
    "        qbedload[i] = sed_trans.get_unit_bed_load2(h[i],u[i],D50,rho_particule,'mpm')\n",
    "    z_hydro = zc.copy()\n",
    "    \n",
    "    if (n*dt / extractionInterval) == math.floor(n*dt / extractionInterval):\n",
    "        verts.append(list(zip(xc.copy(),zc.copy())))\n",
    "        tsteps.append(n*dt)\n",
    "        \n",
    "    cntr += 1\n",
    "    if cntr == 1000:\n",
    "        cntr = 0\n",
    "        print('Time step {0} of {1} - bed_max_delta {2}'.format(n,nt,bed_max_delta))    \n",
    "        \n",
    "print('Done')"
   ]
  },
  {
   "cell_type": "code",
   "execution_count": 27,
   "metadata": {},
   "outputs": [
    {
     "data": {
      "text/plain": [
       "<matplotlib.legend.Legend at 0x7ffb4507fc50>"
      ]
     },
     "execution_count": 27,
     "metadata": {},
     "output_type": "execute_result"
    },
    {
     "data": {
      "image/png": "[encoded data removed]",
      "text/plain": [
       "<Figure size 576x432 with 1 Axes>"
      ]
     },
     "metadata": {},
     "output_type": "display_data"
    }
   ],
   "source": [
    "fig = plt.figure(figsize=(8, 6))\n",
    "plt.plot(xc,z0,'k', label='t=0s') \n",
    "\n",
    "plt.plot(xc,zc, 'r', label='t=6000s')\n",
    "plt.plot(x_6000, z_a6000,'r--', label='t=6000s')\n",
    "\n",
    "plt.plot(xc, surf, 'b')\n",
    "\n",
    "plt.xlabel('x (m)')\n",
    "plt.ylabel('$z_b$ (m)')\n",
    "plt.xlim([120,210])\n",
    "plt.ylim([6,12.5])\n",
    "plt.legend(loc=2)"
   ]
  },
  {
   "cell_type": "code",
   "execution_count": 25,
   "metadata": {},
   "outputs": [
    {
     "data": {
      "text/plain": [
       "10"
      ]
     },
     "execution_count": 25,
     "metadata": {},
     "output_type": "execute_result"
    }
   ],
   "source": [
    "dt"
   ]
  },
  {
   "cell_type": "code",
   "execution_count": null,
   "metadata": {
    "collapsed": true
   },
   "outputs": [],
   "source": []
  },
  {
   "cell_type": "code",
   "execution_count": null,
   "metadata": {},
   "outputs": [],
   "source": []
  }
 ],
 "metadata": {
  "kernelspec": {
   "display_name": "Python 3",
   "language": "python",
   "name": "python3"
  },
  "language_info": {
   "codemirror_mode": {
    "name": "ipython",
    "version": 3
   },
   "file_extension": ".py",
   "mimetype": "text/x-python",
   "name": "python",
   "nbconvert_exporter": "python",
   "pygments_lexer": "ipython3",
   "version": "3.6.8"
  }
 },
 "nbformat": 4,
 "nbformat_minor": 2
}
