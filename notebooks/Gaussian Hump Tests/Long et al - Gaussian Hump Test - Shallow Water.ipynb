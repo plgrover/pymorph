{
 "cells": [
  {
   "cell_type": "code",
   "execution_count": 1,
   "metadata": {},
   "outputs": [],
   "source": [
    "import os,sys\n",
    "import csv\n",
    "import copy\n",
    "import math\n",
    "\n",
    "import matplotlib\n",
    "import matplotlib.pyplot as plt\n",
    "from clawpack import pyclaw\n",
    "from clawpack import riemann\n",
    "import numpy as np\n",
    "from scipy.integrate import simps, trapz\n",
    "\n",
    "sys.path.append(\"/pymorph\")\n",
    "from schemes.weno import get_left_flux,get_right_flux\n",
    "from schemes.weno import get_stencil\n",
    "\n",
    "from models.shallow_water_solver import shallow_solver\n",
    "from schemes.avalanche_scheme import *\n",
    "\n",
    "from matplotlib.collections import LineCollection\n",
    "from mpl_toolkits.mplot3d import Axes3D\n",
    "\n",
    "from IPython.display import display, Math, Latex\n",
    "\n",
    "%matplotlib inline\n",
    "%load_ext autoreload\n",
    "%autoreload 2\n",
    "\n",
    "\n",
    "plt.style.use(['dark_background'])\n",
    "\n",
    "import cython\n",
    "%load_ext cython"
   ]
  },
  {
   "cell_type": "markdown",
   "metadata": {},
   "source": [
    "# Long et. al. Gaussian Hump\n",
    "## Running with the Shallow Water Equations\n",
    "\n",
    "### October 21, 2015\n",
    "Starting to review this code and understand where I left off. I think what is left to do is check the Exner code against the analytical model shown in Long et al (2008). From what I can tell, I re-wrote the WENO scheme to match the scheme in the paper and I think it worked better but still need to verify that this the case. \n",
    "\n",
    "### August 15, 2016\n",
    "Now try this again using the WENO solver and also the 1-D SW Equations"
   ]
  },
  {
   "cell_type": "code",
   "execution_count": 6,
   "metadata": {},
   "outputs": [
    {
     "name": "stdout",
     "output_type": "stream",
     "text": [
      "Grid dx = 1.0\n",
      "Grid nx = 300\n",
      "Time step 1000 of 100000 - bed_max_delta 0.0008392768469800416\n",
      "Time step 2000 of 100000 - bed_max_delta 0.03557622685898565\n",
      "Time step 3000 of 100000 - bed_max_delta 0.024268449154487115\n",
      "Time step 4000 of 100000 - bed_max_delta 0.0061860239206863454\n",
      "Time step 5000 of 100000 - bed_max_delta 0.004408638647923624\n",
      "Time step 6000 of 100000 - bed_max_delta 0.027296083410988103\n",
      "Time step 7000 of 100000 - bed_max_delta 0.0109139313630493\n",
      "Time step 8000 of 100000 - bed_max_delta 0.007364116713952207\n",
      "Time step 9000 of 100000 - bed_max_delta 0.01822097666413569\n",
      "Time step 10000 of 100000 - bed_max_delta 0.00980827398124351\n",
      "Time step 11000 of 100000 - bed_max_delta 0.0045191049148956\n",
      "Time step 12000 of 100000 - bed_max_delta 0.01910100556272365\n",
      "Time step 13000 of 100000 - bed_max_delta 0.018261365839570942\n",
      "Time step 14000 of 100000 - bed_max_delta 0.0017792747614384652\n",
      "Time step 15000 of 100000 - bed_max_delta 0.015806570561935906\n",
      "Time step 16000 of 100000 - bed_max_delta 0.01035840149010081\n",
      "Time step 17000 of 100000 - bed_max_delta 0.01800382124230282\n",
      "Time step 18000 of 100000 - bed_max_delta 0.0003789263547320232\n",
      "Time step 19000 of 100000 - bed_max_delta 0.023364746840037753\n",
      "Time step 20000 of 100000 - bed_max_delta 0.009152568201792555\n",
      "Time step 21000 of 100000 - bed_max_delta 0.007328679976893682\n",
      "Time step 22000 of 100000 - bed_max_delta 0.013462882259055675\n",
      "Time step 23000 of 100000 - bed_max_delta 0.0046513809704258335\n",
      "Time step 24000 of 100000 - bed_max_delta 0.010619842159616866\n",
      "Time step 25000 of 100000 - bed_max_delta 0.009621787272070748\n",
      "Time step 26000 of 100000 - bed_max_delta 0.0063041324657326925\n",
      "Time step 27000 of 100000 - bed_max_delta 0.005586158719765422\n",
      "Time step 28000 of 100000 - bed_max_delta 0.025100508958168177\n",
      "Time step 29000 of 100000 - bed_max_delta 0.009225260692563353\n",
      "Time step 30000 of 100000 - bed_max_delta 0.02168207775915043\n",
      "Time step 31000 of 100000 - bed_max_delta 0.022856784763387594\n",
      "Time step 32000 of 100000 - bed_max_delta 0.025250841235730626\n",
      "Time step 33000 of 100000 - bed_max_delta 0.0010849261288692347\n",
      "Time step 34000 of 100000 - bed_max_delta 0.01742402468589077\n",
      "Time step 35000 of 100000 - bed_max_delta 0.01771061271604868\n",
      "Time step 36000 of 100000 - bed_max_delta 0.006084263089278785\n",
      "Time step 37000 of 100000 - bed_max_delta 0.006835478947984086\n",
      "Time step 38000 of 100000 - bed_max_delta 0.018476653780323815\n",
      "Time step 39000 of 100000 - bed_max_delta 0.017485443150876634\n",
      "Time step 40000 of 100000 - bed_max_delta 0.026936205894685372\n",
      "Time step 41000 of 100000 - bed_max_delta 0.017080960669817458\n",
      "Time step 42000 of 100000 - bed_max_delta 0.0024677902092804516\n",
      "Time step 43000 of 100000 - bed_max_delta 0.012189912537890812\n",
      "Time step 44000 of 100000 - bed_max_delta 0.004542184208082389\n",
      "Time step 45000 of 100000 - bed_max_delta 0.010485507551397433\n",
      "Time step 46000 of 100000 - bed_max_delta 0.019935604949245622\n",
      "Time step 47000 of 100000 - bed_max_delta 0.007862950574132554\n",
      "Time step 48000 of 100000 - bed_max_delta 0.02025670292649906\n",
      "Time step 49000 of 100000 - bed_max_delta 0.01975109621779403\n",
      "Time step 50000 of 100000 - bed_max_delta 0.005101497775465091\n",
      "Time step 51000 of 100000 - bed_max_delta 0.018259798200942257\n",
      "Time step 52000 of 100000 - bed_max_delta 0.018478037032780392\n",
      "Time step 53000 of 100000 - bed_max_delta 0.0025472486359987556\n",
      "Time step 54000 of 100000 - bed_max_delta 0.013957907473965747\n",
      "Time step 55000 of 100000 - bed_max_delta 0.001903825790550151\n",
      "Time step 56000 of 100000 - bed_max_delta 0.049493191677019155\n",
      "Time step 57000 of 100000 - bed_max_delta 0.012908854399762859\n",
      "Time step 58000 of 100000 - bed_max_delta 0.02590149707277334\n",
      "Time step 59000 of 100000 - bed_max_delta 0.0010713445405965416\n",
      "Time step 60000 of 100000 - bed_max_delta 0.02536578634801412\n",
      "Time step 61000 of 100000 - bed_max_delta 0.0185071617220256\n",
      "Time step 62000 of 100000 - bed_max_delta 0.024722839186861023\n",
      "Time step 63000 of 100000 - bed_max_delta 0.016624190767755564\n",
      "Time step 64000 of 100000 - bed_max_delta 0.0084716385634378\n",
      "Time step 65000 of 100000 - bed_max_delta 0.03435204034329953\n",
      "Time step 66000 of 100000 - bed_max_delta 0.00426103080012652\n",
      "Time step 67000 of 100000 - bed_max_delta 0.03647970777005938\n",
      "Time step 68000 of 100000 - bed_max_delta 0.003976611803136798\n",
      "Time step 69000 of 100000 - bed_max_delta 0.01989453183948875\n",
      "Time step 70000 of 100000 - bed_max_delta 0.03105625407284851\n",
      "Time step 71000 of 100000 - bed_max_delta 0.018169157277649894\n",
      "Time step 72000 of 100000 - bed_max_delta 0.012889365916186613\n",
      "Time step 73000 of 100000 - bed_max_delta 0.019837862495482028\n",
      "Time step 74000 of 100000 - bed_max_delta 0.0021110682657479174\n",
      "Time step 75000 of 100000 - bed_max_delta 0.036744029486257546\n",
      "Time step 76000 of 100000 - bed_max_delta 0.021897499026692913\n",
      "Time step 77000 of 100000 - bed_max_delta 0.03478069068134637\n",
      "Time step 78000 of 100000 - bed_max_delta 0.01913344112276949\n",
      "Time step 79000 of 100000 - bed_max_delta 0.035397908724721816\n",
      "Time step 80000 of 100000 - bed_max_delta 0.03678543489134789\n",
      "Time step 81000 of 100000 - bed_max_delta 0.011783818010830949\n",
      "Time step 82000 of 100000 - bed_max_delta 0.0042293116289648935\n",
      "Time step 83000 of 100000 - bed_max_delta 0.02008780012767275\n",
      "Time step 84000 of 100000 - bed_max_delta 0.020842718742954958\n",
      "Time step 85000 of 100000 - bed_max_delta 0.00833651432213145\n",
      "Time step 86000 of 100000 - bed_max_delta 0.005091012694010466\n",
      "Time step 87000 of 100000 - bed_max_delta 0.03900816533250584\n",
      "Time step 88000 of 100000 - bed_max_delta 0.019178060837464983\n",
      "Time step 89000 of 100000 - bed_max_delta 0.015027739913035632\n",
      "Time step 90000 of 100000 - bed_max_delta 0.004846816834643164\n",
      "Time step 91000 of 100000 - bed_max_delta 0.02089997803363186\n",
      "Time step 92000 of 100000 - bed_max_delta 0.0024865616276503744\n",
      "Time step 93000 of 100000 - bed_max_delta 0.0034899928215192944\n",
      "Time step 94000 of 100000 - bed_max_delta 0.010267659783906424\n",
      "Time step 95000 of 100000 - bed_max_delta 0.007081326989748504\n",
      "Time step 96000 of 100000 - bed_max_delta 0.01257791260172425\n",
      "Time step 97000 of 100000 - bed_max_delta 0.013062037595430454\n",
      "Time step 98000 of 100000 - bed_max_delta 0.017052960279464457\n",
      "Time step 99000 of 100000 - bed_max_delta 0.043380291872114896\n"
     ]
    },
    {
     "data": {
      "text/plain": [
       "[<matplotlib.lines.Line2D at 0x7f549abbddd8>]"
      ]
     },
     "execution_count": 6,
     "metadata": {},
     "output_type": "execute_result"
    },
    {
     "data": {
      "image/png": "[encoded data removed]",
      "text/plain": [
       "<Figure size 432x288 with 1 Axes>"
      ]
     },
     "metadata": {},
     "output_type": "display_data"
    }
   ],
   "source": [
    "#--------------------------------\n",
    "# Set up the constants\n",
    "#--------------------------------\n",
    "a=0.001\n",
    "b=3.0\n",
    "Q=10.0\n",
    "nP=0.4\n",
    "xcentre = 150.  # Centre of hump\n",
    "h0 = 6.0        # Height of the dune\n",
    "s= 12.0            # Datum\n",
    "beta = 0.01\n",
    "\n",
    "#--------------------------------\n",
    "# Set up the domain, BCs and ICs\n",
    "#--------------------------------\n",
    "import logging\n",
    "logger = logging.getLogger('pyclaw')\n",
    "logger.setLevel(logging.CRITICAL)\n",
    "\n",
    "nx=300\n",
    "x = pyclaw.Dimension(0.0,300.0,nx,name='x')\n",
    "domain = pyclaw.Domain(x)\n",
    "state = pyclaw.State(domain,1)\n",
    "xc = state.grid.x.centers\n",
    "dx = state.grid.delta[0]\n",
    "print('Grid dx = {0}'.format(dx))\n",
    "print('Grid nx = {0}'.format(len(xc)))\n",
    "\n",
    " # Gravitational constant\n",
    "state.problem_data['grav'] = 9.8\n",
    "state.problem_data['sea_level'] = 0.0\n",
    "\n",
    "#--------------------------------\n",
    "# Set up the bathymetry\n",
    "#--------------------------------\n",
    "z = np.zeros(nx)\n",
    "# Eq 66 - Build the Gaussian Hump\n",
    "z = np.array([(h0 + 2.0*math.exp(-beta*(xp-xcentre)**2)) for xp in xc])\n",
    "zc = z.copy()\n",
    "z_hydro = z.copy()\n",
    "\n",
    "# Set up the inital state of the flow\n",
    "shw_slvr = shallow_solver(domain)\n",
    "u, surf,h = shw_slvr.run(zc,s)\n",
    "\n",
    "\n",
    "if np.isnan(u).any():\n",
    "    # Get the flow\n",
    "    print(u)\n",
    "    raise ValueError('Failed to calculate the flow')\n",
    "#--------------------------------\n",
    "# Initialize the sed transport \n",
    "#--------------------------------    \n",
    "# Eq 57\n",
    "qbedload = np.zeros(nx)\n",
    "roe_speed = np.zeros(nx)\n",
    "qbedload = a*u**b\n",
    "flux = np.zeros(nx)\n",
    "\n",
    "#--------------------------------\n",
    "#  Setup the model run parameters\n",
    "#--------------------------------\n",
    "simTime = 10000. # Runtime\n",
    "dt = 0.1 # Time step size (s)\n",
    "nt = int(simTime/dt)  # Number of time steps\n",
    "\n",
    "\n",
    "#--------------------------------\n",
    "# Set up the model reporting parameters\n",
    "#--------------------------------\n",
    "z0 = zc.copy() \n",
    "z600 = zc.copy() \n",
    "z2000 = zc.copy()\n",
    "verts = []\n",
    "\n",
    "extractionInterval = 100.\n",
    "tsteps=[]\n",
    "cntr = 0\n",
    "#--------------------------------\n",
    "#  Run the model\n",
    "#--------------------------------\n",
    "for n in range(1,nt):  \n",
    "    zn = zc.copy() \n",
    "    for i in range(0,nx): #i=2\n",
    "\n",
    "        zloc = get_stencil(zn,i-2,i+4)\n",
    "        \n",
    "        # Since k=3\n",
    "        # stencil is i-2 to i+2 \n",
    "        qloc = get_stencil(qbedload,i-2,i+4)\n",
    "        if len(qloc) != 6:\n",
    "            raise ValueError('Stencil is incorrect')\n",
    " \n",
    "        # Determine the Upwind flux\n",
    "        # The 0.5 comes from the c+abs(c) which is 2 if the wave speed is +ive\n",
    "        # this is the evaluation of the left and right based fluxes. Eq. 18 and 19\n",
    "        \n",
    "        if (zloc[3]-zloc[2]) == 0.0:\n",
    "            roe_speed[i]=np.sign( (qloc[3]-qloc[2]) )\n",
    "        else:\n",
    "            roe_speed[i]=np.sign( (qloc[3]-qloc[2])/ (zloc[3]-zloc[2]) )\n",
    "        \n",
    "        if roe_speed[i] >= 0.0:\n",
    "            flux[i] = get_left_flux(qloc)\n",
    "        else:\n",
    "            flux[i] = get_right_flux(qloc)\n",
    "        \n",
    "    # Need the sign of the phase speed\n",
    "    # Need to check this out\n",
    "    for i in range(0,nx): #i=2       \n",
    "        floc = get_stencil(flux,i-1,i+1)\n",
    "        zc[i] = zn[i]-(1./(1.-nP))*dt/dx*(floc[1]-floc[0])\n",
    "    \n",
    "    bed_max_delta = np.max(np.abs(z_hydro - zc))\n",
    "    \n",
    "    # Apply the avalanche model\n",
    "    zc,iterations = avalanche_model(dx,xc,zc)\n",
    "    #zc = z_updated.copy()\n",
    "    \n",
    "    # Re-run the solver and updated the sediment transport\n",
    "    # Check if the avalanche model was updated OR the bed changed greater than the threshold\n",
    "    if iterations > 0 or bed_max_delta > 0.05:\n",
    "        u, surf,h = shw_slvr.run(zc,s);\n",
    "        qbedload = a*u**b\n",
    "        z_hydro = zc.copy()\n",
    "        \n",
    "    cntr += 1\n",
    "    if cntr == 1000:\n",
    "        cntr = 0\n",
    "        print('Time step {0} of {1} - bed_max_delta {2}'.format(n,nt,bed_max_delta))\n",
    "\n",
    "plt.plot(xc,zc)\n",
    "    "
   ]
  },
  {
   "cell_type": "code",
   "execution_count": 9,
   "metadata": {
    "collapsed": true
   },
   "outputs": [],
   "source": [
    "from schemes.weno import get_exact_solution\n",
    "x_6000, z_a6000 = get_exact_solution(z0,xc, 0.4,s,a,b,10.,6000.)"
   ]
  },
  {
   "cell_type": "code",
   "execution_count": 10,
   "metadata": {},
   "outputs": [
    {
     "data": {
      "text/plain": [
       "<matplotlib.legend.Legend at 0x7f549ab3b8d0>"
      ]
     },
     "execution_count": 10,
     "metadata": {},
     "output_type": "execute_result"
    },
    {
     "data": {
      "image/png": "[encoded data removed]",
      "text/plain": [
       "<Figure size 576x432 with 1 Axes>"
      ]
     },
     "metadata": {},
     "output_type": "display_data"
    }
   ],
   "source": [
    "fig = plt.figure(figsize=(8, 6))\n",
    "plt.plot(xc,z0,'k', label='t=0s') \n",
    "\n",
    "plt.plot(xc,zc, 'r', label='t=6000s')\n",
    "plt.plot(x_6000, z_a6000,'r--', label='t=6000s')\n",
    "\n",
    "plt.plot(xc, surf, 'b')\n",
    "\n",
    "plt.xlabel('x (m)')\n",
    "plt.ylabel('$z_b$ (m)')\n",
    "plt.xlim([120,210])\n",
    "plt.ylim([6,12.5])\n",
    "plt.legend(loc=2)"
   ]
  },
  {
   "cell_type": "code",
   "execution_count": 11,
   "metadata": {},
   "outputs": [
    {
     "data": {
      "text/plain": [
       "<matplotlib.legend.Legend at 0x7f549ccd17b8>"
      ]
     },
     "execution_count": 11,
     "metadata": {},
     "output_type": "execute_result"
    },
    {
     "data": {
      "image/png": "[encoded data removed]",
      "text/plain": [
       "<Figure size 432x288 with 1 Axes>"
      ]
     },
     "metadata": {},
     "output_type": "display_data"
    }
   ],
   "source": [
    "plt.plot(xc, surf, 'b', label='surface')\n",
    "plt.plot(xc, u, 'g', label='velocity')\n",
    "plt.plot(xc, h, 'k', label='depth')\n",
    "\n",
    "plt.xlim([120,210])\n",
    "plt.legend(loc=2)"
   ]
  },
  {
   "cell_type": "markdown",
   "metadata": {},
   "source": [
    "## Run 2 - Meyer-Peter-Muller Sediment Transport Equations\n",
    "\n",
    "Same as above but now we will swap the sediment transport equations from\n",
    "\n",
    "$Q_{bedload} = aU^b$\n",
    "\n",
    "to \n"
   ]
  },
  {
   "cell_type": "code",
   "execution_count": 12,
   "metadata": {},
   "outputs": [
    {
     "name": "stderr",
     "output_type": "stream",
     "text": [
      "\n",
      "Error compiling Cython file:\n",
      "------------------------------------------------------------\n",
      "...\n",
      "u, surf,h = shw_slvr.run(zc,s)\n",
      "\n",
      "\n",
      "if np.isnan(u).any():\n",
      "    # Get the flow\n",
      "    print u\n",
      "         ^\n",
      "------------------------------------------------------------\n",
      "\n",
      "/root/.cache/ipython/cython/_cython_magic_0722e5f6d7daba508ac5c027045ab467.pyx:67:10: Syntax error in simple statement list\n"
     ]
    },
    {
     "ename": "TypeError",
     "evalue": "object of type 'NoneType' has no len()",
     "output_type": "error",
     "traceback": [
      "\u001b[0;31m---------------------------------------------------------------------------\u001b[0m",
      "\u001b[0;31mTypeError\u001b[0m                                 Traceback (most recent call last)",
      "\u001b[0;32m<ipython-input-12-180cdf3ca464>\u001b[0m in \u001b[0;36m<module>\u001b[0;34m\u001b[0m\n\u001b[0;32m----> 1\u001b[0;31m \u001b[0mget_ipython\u001b[0m\u001b[0;34m(\u001b[0m\u001b[0;34m)\u001b[0m\u001b[0;34m.\u001b[0m\u001b[0mrun_cell_magic\u001b[0m\u001b[0;34m(\u001b[0m\u001b[0;34m'cython'\u001b[0m\u001b[0;34m,\u001b[0m \u001b[0;34m''\u001b[0m\u001b[0;34m,\u001b[0m \u001b[0;34m'import sys\\nfrom clawpack import pyclaw\\nfrom clawpack import riemann\\nimport numpy as np\\nimport sed_trans\\n\\nsys.path.append(\"/home/pgrover/Dropbox/PhD/Morphodynamic_Model/pymorph\")\\nfrom schemes.weno import get_left_flux,get_right_flux\\nfrom schemes.weno import get_stencil\\n\\nfrom models.shallow_water_solver import shallow_solver\\nfrom schemes.avalanche_scheme import *\\n\\n\\n#--------------------------------\\n# Set up the constants\\n#--------------------------------\\na=0.001\\nb=3.0\\nQ=10.0\\nnP=0.4\\nxcentre = 150.  # Centre of hum\\nh0 = 6.0        # Height of the dune\\ns= 12.0         # Datum\\nbeta = 0.01\\n\\n# Sediment properties\\nD50 = 0.001     # Particle Diameter\\nrho_particule = 2650\\n\\n#--------------------------------\\n# Set up the domain, BCs and ICs\\n#--------------------------------\\nimport logging\\nlogger = logging.getLogger(\\'pyclaw\\')\\nlogger.setLevel(logging.CRITICAL)\\n\\nnx=300\\nx = pyclaw.Dimension(0.0,300.0,nx,name=\\'x\\')\\ndomain = pyclaw.Domain(x)\\nstate = pyclaw.State(domain,1)\\nxc = state.grid.x.centers\\ndx = state.grid.delta[0]\\nprint(\\'Grid dx = {0}\\'.format(dx))\\nprint(\\'Grid nx = {0}\\'.format(len(xc)))\\n\\n # Gravitational constant\\nstate.problem_data[\\'grav\\'] = 9.8\\nstate.problem_data[\\'sea_level\\'] = 0.0\\n\\n#--------------------------------\\n# Set up the bathymetry\\n#--------------------------------\\nz = np.zeros(nx)\\n# Eq 66 - Build the Gaussian Hump\\nz = np.array([(h0 + 2.0*math.exp(-beta*(xp-xcentre)**2)) for xp in xc])\\nzc = z.copy()\\nz_hydro = z.copy()\\n\\n# Set up the inital state of the flow\\nshw_slvr = shallow_solver(domain)\\nu, surf,h = shw_slvr.run(zc,s)\\n\\n\\nif np.isnan(u).any():\\n    # Get the flow\\n    print u\\n    raise ValueError(\\'Failed to calculate the flow\\')\\n#--------------------------------\\n# Initialize the sed transport \\n#--------------------------------    \\n# Eq 57\\nqbedload = np.zeros(nx)\\nroe_speed = np.zeros(nx)\\nqbedload = a*u**b\\nflux = np.zeros(nx)\\n\\n#--------------------------------\\n#  Setup the model run parameters\\n#--------------------------------\\nsimTime = 10000. # Runtime in seconds\\ndt = 2 # Time step size (s)\\nnt = int(simTime/dt)  # Number of time steps\\n\\n\\n#--------------------------------\\n# Set up the model reporting parameters\\n#--------------------------------\\nz0 = zc.copy() \\nz600 = zc.copy() \\nz2000 = zc.copy()\\nverts = []\\n\\nextractionInterval = 100.\\ntsteps=[]\\ncntr = 0\\n#--------------------------------\\n#  Run the model\\n#--------------------------------\\nfor n in range(1,nt):  \\n    zn = zc.copy() \\n    for i in range(0,nx): #i=2\\n\\n        zloc = get_stencil(zn,i-2,i+4)\\n        \\n        # Since k=3\\n        # stencil is i-2 to i+2 \\n        qloc = get_stencil(qbedload,i-2,i+4)\\n        if len(qloc)<>6:\\n            raise ValueError(\\'Stencil is incorrect\\')\\n \\n        # Determine the Upwind flux\\n        # The 0.5 comes from the c+abs(c) which is 2 if the wave speed is +ive\\n        # this is the evaluation of the left and right based fluxes. Eq. 18 and 19\\n        \\n        if (zloc[3]-zloc[2]) == 0.0:\\n            roe_speed[i]=np.sign( (qloc[3]-qloc[2]) )\\n        else:\\n            roe_speed[i]=np.sign( (qloc[3]-qloc[2])/ (zloc[3]-zloc[2]) )\\n        \\n        if roe_speed[i] >= 0.0:\\n            flux[i] = get_left_flux(qloc)\\n        else:\\n            flux[i] = get_right_flux(qloc)\\n        \\n    # Need the sign of the phase speed\\n    # Need to check this out\\n    for i in range(0,nx): #i=2       \\n        floc = get_stencil(flux,i-1,i+1)\\n        zc[i] = zn[i]-(1./(1.-nP))*dt/dx*(floc[1]-floc[0])\\n    \\n    bed_max_delta = np.max(np.abs(z_hydro - zc))\\n    \\n    # Apply the avalanche model\\n    zc,iterations = avalanche_model(dx,xc,zc)\\n    #zc = z_updated.copy()\\n    \\n    # Re-run the solver and updated the sediment transport\\n    # Check if the avalanche model was updated OR the bed changed greater than the threshold\\n    if iterations > 2 or bed_max_delta > 0.05:\\n        u, surf,h = shw_slvr.run(zc,s)\\n        for i in range(0,nx): #i=2    \\n            zlocal = get_stencil(zn,i-2,i+2)\\n            slope = (zlocal[3]-zlocal[1]) / dx\\n            qbedload[i] = sed_trans.get_unit_bed_load2(h[i],u[i],D50,rho_particule,\\'mpm\\') \\n        z_hydro = zc.copy()\\n    \\n    if (n*dt / extractionInterval) == math.floor(n*dt / extractionInterval):\\n        verts.append(list(zip(xc.copy(),zc.copy())))\\n        tsteps.append(n*dt)\\n        \\n    cntr += 1\\n    if cntr == 1000:\\n        cntr = 0\\n        print(\\'Time step {0} of {1} - bed_max_delta {2}\\'.format(n,nt,bed_max_delta))    \\n        \\nprint(\\'Done\\')\\n'\u001b[0m\u001b[0;34m)\u001b[0m\u001b[0;34m\u001b[0m\u001b[0;34m\u001b[0m\u001b[0m\n\u001b[0m",
      "\u001b[0;32m/usr/local/lib/python3.6/site-packages/IPython/core/interactiveshell.py\u001b[0m in \u001b[0;36mrun_cell_magic\u001b[0;34m(self, magic_name, line, cell)\u001b[0m\n\u001b[1;32m   2350\u001b[0m             \u001b[0;32mwith\u001b[0m \u001b[0mself\u001b[0m\u001b[0;34m.\u001b[0m\u001b[0mbuiltin_trap\u001b[0m\u001b[0;34m:\u001b[0m\u001b[0;34m\u001b[0m\u001b[0;34m\u001b[0m\u001b[0m\n\u001b[1;32m   2351\u001b[0m                 \u001b[0margs\u001b[0m \u001b[0;34m=\u001b[0m \u001b[0;34m(\u001b[0m\u001b[0mmagic_arg_s\u001b[0m\u001b[0;34m,\u001b[0m \u001b[0mcell\u001b[0m\u001b[0;34m)\u001b[0m\u001b[0;34m\u001b[0m\u001b[0;34m\u001b[0m\u001b[0m\n\u001b[0;32m-> 2352\u001b[0;31m                 \u001b[0mresult\u001b[0m \u001b[0;34m=\u001b[0m \u001b[0mfn\u001b[0m\u001b[0;34m(\u001b[0m\u001b[0;34m*\u001b[0m\u001b[0margs\u001b[0m\u001b[0;34m,\u001b[0m \u001b[0;34m**\u001b[0m\u001b[0mkwargs\u001b[0m\u001b[0;34m)\u001b[0m\u001b[0;34m\u001b[0m\u001b[0;34m\u001b[0m\u001b[0m\n\u001b[0m\u001b[1;32m   2353\u001b[0m             \u001b[0;32mreturn\u001b[0m \u001b[0mresult\u001b[0m\u001b[0;34m\u001b[0m\u001b[0;34m\u001b[0m\u001b[0m\n\u001b[1;32m   2354\u001b[0m \u001b[0;34m\u001b[0m\u001b[0m\n",
      "\u001b[0;32m</usr/local/lib/python3.6/site-packages/decorator.py:decorator-gen-130>\u001b[0m in \u001b[0;36mcython\u001b[0;34m(self, line, cell)\u001b[0m\n",
      "\u001b[0;32m/usr/local/lib/python3.6/site-packages/IPython/core/magic.py\u001b[0m in \u001b[0;36m<lambda>\u001b[0;34m(f, *a, **k)\u001b[0m\n\u001b[1;32m    185\u001b[0m     \u001b[0;31m# but it's overkill for just that one bit of state.\u001b[0m\u001b[0;34m\u001b[0m\u001b[0;34m\u001b[0m\u001b[0;34m\u001b[0m\u001b[0m\n\u001b[1;32m    186\u001b[0m     \u001b[0;32mdef\u001b[0m \u001b[0mmagic_deco\u001b[0m\u001b[0;34m(\u001b[0m\u001b[0marg\u001b[0m\u001b[0;34m)\u001b[0m\u001b[0;34m:\u001b[0m\u001b[0;34m\u001b[0m\u001b[0;34m\u001b[0m\u001b[0m\n\u001b[0;32m--> 187\u001b[0;31m         \u001b[0mcall\u001b[0m \u001b[0;34m=\u001b[0m \u001b[0;32mlambda\u001b[0m \u001b[0mf\u001b[0m\u001b[0;34m,\u001b[0m \u001b[0;34m*\u001b[0m\u001b[0ma\u001b[0m\u001b[0;34m,\u001b[0m \u001b[0;34m**\u001b[0m\u001b[0mk\u001b[0m\u001b[0;34m:\u001b[0m \u001b[0mf\u001b[0m\u001b[0;34m(\u001b[0m\u001b[0;34m*\u001b[0m\u001b[0ma\u001b[0m\u001b[0;34m,\u001b[0m \u001b[0;34m**\u001b[0m\u001b[0mk\u001b[0m\u001b[0;34m)\u001b[0m\u001b[0;34m\u001b[0m\u001b[0;34m\u001b[0m\u001b[0m\n\u001b[0m\u001b[1;32m    188\u001b[0m \u001b[0;34m\u001b[0m\u001b[0m\n\u001b[1;32m    189\u001b[0m         \u001b[0;32mif\u001b[0m \u001b[0mcallable\u001b[0m\u001b[0;34m(\u001b[0m\u001b[0marg\u001b[0m\u001b[0;34m)\u001b[0m\u001b[0;34m:\u001b[0m\u001b[0;34m\u001b[0m\u001b[0;34m\u001b[0m\u001b[0m\n",
      "\u001b[0;32m/usr/local/lib/python3.6/site-packages/Cython/Build/IpythonMagic.py\u001b[0m in \u001b[0;36mcython\u001b[0;34m(self, line, cell)\u001b[0m\n\u001b[1;32m    323\u001b[0m         \u001b[0;32mif\u001b[0m \u001b[0mneed_cythonize\u001b[0m\u001b[0;34m:\u001b[0m\u001b[0;34m\u001b[0m\u001b[0;34m\u001b[0m\u001b[0m\n\u001b[1;32m    324\u001b[0m             \u001b[0mextensions\u001b[0m \u001b[0;34m=\u001b[0m \u001b[0mself\u001b[0m\u001b[0;34m.\u001b[0m\u001b[0m_cythonize\u001b[0m\u001b[0;34m(\u001b[0m\u001b[0mmodule_name\u001b[0m\u001b[0;34m,\u001b[0m \u001b[0mcode\u001b[0m\u001b[0;34m,\u001b[0m \u001b[0mlib_dir\u001b[0m\u001b[0;34m,\u001b[0m \u001b[0margs\u001b[0m\u001b[0;34m,\u001b[0m \u001b[0mquiet\u001b[0m\u001b[0;34m=\u001b[0m\u001b[0margs\u001b[0m\u001b[0;34m.\u001b[0m\u001b[0mquiet\u001b[0m\u001b[0;34m)\u001b[0m\u001b[0;34m\u001b[0m\u001b[0;34m\u001b[0m\u001b[0m\n\u001b[0;32m--> 325\u001b[0;31m             \u001b[0;32massert\u001b[0m \u001b[0mlen\u001b[0m\u001b[0;34m(\u001b[0m\u001b[0mextensions\u001b[0m\u001b[0;34m)\u001b[0m \u001b[0;34m==\u001b[0m \u001b[0;36m1\u001b[0m\u001b[0;34m\u001b[0m\u001b[0;34m\u001b[0m\u001b[0m\n\u001b[0m\u001b[1;32m    326\u001b[0m             \u001b[0mextension\u001b[0m \u001b[0;34m=\u001b[0m \u001b[0mextensions\u001b[0m\u001b[0;34m[\u001b[0m\u001b[0;36m0\u001b[0m\u001b[0;34m]\u001b[0m\u001b[0;34m\u001b[0m\u001b[0;34m\u001b[0m\u001b[0m\n\u001b[1;32m    327\u001b[0m             \u001b[0mself\u001b[0m\u001b[0;34m.\u001b[0m\u001b[0m_code_cache\u001b[0m\u001b[0;34m[\u001b[0m\u001b[0mkey\u001b[0m\u001b[0;34m]\u001b[0m \u001b[0;34m=\u001b[0m \u001b[0mmodule_name\u001b[0m\u001b[0;34m\u001b[0m\u001b[0;34m\u001b[0m\u001b[0m\n",
      "\u001b[0;31mTypeError\u001b[0m: object of type 'NoneType' has no len()"
     ]
    }
   ],
   "source": [
    "%%cython\n",
    "import sys\n",
    "from clawpack import pyclaw\n",
    "from clawpack import riemann\n",
    "import numpy as np\n",
    "import sed_trans\n",
    "\n",
    "sys.path.append(\"/home/pgrover/Dropbox/PhD/Morphodynamic_Model/pymorph\")\n",
    "from schemes.weno import get_left_flux,get_right_flux\n",
    "from schemes.weno import get_stencil\n",
    "\n",
    "from models.shallow_water_solver import shallow_solver\n",
    "from schemes.avalanche_scheme import *\n",
    "\n",
    "\n",
    "#--------------------------------\n",
    "# Set up the constants\n",
    "#--------------------------------\n",
    "a=0.001\n",
    "b=3.0\n",
    "Q=10.0\n",
    "nP=0.4\n",
    "xcentre = 150.  # Centre of hum\n",
    "h0 = 6.0        # Height of the dune\n",
    "s= 12.0         # Datum\n",
    "beta = 0.01\n",
    "\n",
    "# Sediment properties\n",
    "D50 = 0.001     # Particle Diameter\n",
    "rho_particule = 2650\n",
    "\n",
    "#--------------------------------\n",
    "# Set up the domain, BCs and ICs\n",
    "#--------------------------------\n",
    "import logging\n",
    "logger = logging.getLogger('pyclaw')\n",
    "logger.setLevel(logging.CRITICAL)\n",
    "\n",
    "nx=300\n",
    "x = pyclaw.Dimension(0.0,300.0,nx,name='x')\n",
    "domain = pyclaw.Domain(x)\n",
    "state = pyclaw.State(domain,1)\n",
    "xc = state.grid.x.centers\n",
    "dx = state.grid.delta[0]\n",
    "print('Grid dx = {0}'.format(dx))\n",
    "print('Grid nx = {0}'.format(len(xc)))\n",
    "\n",
    " # Gravitational constant\n",
    "state.problem_data['grav'] = 9.8\n",
    "state.problem_data['sea_level'] = 0.0\n",
    "\n",
    "#--------------------------------\n",
    "# Set up the bathymetry\n",
    "#--------------------------------\n",
    "z = np.zeros(nx)\n",
    "# Eq 66 - Build the Gaussian Hump\n",
    "z = np.array([(h0 + 2.0*math.exp(-beta*(xp-xcentre)**2)) for xp in xc])\n",
    "zc = z.copy()\n",
    "z_hydro = z.copy()\n",
    "\n",
    "# Set up the inital state of the flow\n",
    "shw_slvr = shallow_solver(domain)\n",
    "u, surf,h = shw_slvr.run(zc,s)\n",
    "\n",
    "\n",
    "if np.isnan(u).any():\n",
    "    # Get the flow\n",
    "    print u\n",
    "    raise ValueError('Failed to calculate the flow')\n",
    "#--------------------------------\n",
    "# Initialize the sed transport \n",
    "#--------------------------------    \n",
    "# Eq 57\n",
    "qbedload = np.zeros(nx)\n",
    "roe_speed = np.zeros(nx)\n",
    "qbedload = a*u**b\n",
    "flux = np.zeros(nx)\n",
    "\n",
    "#--------------------------------\n",
    "#  Setup the model run parameters\n",
    "#--------------------------------\n",
    "simTime = 10000. # Runtime in seconds\n",
    "dt = 2 # Time step size (s)\n",
    "nt = int(simTime/dt)  # Number of time steps\n",
    "\n",
    "\n",
    "#--------------------------------\n",
    "# Set up the model reporting parameters\n",
    "#--------------------------------\n",
    "z0 = zc.copy() \n",
    "z600 = zc.copy() \n",
    "z2000 = zc.copy()\n",
    "verts = []\n",
    "\n",
    "extractionInterval = 100.\n",
    "tsteps=[]\n",
    "cntr = 0\n",
    "#--------------------------------\n",
    "#  Run the model\n",
    "#--------------------------------\n",
    "for n in range(1,nt):  \n",
    "    zn = zc.copy() \n",
    "    for i in range(0,nx): #i=2\n",
    "\n",
    "        zloc = get_stencil(zn,i-2,i+4)\n",
    "        \n",
    "        # Since k=3\n",
    "        # stencil is i-2 to i+2 \n",
    "        qloc = get_stencil(qbedload,i-2,i+4)\n",
    "        if len(qloc)<>6:\n",
    "            raise ValueError('Stencil is incorrect')\n",
    " \n",
    "        # Determine the Upwind flux\n",
    "        # The 0.5 comes from the c+abs(c) which is 2 if the wave speed is +ive\n",
    "        # this is the evaluation of the left and right based fluxes. Eq. 18 and 19\n",
    "        \n",
    "        if (zloc[3]-zloc[2]) == 0.0:\n",
    "            roe_speed[i]=np.sign( (qloc[3]-qloc[2]) )\n",
    "        else:\n",
    "            roe_speed[i]=np.sign( (qloc[3]-qloc[2])/ (zloc[3]-zloc[2]) )\n",
    "        \n",
    "        if roe_speed[i] >= 0.0:\n",
    "            flux[i] = get_left_flux(qloc)\n",
    "        else:\n",
    "            flux[i] = get_right_flux(qloc)\n",
    "        \n",
    "    # Need the sign of the phase speed\n",
    "    # Need to check this out\n",
    "    for i in range(0,nx): #i=2       \n",
    "        floc = get_stencil(flux,i-1,i+1)\n",
    "        zc[i] = zn[i]-(1./(1.-nP))*dt/dx*(floc[1]-floc[0])\n",
    "    \n",
    "    bed_max_delta = np.max(np.abs(z_hydro - zc))\n",
    "    \n",
    "    # Apply the avalanche model\n",
    "    zc,iterations = avalanche_model(dx,xc,zc)\n",
    "    #zc = z_updated.copy()\n",
    "    \n",
    "    # Re-run the solver and updated the sediment transport\n",
    "    # Check if the avalanche model was updated OR the bed changed greater than the threshold\n",
    "    if iterations > 2 or bed_max_delta > 0.05:\n",
    "        u, surf,h = shw_slvr.run(zc,s)\n",
    "        for i in range(0,nx): #i=2    \n",
    "            zlocal = get_stencil(zn,i-2,i+2)\n",
    "            slope = (zlocal[3]-zlocal[1]) / dx\n",
    "            qbedload[i] = sed_trans.get_unit_bed_load2(h[i],u[i],D50,rho_particule,'mpm') \n",
    "        z_hydro = zc.copy()\n",
    "    \n",
    "    if (n*dt / extractionInterval) == math.floor(n*dt / extractionInterval):\n",
    "        verts.append(list(zip(xc.copy(),zc.copy())))\n",
    "        tsteps.append(n*dt)\n",
    "        \n",
    "    cntr += 1\n",
    "    if cntr == 1000:\n",
    "        cntr = 0\n",
    "        print('Time step {0} of {1} - bed_max_delta {2}'.format(n,nt,bed_max_delta))    \n",
    "        \n",
    "print('Done')"
   ]
  },
  {
   "cell_type": "code",
   "execution_count": 88,
   "metadata": {},
   "outputs": [
    {
     "data": {
      "text/plain": [
       "<matplotlib.legend.Legend at 0x7ff5a10e9210>"
      ]
     },
     "execution_count": 88,
     "metadata": {},
     "output_type": "execute_result"
    },
    {
     "data": {
      "image/png": "[encoded data removed]",
      "text/plain": [
       "<matplotlib.figure.Figure at 0x7ff5a10f8cd0>"
      ]
     },
     "metadata": {},
     "output_type": "display_data"
    }
   ],
   "source": [
    "fig = plt.figure(figsize=(8, 6))\n",
    "plt.plot(xc,z0,'k', label='t=0s') \n",
    "\n",
    "plt.plot(xc,zc, 'r', label='t=6000s')\n",
    "plt.plot(x_6000, z_a6000,'r--', label='t=6000s')\n",
    "\n",
    "plt.plot(xc, surf, 'b')\n",
    "\n",
    "plt.xlabel('x (m)')\n",
    "plt.ylabel('$z_b$ (m)')\n",
    "plt.xlim([120,210])\n",
    "plt.ylim([6,12.5])\n",
    "plt.legend(loc=2)"
   ]
  },
  {
   "cell_type": "code",
   "execution_count": 66,
   "metadata": {},
   "outputs": [
    {
     "data": {
      "text/plain": [
       "[<matplotlib.lines.Line2D at 0x7ff5a4bfb550>]"
      ]
     },
     "execution_count": 66,
     "metadata": {},
     "output_type": "execute_result"
    },
    {
     "data": {
      "image/png": "[encoded data removed]",
      "text/plain": [
       "<matplotlib.figure.Figure at 0x7ff5a4bfb4d0>"
      ]
     },
     "metadata": {},
     "output_type": "display_data"
    }
   ],
   "source": [
    "plt.plot(xc,qbedload*1000)\n",
    "plt.plot(xc,u)\n"
   ]
  },
  {
   "cell_type": "code",
   "execution_count": 84,
   "metadata": {},
   "outputs": [
    {
     "data": {
      "text/plain": [
       "1.7587782252803663e-07"
      ]
     },
     "execution_count": 84,
     "metadata": {},
     "output_type": "execute_result"
    }
   ],
   "source": [
    "slope"
   ]
  },
  {
   "cell_type": "markdown",
   "metadata": {},
   "source": [
    "## Now account for the influence of the bed slope on the sediment transport\n"
   ]
  },
  {
   "cell_type": "code",
   "execution_count": 1,
   "metadata": {},
   "outputs": [
    {
     "ename": "NameError",
     "evalue": "name 'pyclaw' is not defined",
     "output_type": "error",
     "traceback": [
      "\u001b[1;31m---------------------------------------------------------------------------\u001b[0m",
      "\u001b[1;31mNameError\u001b[0m                                 Traceback (most recent call last)",
      "\u001b[1;32m<ipython-input-1-feb0b60efe5e>\u001b[0m in \u001b[0;36m<module>\u001b[1;34m()\u001b[0m\n\u001b[0;32m     23\u001b[0m \u001b[1;33m\u001b[0m\u001b[0m\n\u001b[0;32m     24\u001b[0m \u001b[0mnx\u001b[0m\u001b[1;33m=\u001b[0m\u001b[1;36m300\u001b[0m\u001b[1;33m\u001b[0m\u001b[0m\n\u001b[1;32m---> 25\u001b[1;33m \u001b[0mx\u001b[0m \u001b[1;33m=\u001b[0m \u001b[0mpyclaw\u001b[0m\u001b[1;33m.\u001b[0m\u001b[0mDimension\u001b[0m\u001b[1;33m(\u001b[0m\u001b[1;36m0.0\u001b[0m\u001b[1;33m,\u001b[0m\u001b[1;36m300.0\u001b[0m\u001b[1;33m,\u001b[0m\u001b[0mnx\u001b[0m\u001b[1;33m,\u001b[0m\u001b[0mname\u001b[0m\u001b[1;33m=\u001b[0m\u001b[1;34m'x'\u001b[0m\u001b[1;33m)\u001b[0m\u001b[1;33m\u001b[0m\u001b[0m\n\u001b[0m\u001b[0;32m     26\u001b[0m \u001b[0mdomain\u001b[0m \u001b[1;33m=\u001b[0m \u001b[0mpyclaw\u001b[0m\u001b[1;33m.\u001b[0m\u001b[0mDomain\u001b[0m\u001b[1;33m(\u001b[0m\u001b[0mx\u001b[0m\u001b[1;33m)\u001b[0m\u001b[1;33m\u001b[0m\u001b[0m\n\u001b[0;32m     27\u001b[0m \u001b[0mstate\u001b[0m \u001b[1;33m=\u001b[0m \u001b[0mpyclaw\u001b[0m\u001b[1;33m.\u001b[0m\u001b[0mState\u001b[0m\u001b[1;33m(\u001b[0m\u001b[0mdomain\u001b[0m\u001b[1;33m,\u001b[0m\u001b[1;36m1\u001b[0m\u001b[1;33m)\u001b[0m\u001b[1;33m\u001b[0m\u001b[0m\n",
      "\u001b[1;31mNameError\u001b[0m: name 'pyclaw' is not defined"
     ]
    }
   ],
   "source": [
    "#--------------------------------\n",
    "# Set up the constants\n",
    "#--------------------------------\n",
    "a=0.001\n",
    "b=3.0\n",
    "Q=10.0\n",
    "nP=0.4\n",
    "xcentre = 150.  # Centre of hum\n",
    "h0 = 6.0        # Height of the dune\n",
    "s= 12.0         # Datum\n",
    "beta = 0.01\n",
    "\n",
    "# Sediment properties\n",
    "D50 = 0.001     # Particle Diameter\n",
    "rho_particule = 1650\n",
    "\n",
    "#--------------------------------\n",
    "# Set up the domain, BCs and ICs\n",
    "#--------------------------------\n",
    "import logging\n",
    "logger = logging.getLogger('pyclaw')\n",
    "logger.setLevel(logging.CRITICAL)\n",
    "\n",
    "nx=300\n",
    "x = pyclaw.Dimension(0.0,300.0,nx,name='x')\n",
    "domain = pyclaw.Domain(x)\n",
    "state = pyclaw.State(domain,1)\n",
    "xc = state.grid.x.centers\n",
    "dx = state.grid.delta[0]\n",
    "print('Grid dx = {0}'.format(dx))\n",
    "print('Grid nx = {0}'.format(len(xc)))\n",
    "\n",
    " # Gravitational constant\n",
    "state.problem_data['grav'] = 9.8\n",
    "state.problem_data['sea_level'] = 0.0\n",
    "\n",
    "#--------------------------------\n",
    "# Set up the bathymetry\n",
    "#--------------------------------\n",
    "z = np.zeros(nx)\n",
    "# Eq 66 - Build the Gaussian Hump\n",
    "z = np.array([(h0 + 2.0*math.exp(-beta*(xp-xcentre)**2)) for xp in xc])\n",
    "zc = z.copy()\n",
    "z_hydro = z.copy()\n",
    "\n",
    "# Set up the inital state of the flow\n",
    "shw_slvr = shallow_solver(domain)\n",
    "u, surf,h = shw_slvr.run(zc,s)\n",
    "\n",
    "\n",
    "if np.isnan(u).any():\n",
    "    # Get the flow\n",
    "    print u\n",
    "    raise ValueError('Failed to calculate the flow')\n",
    "#--------------------------------\n",
    "# Initialize the sed transport \n",
    "#--------------------------------    \n",
    "# Eq 57\n",
    "qbedload = np.zeros(nx)\n",
    "roe_speed = np.zeros(nx)\n",
    "qbedload = a*u**b\n",
    "flux = np.zeros(nx)\n",
    "\n",
    "#--------------------------------\n",
    "#  Setup the model run parameters\n",
    "#--------------------------------\n",
    "simTime = 20000. # Runtime in seconds\n",
    "dt = 10 # Time step size (s)\n",
    "nt = int(simTime/dt)  # Number of time steps\n",
    "\n",
    "\n",
    "#--------------------------------\n",
    "# Set up the model reporting parameters\n",
    "#--------------------------------\n",
    "z0 = zc.copy() \n",
    "z600 = zc.copy() \n",
    "z2000 = zc.copy()\n",
    "verts = []\n",
    "\n",
    "extractionInterval = 100.\n",
    "tsteps=[]\n",
    "cntr = 0\n",
    "#--------------------------------\n",
    "#  Run the model\n",
    "#--------------------------------\n",
    "for n in range(1,nt):  \n",
    "    zn = zc.copy() \n",
    "    for i in range(0,nx): #i=2\n",
    "\n",
    "        zloc = get_stencil(zn,i-2,i+4)\n",
    "        \n",
    "        # Since k=3\n",
    "        # stencil is i-2 to i+2 \n",
    "        qloc = get_stencil(qbedload,i-2,i+4)\n",
    "        if len(qloc)<>6:\n",
    "            raise ValueError('Stencil is incorrect')\n",
    " \n",
    "        # Determine the Upwind flux\n",
    "        # The 0.5 comes from the c+abs(c) which is 2 if the wave speed is +ive\n",
    "        # this is the evaluation of the left and right based fluxes. Eq. 18 and 19\n",
    "        \n",
    "        if (zloc[3]-zloc[2]) == 0.0:\n",
    "            roe_speed[i]=np.sign( (qloc[3]-qloc[2]) )\n",
    "        else:\n",
    "            roe_speed[i]=np.sign( (qloc[3]-qloc[2])/ (zloc[3]-zloc[2]) )\n",
    "        \n",
    "        if roe_speed[i] >= 0.0:\n",
    "            flux[i] = get_left_flux(qloc)\n",
    "        else:\n",
    "            flux[i] = get_right_flux(qloc)\n",
    "        \n",
    "    # Need the sign of the phase speed\n",
    "    # Need to check this out\n",
    "    for i in range(0,nx): #i=2       \n",
    "        floc = get_stencil(flux,i-1,i+1)\n",
    "        zc[i] = zn[i]-(1./(1.-nP))*dt/dx*(floc[1]-floc[0])\n",
    "    \n",
    "    bed_max_delta = np.max(np.abs(z_hydro - zc))\n",
    "    \n",
    "    # Apply the avalanche model\n",
    "    zc,iterations = avalanche_model(dx,xc,zc)\n",
    "    #zc = z_updated.copy()\n",
    "    \n",
    "    # Re-run the solver and updated the sediment transport\n",
    "    # Check if the avalanche model was updated OR the bed changed greater than the threshold\n",
    "    if iterations > 10 or bed_max_delta > 0.01:\n",
    "        u, surf,h = shw_slvr.run(zc,s)\n",
    "    # Remove the old method \n",
    "    #qbedload = a*u**b\n",
    "\n",
    "    for i in range(0,nx): #i=2        \n",
    "        qbedload[i] = sed_trans.get_unit_bed_load2(h[i],u[i],D50,rho_particule,'mpm')\n",
    "    z_hydro = zc.copy()\n",
    "    \n",
    "    if (n*dt / extractionInterval) == math.floor(n*dt / extractionInterval):\n",
    "        verts.append(list(zip(xc.copy(),zc.copy())))\n",
    "        tsteps.append(n*dt)\n",
    "        \n",
    "    cntr += 1\n",
    "    if cntr == 1000:\n",
    "        cntr = 0\n",
    "        print('Time step {0} of {1} - bed_max_delta {2}'.format(n,nt,bed_max_delta))    \n",
    "        \n",
    "print('Done')"
   ]
  },
  {
   "cell_type": "code",
   "execution_count": 33,
   "metadata": {},
   "outputs": [
    {
     "data": {
      "text/plain": [
       "<matplotlib.legend.Legend at 0x7ff5a6037e10>"
      ]
     },
     "execution_count": 33,
     "metadata": {},
     "output_type": "execute_result"
    },
    {
     "data": {
      "image/png": "[encoded data removed]",
      "text/plain": [
       "<matplotlib.figure.Figure at 0x7ff5a5a58d10>"
      ]
     },
     "metadata": {},
     "output_type": "display_data"
    }
   ],
   "source": [
    "fig = plt.figure(figsize=(8, 6))\n",
    "plt.plot(xc,z0,'k', label='t=0s') \n",
    "\n",
    "plt.plot(xc,zc, 'r', label='t=6000s')\n",
    "plt.plot(x_6000, z_a6000,'r--', label='t=6000s')\n",
    "\n",
    "plt.plot(xc, surf, 'b')\n",
    "\n",
    "plt.xlabel('x (m)')\n",
    "plt.ylabel('$z_b$ (m)')\n",
    "plt.xlim([120,210])\n",
    "plt.ylim([6,12.5])\n",
    "plt.legend(loc=2)"
   ]
  },
  {
   "cell_type": "code",
   "execution_count": 96,
   "metadata": {},
   "outputs": [
    {
     "ename": "ImportError",
     "evalue": "cannot import name get_unit_bed_load_slope",
     "output_type": "error",
     "traceback": [
      "\u001b[1;31m---------------------------------------------------------------------------\u001b[0m",
      "\u001b[1;31mImportError\u001b[0m                               Traceback (most recent call last)",
      "\u001b[1;32m<ipython-input-96-6f9468c4b66c>\u001b[0m in \u001b[0;36m<module>\u001b[1;34m()\u001b[0m\n\u001b[1;32m----> 1\u001b[1;33m \u001b[1;32mfrom\u001b[0m \u001b[0msed_trans\u001b[0m \u001b[1;32mimport\u001b[0m \u001b[0mget_unit_bed_load_slope\u001b[0m\u001b[1;33m\u001b[0m\u001b[0m\n\u001b[0m",
      "\u001b[1;31mImportError\u001b[0m: cannot import name get_unit_bed_load_slope"
     ]
    }
   ],
   "source": [
    "from sed_trans import get_unit_bed_load_slope"
   ]
  },
  {
   "cell_type": "code",
   "execution_count": null,
   "metadata": {
    "collapsed": true
   },
   "outputs": [],
   "source": []
  }
 ],
 "metadata": {
  "kernelspec": {
   "display_name": "Python 3",
   "language": "python",
   "name": "python3"
  },
  "language_info": {
   "codemirror_mode": {
    "name": "ipython",
    "version": 3
   },
   "file_extension": ".py",
   "mimetype": "text/x-python",
   "name": "python",
   "nbconvert_exporter": "python",
   "pygments_lexer": "ipython3",
   "version": "3.6.8"
  }
 },
 "nbformat": 4,
 "nbformat_minor": 2
}
