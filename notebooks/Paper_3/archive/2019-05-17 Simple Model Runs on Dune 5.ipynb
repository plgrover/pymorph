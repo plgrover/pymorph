{
 "cells": [
  {
   "cell_type": "code",
   "execution_count": 7,
   "metadata": {},
   "outputs": [
    {
     "name": "stdout",
     "output_type": "stream",
     "text": [
      "The autoreload extension is already loaded. To reload it, use:\n",
      "  %reload_ext autoreload\n"
     ]
    }
   ],
   "source": [
    "%matplotlib widget\n",
    "import os,sys\n",
    "import csv\n",
    "import copy\n",
    "import math\n",
    "import collections\n",
    "import pandas as pd\n",
    "import matplotlib\n",
    "import matplotlib.pyplot as plt\n",
    "from clawpack import pyclaw\n",
    "from clawpack import riemann\n",
    "from IPython.display import HTML\n",
    "import numpy as np\n",
    "from scipy.integrate import simps, trapz\n",
    "from scipy.interpolate import interp1d\n",
    "from scipy import signal\n",
    "sys.path.append(\"/pymorph\")\n",
    "\n",
    "import morph_geom_lib as mgl\n",
    "import models.simple_depth_morph_models as sdmodels\n",
    "import schemes.avalanche_scheme \n",
    "\n",
    "\n",
    "from matplotlib.collections import LineCollection\n",
    "from mpl_toolkits.mplot3d import Axes3D\n",
    "\n",
    "from IPython.display import display, Math, Latex\n",
    "from matplotlib import animation, rc\n",
    "\n",
    "import schemes.weno as weno\n",
    "import sediment_transport.sed_trans as sedtrans\n",
    "from schemes.avalanche_scheme import avalanche_model, get_slope\n",
    "from models.shallow_water_solver import shallow_water_solver\n",
    "\n",
    "rc('animation', html='html5')\n",
    "\n",
    "%load_ext autoreload\n",
    "%autoreload 2\n",
    "%matplotlib inline\n",
    "#plt.style.use(['dark_background'])"
   ]
  },
  {
   "cell_type": "code",
   "execution_count": 8,
   "metadata": {},
   "outputs": [
    {
     "name": "stdout",
     "output_type": "stream",
     "text": [
      "dx: 0.9762202753441801 cm\n",
      "nx 800\n"
     ]
    },
    {
     "data": {
      "text/plain": [
       "Text(0, 0.5, 'z (m)')"
      ]
     },
     "execution_count": 8,
     "metadata": {},
     "output_type": "execute_result"
    },
    {
     "data": {
      "image/png": "[encoded data removed]",
      "text/plain": [
       "<Figure size 1008x288 with 1 Axes>"
      ]
     },
     "metadata": {},
     "output_type": "display_data"
    }
   ],
   "source": [
    "filepath = 'dune_profile_dune5_repeated.txt'\n",
    "\n",
    "def is_number(s):\n",
    "    try:\n",
    "        float(s)\n",
    "        return True\n",
    "    except ValueError:\n",
    "        return False\n",
    "    \n",
    "\n",
    "\n",
    "def readFile(filepath, resolution_cells = 800):\n",
    "    xs = []\n",
    "    zs = []\n",
    "    with open(filepath) as f:\n",
    "        for line in f:\n",
    "            values = line.split(',')\n",
    "            if is_number(values[0]) and is_number(values[1]):\n",
    "                x = float(values[0])\n",
    "                z = float(values[1])\n",
    "                xs.append(x)\n",
    "                zs.append(z)\n",
    "                \n",
    "    xs = np.array(xs)\n",
    "    zs = np.array(zs)\n",
    "    \n",
    "    #--------------------------------\n",
    "    # Increase the resolution on the grid\n",
    "    #--------------------------------\n",
    "    xmax = xs.max()\n",
    "    nx = len(xs)\n",
    "    f = interp1d(xs, zs)\n",
    "    \n",
    "    xnew = np.linspace(0., xmax, num=resolution_cells)\n",
    "    znew = f(xnew)\n",
    "    return xnew, znew\n",
    "\n",
    "x0,z0 = readFile(filepath, resolution_cells = 800)\n",
    "\n",
    "\n",
    "\n",
    "dx = x0[1] - x0[0]\n",
    "\n",
    "'''z0slope = z0.copy()\n",
    "dx = x0[1] - x0[0]\n",
    "for i in range(len(z0)):\n",
    "    z0[i] = z0[i] - dx*( 1.26/1000. )'''\n",
    "\n",
    "\n",
    "\n",
    "\n",
    "print('dx: {0} cm'.format(dx*100.))\n",
    "print('nx {0}'.format(len(x0)))\n",
    "\n",
    "fig = plt.figure(figsize=(14, 4))\n",
    "plt.plot(x0,z0, '.')\n",
    "plt.xlabel('x (m)')\n",
    "plt.ylabel('z (m)')"
   ]
  },
  {
   "cell_type": "code",
   "execution_count": 9,
   "metadata": {},
   "outputs": [
    {
     "data": {
      "text/plain": [
       "\"profile_folder = '/pymorph/notebooks/Paper_3/flume_profile_smoothed_v002.txt'\\nxc, z0 = mgl.readQueensFlume(profile_folder,1)\\n\\nfig = plt.figure(figsize=(16, 3))\\n#plt.plot(xc,z0,'b')\\n\\ndunes = 9\\n\\nxsaw = np.linspace(0, 1,500)\\nsimTime = 60*10 # Runtime in seconds\\ndt = 0.5 # Time step size (s)\\n\\nzsaw = 0.076*(signal.sawtooth(2*dunes*np.pi * xsaw) + 1.)/2\\nxsaw = xsaw*xc.max()*dunes*0.5\\n#plt.plot(xsaw,zsaw)\\n\\n\\ndx = xsaw[1]-xsaw[0]\\nznew, iterations1 = schemes.avalanche_scheme.avalanche_model(dx,xsaw, zsaw, adjustment_angle=28.)\\n# Now flip it to run in reverse\\nzflip = np.flip(znew, axis=0)\\nzflip, iterations1 = schemes.avalanche_scheme.avalanche_model(dx,xsaw, zflip, adjustment_angle=28.)\\nznew = np.flip(zflip, axis=0)\\n\\nznew = (znew - np.min(znew))/np.ptp(znew)\\nznew = znew*0.076\\n\\nplt.plot(xsaw,znew,'-',color='c')\\nplt.axhline(0.357)\\nprint(dx)\\nplt.xlabel('x (m)')\\nplt.ylabel('z (m)')\""
      ]
     },
     "execution_count": 9,
     "metadata": {},
     "output_type": "execute_result"
    }
   ],
   "source": [
    "'''profile_folder = '/pymorph/notebooks/Paper_3/flume_profile_smoothed_v002.txt'\n",
    "xc, z0 = mgl.readQueensFlume(profile_folder,1)\n",
    "\n",
    "fig = plt.figure(figsize=(16, 3))\n",
    "#plt.plot(xc,z0,'b')\n",
    "\n",
    "dunes = 9\n",
    "\n",
    "xsaw = np.linspace(0, 1,500)\n",
    "simTime = 60*10 # Runtime in seconds\n",
    "dt = 0.5 # Time step size (s)\n",
    "\n",
    "zsaw = 0.076*(signal.sawtooth(2*dunes*np.pi * xsaw) + 1.)/2\n",
    "xsaw = xsaw*xc.max()*dunes*0.5\n",
    "#plt.plot(xsaw,zsaw)\n",
    "\n",
    "\n",
    "dx = xsaw[1]-xsaw[0]\n",
    "znew, iterations1 = schemes.avalanche_scheme.avalanche_model(dx,xsaw, zsaw, adjustment_angle=28.)\n",
    "# Now flip it to run in reverse\n",
    "zflip = np.flip(znew, axis=0)\n",
    "zflip, iterations1 = schemes.avalanche_scheme.avalanche_model(dx,xsaw, zflip, adjustment_angle=28.)\n",
    "znew = np.flip(zflip, axis=0)\n",
    "\n",
    "znew = (znew - np.min(znew))/np.ptp(znew)\n",
    "znew = znew*0.076\n",
    "\n",
    "plt.plot(xsaw,znew,'-',color='c')\n",
    "plt.axhline(0.357)\n",
    "print(dx)\n",
    "plt.xlabel('x (m)')\n",
    "plt.ylabel('z (m)')'''"
   ]
  },
  {
   "cell_type": "markdown",
   "metadata": {},
   "source": [
    "# Model Runs for Paper\n",
    "\n",
    "- Equilibrium vs non-Equlibrium\n",
    "- Shallow water vs simple flow model\n",
    "- modified Ycr (+20%, -20%)\n",
    "- other models (Euler, Upwinding, MacCormick)"
   ]
  },
  {
   "cell_type": "code",
   "execution_count": 10,
   "metadata": {},
   "outputs": [],
   "source": [
    "#--------------------------------\n",
    "# Set up the bed properties\n",
    "#--------------------------------\n",
    "D50 = 0.001\n",
    "repose_angle = 30.\n",
    "rho_particle = 2650.\n",
    "nP = 0.4\n",
    "\n",
    "#--------------------------------\n",
    "# Set up the Boundary conditions\n",
    "#--------------------------------\n",
    "# 32 cm Case \n",
    "Qc132 = 0.0455\n",
    "Qc120 = 0.020\n",
    "B = 0.76\n",
    "Qtotal32 = Qc132 * 3.\n",
    "Qtotal20 = Qc120 * 3.\n",
    "q32cm = Qtotal32 / B\n",
    "q20cm = Qtotal20 / B\n",
    "\n",
    "sOut32 = 0.357\n",
    "sOut20 = 0.237\n",
    "\n",
    "#--------------------------------\n",
    "# Set up the Flow Proerties\n",
    "#--------------------------------\n",
    "mannings_n = 0.024\n",
    "bed_slope = 1.26/1000.\n",
    "ks=0.002\n",
    "\n",
    "#--------------------------------\n",
    "#  Setup the model run parameters\n",
    "#--------------------------------\n",
    "simTime = 300*60       # Runtime in seconds\n",
    "dt = 5                # Time step size (s)\n",
    "nt = int(simTime/dt)  # Number of time steps\n",
    "extractionTime = 60.*5"
   ]
  },
  {
   "cell_type": "markdown",
   "metadata": {},
   "source": [
    "## 20 cm Case Non-Equilibrium"
   ]
  },
  {
   "cell_type": "code",
   "execution_count": null,
   "metadata": {},
   "outputs": [],
   "source": [
    "len(z0)"
   ]
  },
  {
   "cell_type": "code",
   "execution_count": null,
   "metadata": {},
   "outputs": [
    {
     "name": "stdout",
     "output_type": "stream",
     "text": [
      " Starting simulation....\n",
      "Number of time steps: 60.0 mins\n",
      "Grid dx = 0.009762202753441801\n",
      "Grid nx = 800\n",
      "Completed the intialization of the model\n",
      "D50:    0.001\n",
      "Rho Particle:    2650.0\n",
      "Angle Repose Degrees:    30.0\n",
      "Zc = 800\n",
      "Max qbedload = 0.00013449864113770912\n"
     ]
    },
    {
     "ename": "AttributeError",
     "evalue": "'SimpleHydroMorphologicalModel' object has no attribute 'get_wave_dataframe'",
     "output_type": "error",
     "traceback": [
      "\u001b[0;31m---------------------------------------------------------------------------\u001b[0m",
      "\u001b[0;31mAttributeError\u001b[0m                            Traceback (most recent call last)",
      "\u001b[0;32m<ipython-input-12-68b4f1e86f96>\u001b[0m in \u001b[0;36m<module>\u001b[0;34m\u001b[0m\n\u001b[1;32m     31\u001b[0m \u001b[0;34m\u001b[0m\u001b[0m\n\u001b[1;32m     32\u001b[0m \u001b[0;34m\u001b[0m\u001b[0m\n\u001b[0;32m---> 33\u001b[0;31m \u001b[0mdf\u001b[0m \u001b[0;34m=\u001b[0m \u001b[0mmodel\u001b[0m\u001b[0;34m.\u001b[0m\u001b[0mget_wave_dataframe\u001b[0m\u001b[0;34m(\u001b[0m\u001b[0;34m)\u001b[0m\u001b[0;34m\u001b[0m\u001b[0;34m\u001b[0m\u001b[0m\n\u001b[0m\u001b[1;32m     34\u001b[0m \u001b[0mdf\u001b[0m\u001b[0;34m.\u001b[0m\u001b[0mto_csv\u001b[0m\u001b[0;34m(\u001b[0m\u001b[0;34m'_output/{0}_waves.csv'\u001b[0m\u001b[0;34m.\u001b[0m\u001b[0mformat\u001b[0m\u001b[0;34m(\u001b[0m\u001b[0mrun_name\u001b[0m\u001b[0;34m)\u001b[0m\u001b[0;34m)\u001b[0m\u001b[0;34m\u001b[0m\u001b[0;34m\u001b[0m\u001b[0m\n\u001b[1;32m     35\u001b[0m \u001b[0mnp\u001b[0m\u001b[0;34m.\u001b[0m\u001b[0msave\u001b[0m\u001b[0;34m(\u001b[0m\u001b[0;34m'_output/{0}_z.npy'\u001b[0m\u001b[0;34m.\u001b[0m\u001b[0mformat\u001b[0m\u001b[0;34m(\u001b[0m\u001b[0mrun_name\u001b[0m\u001b[0;34m)\u001b[0m\u001b[0;34m,\u001b[0m\u001b[0mzc\u001b[0m\u001b[0;34m)\u001b[0m\u001b[0;34m\u001b[0m\u001b[0;34m\u001b[0m\u001b[0m\n",
      "\u001b[0;31mAttributeError\u001b[0m: 'SimpleHydroMorphologicalModel' object has no attribute 'get_wave_dataframe'"
     ]
    }
   ],
   "source": [
    "\n",
    "\n",
    "run_name = 'dune_5_simple_q_{0}_h_{1}_D50_{2}'.format('20cm','237mm','1mm')\n",
    "\n",
    "model = sdmodels.SimpleHydroMorphologicalModel()\n",
    "\n",
    "#--------------------------------\n",
    "# Set up the geometry\n",
    "#--------------------------------\n",
    "xc = x0.copy()\n",
    "zc = z0.copy()\n",
    "nx = len(xc)\n",
    "\n",
    "model.setup_domain(x0, z0, dx)\n",
    "model.setup_bed_properties( D50, repose_angle=repose_angle, rho_particle = rho_particle, nP = nP)\n",
    "model.flow_boundary_conditions(q20cm, sOut20)\n",
    "\n",
    "#--------------------------------\n",
    "# Set up the Morphodynamic Proerties\n",
    "#--------------------------------\n",
    "#morph_model = sdmodels.EulerWenoModel()\n",
    "morph_model = sdmodels.TVD2ndWenoModel()\n",
    "model.setup_morpho_model( morph_model, \n",
    "                           useAvalanche = True, \n",
    "                           useSmoother = False, \n",
    "                           a=0.001, \n",
    "                           b = 3.0)\n",
    "\n",
    "\n",
    "zc, qbedload = model.run(simTime, dt, extractionTime, None)\n",
    "\n",
    "\n",
    "df = model.get_wave_dataframe()\n",
    "df.to_csv('_output/{0}_waves.csv'.format(run_name))\n",
    "np.save('_output/{0}_z.npy'.format(run_name),zc)\n",
    "verts = model._verts\n",
    "np.save('_output/{0}_verts.npy'.format(run_name, verts),verts)\n",
    "\n",
    "\n",
    "fig = plt.figure(figsize=(14, 6))\n",
    "plt.plot(xc,zc)\n",
    "plt.plot(x0,z0)\n",
    "plt.plot(xc, sOut20)\n",
    "\n",
    "plt.xlabel('x (m)')\n",
    "plt.ylabel('z (m)')"
   ]
  },
  {
   "cell_type": "markdown",
   "metadata": {},
   "source": [
    "## 32 cm Flow Case "
   ]
  },
  {
   "cell_type": "code",
   "execution_count": null,
   "metadata": {},
   "outputs": [],
   "source": [
    "run_name = 'dune_5_simple_q_{0}_h_{1}_D50_{2}'.format('32m','357mm','1mm')\n",
    "\n",
    "model = sdmodels.ShallowHydroMorphologicalModel()\n",
    "\n",
    "#--------------------------------\n",
    "# Set up the geometry\n",
    "#--------------------------------\n",
    "xc = x0.copy()\n",
    "zc = z0.copy()\n",
    "nx = len(xc)\n",
    "\n",
    "model.setup_domain(x0, z0, dx)\n",
    "model.setup_bed_properties( D50, repose_angle=repose_angle, rho_particle = rho_particle, nP = nP)\n",
    "model.flow_boundary_conditions(q32cm, sOut32)\n",
    "\n",
    "\n",
    "\n",
    "#--------------------------------\n",
    "# Set up the Morphodynamic Proerties\n",
    "#--------------------------------\n",
    "#morph_model = sdmodels.EulerWenoModel()\n",
    "morph_model = sdmodels.TVD2ndWenoModel()\n",
    "model.setup_morpho_model( morph_model, \n",
    "                           useAvalanche = True, \n",
    "                           useSmoother = False, \n",
    "                           a=0.001, \n",
    "                           b = 3.0)\n",
    "\n",
    "\n",
    "zc,  qbedload = model.run(simTime, dt, extractionTime, None)\n",
    "\n",
    "\n",
    "df = model.get_wave_dataframe()\n",
    "df.to_csv('_output/{0}_waves.csv'.format(run_name))\n",
    "np.save('_output/{0}_z.npy'.format(run_name),zc)\n",
    "verts = model._verts\n",
    "np.save('_output/{0}_verts.npy'.format(run_name, verts),verts)\n",
    "\n",
    "\n",
    "fig = plt.figure(figsize=(14, 6))\n",
    "plt.plot(xc,zc)\n",
    "plt.plot(x0,z0)\n",
    "plt.plot(xc, surf)\n",
    "\n",
    "plt.xlabel('x (m)')\n",
    "plt.ylabel('z (m)')"
   ]
  },
  {
   "cell_type": "code",
   "execution_count": null,
   "metadata": {},
   "outputs": [],
   "source": [
    "df"
   ]
  },
  {
   "cell_type": "code",
   "execution_count": null,
   "metadata": {},
   "outputs": [],
   "source": []
  }
 ],
 "metadata": {
  "kernelspec": {
   "display_name": "Python 3",
   "language": "python",
   "name": "python3"
  },
  "language_info": {
   "codemirror_mode": {
    "name": "ipython",
    "version": 3
   },
   "file_extension": ".py",
   "mimetype": "text/x-python",
   "name": "python",
   "nbconvert_exporter": "python",
   "pygments_lexer": "ipython3",
   "version": "3.6.8"
  }
 },
 "nbformat": 4,
 "nbformat_minor": 2
}
