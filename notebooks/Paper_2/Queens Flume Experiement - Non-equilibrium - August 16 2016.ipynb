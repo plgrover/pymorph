{
 "cells": [
  {
   "cell_type": "markdown",
   "metadata": {},
   "source": [
    "# Simple Tests on the Queen's Flume Experiments\n",
    "\n",
    "## Non-equilibrium Model\n",
    "\n",
    "This page is updated from the 'http://127.0.0.1:8888/notebooks/Queens%20Flume%20Experiement%20-%20August%2015%202016.ipynb' "
   ]
  },
  {
   "cell_type": "code",
   "execution_count": 1,
   "metadata": {
    "collapsed": false
   },
   "outputs": [],
   "source": [
    "import matplotlib\n",
    "import matplotlib.pyplot as plt\n",
    "import cython\n",
    "%load_ext cython\n",
    "%matplotlib inline\n",
    "%load_ext autoreload\n",
    "%autoreload 2\n",
    "\n"
   ]
  },
  {
   "cell_type": "code",
   "execution_count": 6,
   "metadata": {
    "collapsed": false
   },
   "outputs": [
    {
     "name": "stdout",
     "output_type": "stream",
     "text": [
      "Z: 87\n",
      "Finished reinterpolating the grid nx=174\n",
      "Grid dx = 0.015\n",
      "Grid nx = 174\n",
      "(0, 2.3063866764614107e-07)\n",
      "(1, 1.2580290962516791e-07)\n",
      "(2, 6.8619768886455602e-08)\n",
      "(3, 3.7428964847151465e-08)\n",
      "(4, 2.0415799007850683e-08)\n"
     ]
    },
    {
     "ename": "ValueError",
     "evalue": "f(a) and f(b) must have different signs",
     "output_type": "error",
     "traceback": [
      "\u001b[1;31m---------------------------------------------------------------------------\u001b[0m",
      "\u001b[1;31mValueError\u001b[0m                                Traceback (most recent call last)",
      "\u001b[1;32m<ipython-input-6-1fd1b89fc409>\u001b[0m in \u001b[0;36m<module>\u001b[1;34m()\u001b[0m\n\u001b[1;32m----> 1\u001b[1;33m \u001b[0mget_ipython\u001b[0m\u001b[1;33m(\u001b[0m\u001b[1;33m)\u001b[0m\u001b[1;33m.\u001b[0m\u001b[0mrun_cell_magic\u001b[0m\u001b[1;33m(\u001b[0m\u001b[1;34mu'cython'\u001b[0m\u001b[1;33m,\u001b[0m \u001b[1;34mu''\u001b[0m\u001b[1;33m,\u001b[0m \u001b[1;34mu'import sys\\nfrom clawpack import pyclaw\\nfrom clawpack import riemann\\nimport numpy as np\\nfrom scipy.interpolate import interp1d\\nfrom copy import copy, deepcopy\\n\\nimport collections\\n\\nsys.path.append(\"/home/pgrover/Dropbox/PhD/Morphodynamic_Model/pymorph\")\\nfrom schemes.weno import get_left_flux,get_right_flux\\nfrom schemes.weno import get_stencil\\nimport sediment_transport.sed_trans as sedtrans\\nfrom models.shallow_water_solver import shallow_solver\\nfrom schemes.avalanche_scheme import *\\n\\n#filepath = \\'/home/pgrover/working/working/Paper_4_Turbulence_Modelling/FlumeExperiment/geometries/flume_profile_smoothed.txt\\'\\nfilepath = \\'/home/pgrover/Paper_4_Turbulence_Modelling/FlumeExperiment/geometries/flume_profile_smoothed_v002.txt\\'\\n\\ndef is_number(s):\\n    try:\\n        float(s)\\n        return True\\n    except ValueError:\\n        return False\\n    \\nretval = collections.OrderedDict()\\n\\n\\nz = []\\nwith open(filepath) as f:\\n    for line in f:\\n        values = line.split()\\n        if is_number(values[0])==False:\\n            if float(values[1]).is_integer():\\n                retval[values[0]]=int(values[1])\\n            else:\\n                retval[values[0]]=float(values[1])\\n        else:\\n            z.append(float(values[0]))\\nz = np.array(z)\\nprint(\\'Z: {0}\\'.format(len(z)))\\nxmax = float(retval[\\'nrows\\']) * retval[\\'cellsize\\']\\nnx = retval[\\'nrows\\']\\ndx = retval[\\'cellsize\\']\\n\\n#--------------------------------\\n# Increase the resolution on the grid\\n#--------------------------------\\nresolution = 2\\nx = np.linspace(0, nx*dx, num=len(z))\\nf = interp1d(x, z)\\nxnew = np.linspace(0, nx*dx, num=len(z)*resolution)\\nznew = f(xnew)\\nnx = len(xnew)\\n\\nprint(\\'Finished reinterpolating the grid nx={0}\\'.format(len(xnew)))\\n\\n#--------------------------------\\n# Set up the constants\\n#--------------------------------\\na=0.001\\nb=3.0\\nQ=10.0\\nnP=0.4\\nLb = 1.1    # Adaptation length \\ns= 0.2      # Surface water elevation\\nbeta = 0.01\\n\\n# Sediment properties\\nD50 = 0.001     # Particle Diameter\\nrho_particule = 2650\\n\\n#--------------------------------\\n# Set up the domain, BCs and ICs\\n#--------------------------------\\nimport logging\\nlogger = logging.getLogger(\\'pyclaw\\')\\nlogger.setLevel(logging.CRITICAL)\\n\\nx = pyclaw.Dimension(0.0,xmax,len(xnew),name=\\'x\\')\\ndomain = pyclaw.Domain(x)\\nstate = pyclaw.State(domain,1)\\nxc = state.grid.x.centers\\ndx = state.grid.delta[0]\\nprint(\\'Grid dx = {0}\\'.format(dx))\\nprint(\\'Grid nx = {0}\\'.format(len(xc)))\\n\\nzc = znew.copy()\\nz_hydro = znew.copy()\\n\\n # Gravitational constant\\nstate.problem_data[\\'grav\\'] = 9.8\\nstate.problem_data[\\'sea_level\\'] = 0.0\\n\\n\\n# Set up the inital state of the flow\\nshw_slvr = shallow_solver(domain)\\nu, surf,h = shw_slvr.run(zc,s)\\n\\n\\nif np.isnan(u).any():\\n    # Get the flow\\n    print u\\n    raise ValueError(\\'Failed to calculate the flow\\')\\n\\n\\n#--------------------------------\\n# Initialize the sed transport \\n#--------------------------------    \\n# Eq 57\\nqbedload = np.zeros(nx)\\nqbedstar = np.zeros(nx)\\nroe_speed = np.zeros(nx)\\nslope = np.gradient(zc)\\nfor i in range(0,nx): #i=2        \\n    zlocal = get_stencil(zc,i-2,i+2)\\n    # equilibrium bed load\\n    qbedstar[i] = sedtrans.get_unit_bed_load_slope(h[i],u[i],D50,slope[i], rho_particule, angleReposeDegrees = 30.0, type=\\'mpm\\')\\nflux = np.zeros(nx)\\n\\n#--------------------------------\\n#  Setup the model run parameters\\n#--------------------------------\\nsimTime = 60. # Runtime in seconds\\ndt = 0.5 # Time step size (s)\\nnt = int(simTime/dt)  # Number of time steps\\n\\n\\n#--------------------------------\\n# Set up the model reporting parameters\\n#--------------------------------\\nz0 = zc.copy() \\nz600 = zc.copy() \\nz2000 = zc.copy()\\nverts = []\\nextractionInterval = 100.\\ntsteps=[]\\niterations = 0\\ncntr=0\\n#--------------------------------\\n#  Run the model\\n#--------------------------------\\nfor n in range(1,nt):  \\n    zn = zc.copy() \\n    for i in range(0,nx): #i=2\\n        zloc = get_stencil(zn,i-2,i+4)        \\n        # Since k=3\\n        # stencil is i-2 to i+2 \\n        qloc = get_stencil(qbedload,i-2,i+4)\\n        if len(qloc)<>6:\\n            raise ValueError(\\'Stencil is incorrect\\')\\n \\n        # Determine the Upwind flux\\n        # The 0.5 comes from the c+abs(c) which is 2 if the wave speed is +ive\\n        # this is the evaluation of the left and right based fluxes. Eq. 18 and 19        \\n        if (zloc[3]-zloc[2]) == 0.0:\\n            roe_speed[i]=np.sign( (qloc[3]-qloc[2]) )\\n        else:\\n            roe_speed[i]=np.sign( (qloc[3]-qloc[2])/ (zloc[3]-zloc[2]) )\\n        \\n        if roe_speed[i] >= 0.0:\\n            flux[i] = get_left_flux(qloc)\\n        else:\\n            flux[i] = get_right_flux(qloc)\\n        \\n    # Need the sign of the phase speed\\n    # Need to check this out\\n    for i in range(0,nx): #i=2       \\n        floc = get_stencil(flux,i-1,i+1)\\n        zc[i] = zn[i]-(1./(1.-nP))*dt/dx*(floc[1]-floc[0])\\n    \\n    bed_max_delta = np.max(np.abs(zn - zc))\\n    \\n    # Apply the avalanche model\\n    zc,iterations1 = avalanche_model(dx,xc,zc)\\n    \\n    #zc = z_updated.copy()\\n    \\n    # Re-run the solver and updated the sediment transport\\n    # Check if the avalanche model was updated OR the bed changed greater than the threshold\\n    #if iterations > 10 or bed_max_delta > 0.00005:\\n    iterations+=1\\n    if iterations > 5:\\n        u, surf,h = shw_slvr.run(zc,s)\\n        iterations = 0\\n        #print(\\'Updated\\')\\n        # Remove the old method \\n        #qbedload = a*u**b\\n        slope = np.gradient(zc)\\n\\n        for i in range(0,nx): #i=2        \\n            zlocal = get_stencil(zc,i-2,i+2)\\n            # equilibrium bed load\\n            qbedstar[i] = sedtrans.get_unit_bed_load_slope(h[i],u[i],D50,slope[i], \\n                                                           rho_particule, angleReposeDegrees = 30.0, type=\\'mpm\\')\\n\\n    for iter in range(5):\\n        qbedloadnew = np.zeros(nx)\\n        dtLocal = 0.5\\n        for i in range(0,nx):\\n            qbedlocal = get_stencil(qbedload,i-2,i+2)            \\n            qbedloadnew[i] = qbedload[i] - 0.5 * (dtLocal/dx)*(qbedlocal[3]-qbedlocal[1]) + (dtLocal/Lb)*(qbedstar[i]-qbedlocal[2])\\n        resid = np.mean(qbedloadnew-qbedload)\\n        print(iter,resid)\\n        qbedload = deepcopy(qbedloadnew)            \\n        \\n        \\n        #qbedload[i] = sedtrans.get_unit_bed_load2(h[i],u[i],D50,rho_particule, type=\\'mpm\\')\\n    \\n    if (n*dt / extractionInterval) == math.floor(n*dt / extractionInterval):\\n        verts.append(list(zip(xc.copy(),zc.copy())))\\n        tsteps.append(n*dt)        \\n        #np.save(\\'flume_dunes.txt\\', verts)\\n    \\n    cntr += 1\\n    if cntr == 100:\\n        cntr = 0\\n        print(\\'Time step {0} of {1} - bed_max_delta {2}\\'.format(n,nt,bed_max_delta))    \\n        \\nprint(\\'Done\\')'\u001b[0m\u001b[1;33m)\u001b[0m\u001b[1;33m\u001b[0m\u001b[0m\n\u001b[0m",
      "\u001b[1;32m/usr/local/lib/python2.7/dist-packages/IPython/core/interactiveshell.pyc\u001b[0m in \u001b[0;36mrun_cell_magic\u001b[1;34m(self, magic_name, line, cell)\u001b[0m\n\u001b[0;32m   2291\u001b[0m             \u001b[0mmagic_arg_s\u001b[0m \u001b[1;33m=\u001b[0m \u001b[0mself\u001b[0m\u001b[1;33m.\u001b[0m\u001b[0mvar_expand\u001b[0m\u001b[1;33m(\u001b[0m\u001b[0mline\u001b[0m\u001b[1;33m,\u001b[0m \u001b[0mstack_depth\u001b[0m\u001b[1;33m)\u001b[0m\u001b[1;33m\u001b[0m\u001b[0m\n\u001b[0;32m   2292\u001b[0m             \u001b[1;32mwith\u001b[0m \u001b[0mself\u001b[0m\u001b[1;33m.\u001b[0m\u001b[0mbuiltin_trap\u001b[0m\u001b[1;33m:\u001b[0m\u001b[1;33m\u001b[0m\u001b[0m\n\u001b[1;32m-> 2293\u001b[1;33m                 \u001b[0mresult\u001b[0m \u001b[1;33m=\u001b[0m \u001b[0mfn\u001b[0m\u001b[1;33m(\u001b[0m\u001b[0mmagic_arg_s\u001b[0m\u001b[1;33m,\u001b[0m \u001b[0mcell\u001b[0m\u001b[1;33m)\u001b[0m\u001b[1;33m\u001b[0m\u001b[0m\n\u001b[0m\u001b[0;32m   2294\u001b[0m             \u001b[1;32mreturn\u001b[0m \u001b[0mresult\u001b[0m\u001b[1;33m\u001b[0m\u001b[0m\n\u001b[0;32m   2295\u001b[0m \u001b[1;33m\u001b[0m\u001b[0m\n",
      "\u001b[1;32m/usr/local/lib/python2.7/dist-packages/Cython/Build/IpythonMagic.pyc\u001b[0m in \u001b[0;36mcython\u001b[1;34m(self, line, cell)\u001b[0m\n",
      "\u001b[1;32m/usr/local/lib/python2.7/dist-packages/IPython/core/magic.pyc\u001b[0m in \u001b[0;36m<lambda>\u001b[1;34m(f, *a, **k)\u001b[0m\n\u001b[0;32m    191\u001b[0m     \u001b[1;31m# but it's overkill for just that one bit of state.\u001b[0m\u001b[1;33m\u001b[0m\u001b[1;33m\u001b[0m\u001b[0m\n\u001b[0;32m    192\u001b[0m     \u001b[1;32mdef\u001b[0m \u001b[0mmagic_deco\u001b[0m\u001b[1;33m(\u001b[0m\u001b[0marg\u001b[0m\u001b[1;33m)\u001b[0m\u001b[1;33m:\u001b[0m\u001b[1;33m\u001b[0m\u001b[0m\n\u001b[1;32m--> 193\u001b[1;33m         \u001b[0mcall\u001b[0m \u001b[1;33m=\u001b[0m \u001b[1;32mlambda\u001b[0m \u001b[0mf\u001b[0m\u001b[1;33m,\u001b[0m \u001b[1;33m*\u001b[0m\u001b[0ma\u001b[0m\u001b[1;33m,\u001b[0m \u001b[1;33m**\u001b[0m\u001b[0mk\u001b[0m\u001b[1;33m:\u001b[0m \u001b[0mf\u001b[0m\u001b[1;33m(\u001b[0m\u001b[1;33m*\u001b[0m\u001b[0ma\u001b[0m\u001b[1;33m,\u001b[0m \u001b[1;33m**\u001b[0m\u001b[0mk\u001b[0m\u001b[1;33m)\u001b[0m\u001b[1;33m\u001b[0m\u001b[0m\n\u001b[0m\u001b[0;32m    194\u001b[0m \u001b[1;33m\u001b[0m\u001b[0m\n\u001b[0;32m    195\u001b[0m         \u001b[1;32mif\u001b[0m \u001b[0mcallable\u001b[0m\u001b[1;33m(\u001b[0m\u001b[0marg\u001b[0m\u001b[1;33m)\u001b[0m\u001b[1;33m:\u001b[0m\u001b[1;33m\u001b[0m\u001b[0m\n",
      "\u001b[1;32m/usr/local/lib/python2.7/dist-packages/Cython/Build/IpythonMagic.pyc\u001b[0m in \u001b[0;36mcython\u001b[1;34m(self, line, cell)\u001b[0m\n\u001b[0;32m    285\u001b[0m             \u001b[0mself\u001b[0m\u001b[1;33m.\u001b[0m\u001b[0m_code_cache\u001b[0m\u001b[1;33m[\u001b[0m\u001b[0mkey\u001b[0m\u001b[1;33m]\u001b[0m \u001b[1;33m=\u001b[0m \u001b[0mmodule_name\u001b[0m\u001b[1;33m\u001b[0m\u001b[0m\n\u001b[0;32m    286\u001b[0m \u001b[1;33m\u001b[0m\u001b[0m\n\u001b[1;32m--> 287\u001b[1;33m         \u001b[0mmodule\u001b[0m \u001b[1;33m=\u001b[0m \u001b[0mimp\u001b[0m\u001b[1;33m.\u001b[0m\u001b[0mload_dynamic\u001b[0m\u001b[1;33m(\u001b[0m\u001b[0mmodule_name\u001b[0m\u001b[1;33m,\u001b[0m \u001b[0mmodule_path\u001b[0m\u001b[1;33m)\u001b[0m\u001b[1;33m\u001b[0m\u001b[0m\n\u001b[0m\u001b[0;32m    288\u001b[0m         \u001b[0mself\u001b[0m\u001b[1;33m.\u001b[0m\u001b[0m_import_all\u001b[0m\u001b[1;33m(\u001b[0m\u001b[0mmodule\u001b[0m\u001b[1;33m)\u001b[0m\u001b[1;33m\u001b[0m\u001b[0m\n\u001b[0;32m    289\u001b[0m \u001b[1;33m\u001b[0m\u001b[0m\n",
      "\u001b[1;32m_cython_magic_2e047ca949e7a22fb75fdc602ee6bacf.pyx\u001b[0m in \u001b[0;36minit _cython_magic_2e047ca949e7a22fb75fdc602ee6bacf (/home/pgrover/.cache/ipython/cython/_cython_magic_2e047ca949e7a22fb75fdc602ee6bacf.c:5457)\u001b[1;34m()\u001b[0m\n",
      "\u001b[1;32m/home/pgrover/Dropbox/PhD/Morphodynamic_Model/pymorph/schemes/avalanche_scheme.pyc\u001b[0m in \u001b[0;36mavalanche_model\u001b[1;34m(dx, xc, z, max_iterations, threshold_angle, angle_of_repose, adjustment_angle)\u001b[0m\n\u001b[0;32m     79\u001b[0m \u001b[1;33m\u001b[0m\u001b[0m\n\u001b[0;32m     80\u001b[0m                     \u001b[1;32mif\u001b[0m \u001b[0mdel_area\u001b[0m \u001b[1;33m>\u001b[0m \u001b[1;36m0\u001b[0m\u001b[1;33m:\u001b[0m\u001b[1;33m\u001b[0m\u001b[0m\n\u001b[1;32m---> 81\u001b[1;33m                         \u001b[0mnew_z\u001b[0m \u001b[1;33m=\u001b[0m \u001b[0madjust_bed\u001b[0m\u001b[1;33m(\u001b[0m\u001b[0mdx\u001b[0m\u001b[1;33m,\u001b[0m\u001b[0mxloc_p1\u001b[0m\u001b[1;33m,\u001b[0m\u001b[0mzloc_p1\u001b[0m\u001b[1;33m,\u001b[0m\u001b[0mdel_area\u001b[0m\u001b[1;33m)\u001b[0m\u001b[1;33m\u001b[0m\u001b[0m\n\u001b[0m\u001b[0;32m     82\u001b[0m                         \u001b[1;32mif\u001b[0m \u001b[0mi\u001b[0m\u001b[1;33m+\u001b[0m\u001b[1;36m1\u001b[0m \u001b[1;33m==\u001b[0m \u001b[0mlen\u001b[0m\u001b[1;33m(\u001b[0m\u001b[0mz_current\u001b[0m\u001b[1;33m)\u001b[0m\u001b[1;33m:\u001b[0m\u001b[1;33m\u001b[0m\u001b[0m\n\u001b[0;32m     83\u001b[0m                             \u001b[0mz_new\u001b[0m\u001b[1;33m[\u001b[0m\u001b[1;36m0\u001b[0m\u001b[1;33m]\u001b[0m \u001b[1;33m=\u001b[0m \u001b[0mnew_z\u001b[0m\u001b[1;33m\u001b[0m\u001b[0m\n",
      "\u001b[1;32m/home/pgrover/Dropbox/PhD/Morphodynamic_Model/pymorph/schemes/avalanche_scheme.pyc\u001b[0m in \u001b[0;36madjust_bed\u001b[1;34m(dx, xloc, zloc, del_area)\u001b[0m\n\u001b[0;32m    113\u001b[0m     \u001b[0mtarget_area\u001b[0m \u001b[1;33m=\u001b[0m \u001b[0mcurrent_area\u001b[0m \u001b[1;33m+\u001b[0m \u001b[0mdel_area\u001b[0m\u001b[1;33m\u001b[0m\u001b[0m\n\u001b[0;32m    114\u001b[0m \u001b[1;33m\u001b[0m\u001b[0m\n\u001b[1;32m--> 115\u001b[1;33m     \u001b[0mz_new\u001b[0m \u001b[1;33m=\u001b[0m \u001b[0mbisect\u001b[0m\u001b[1;33m(\u001b[0m\u001b[0mf\u001b[0m\u001b[1;33m,\u001b[0m\u001b[1;33m-\u001b[0m\u001b[1;36m1.0\u001b[0m\u001b[1;33m,\u001b[0m\u001b[1;36m100.\u001b[0m\u001b[1;33m,\u001b[0m\u001b[0margs\u001b[0m\u001b[1;33m=\u001b[0m\u001b[1;33m(\u001b[0m\u001b[0mdx\u001b[0m\u001b[1;33m,\u001b[0m\u001b[0mzloc\u001b[0m\u001b[1;33m,\u001b[0m\u001b[0mtarget_area\u001b[0m\u001b[1;33m)\u001b[0m\u001b[1;33m)\u001b[0m\u001b[1;33m\u001b[0m\u001b[0m\n\u001b[0m\u001b[0;32m    116\u001b[0m \u001b[1;33m\u001b[0m\u001b[0m\n\u001b[0;32m    117\u001b[0m     \u001b[1;32mreturn\u001b[0m \u001b[0mz_new\u001b[0m\u001b[1;33m\u001b[0m\u001b[0m\n",
      "\u001b[1;32m/usr/local/lib/python2.7/dist-packages/scipy/optimize/zeros.pyc\u001b[0m in \u001b[0;36mbisect\u001b[1;34m(f, a, b, args, xtol, rtol, maxiter, full_output, disp)\u001b[0m\n\u001b[0;32m    237\u001b[0m     \u001b[1;32mif\u001b[0m \u001b[0mrtol\u001b[0m \u001b[1;33m<\u001b[0m \u001b[0m_rtol\u001b[0m\u001b[1;33m:\u001b[0m\u001b[1;33m\u001b[0m\u001b[0m\n\u001b[0;32m    238\u001b[0m         \u001b[1;32mraise\u001b[0m \u001b[0mValueError\u001b[0m\u001b[1;33m(\u001b[0m\u001b[1;34m\"rtol too small (%g < %g)\"\u001b[0m \u001b[1;33m%\u001b[0m \u001b[1;33m(\u001b[0m\u001b[0mrtol\u001b[0m\u001b[1;33m,\u001b[0m \u001b[0m_rtol\u001b[0m\u001b[1;33m)\u001b[0m\u001b[1;33m)\u001b[0m\u001b[1;33m\u001b[0m\u001b[0m\n\u001b[1;32m--> 239\u001b[1;33m     \u001b[0mr\u001b[0m \u001b[1;33m=\u001b[0m \u001b[0m_zeros\u001b[0m\u001b[1;33m.\u001b[0m\u001b[0m_bisect\u001b[0m\u001b[1;33m(\u001b[0m\u001b[0mf\u001b[0m\u001b[1;33m,\u001b[0m\u001b[0ma\u001b[0m\u001b[1;33m,\u001b[0m\u001b[0mb\u001b[0m\u001b[1;33m,\u001b[0m\u001b[0mxtol\u001b[0m\u001b[1;33m,\u001b[0m\u001b[0mrtol\u001b[0m\u001b[1;33m,\u001b[0m\u001b[0mmaxiter\u001b[0m\u001b[1;33m,\u001b[0m\u001b[0margs\u001b[0m\u001b[1;33m,\u001b[0m\u001b[0mfull_output\u001b[0m\u001b[1;33m,\u001b[0m\u001b[0mdisp\u001b[0m\u001b[1;33m)\u001b[0m\u001b[1;33m\u001b[0m\u001b[0m\n\u001b[0m\u001b[0;32m    240\u001b[0m     \u001b[1;32mreturn\u001b[0m \u001b[0mresults_c\u001b[0m\u001b[1;33m(\u001b[0m\u001b[0mfull_output\u001b[0m\u001b[1;33m,\u001b[0m \u001b[0mr\u001b[0m\u001b[1;33m)\u001b[0m\u001b[1;33m\u001b[0m\u001b[0m\n\u001b[0;32m    241\u001b[0m \u001b[1;33m\u001b[0m\u001b[0m\n",
      "\u001b[1;31mValueError\u001b[0m: f(a) and f(b) must have different signs"
     ]
    }
   ],
   "source": [
    "%%cython\n",
    "import sys\n",
    "from clawpack import pyclaw\n",
    "from clawpack import riemann\n",
    "import numpy as np\n",
    "from scipy.interpolate import interp1d\n",
    "from copy import copy, deepcopy\n",
    "\n",
    "import collections\n",
    "\n",
    "sys.path.append(\"/home/pgrover/Dropbox/PhD/Morphodynamic_Model/pymorph\")\n",
    "from schemes.weno import get_left_flux,get_right_flux\n",
    "from schemes.weno import get_stencil\n",
    "import sediment_transport.sed_trans as sedtrans\n",
    "from models.shallow_water_solver import shallow_solver\n",
    "from schemes.avalanche_scheme import *\n",
    "\n",
    "#filepath = '/home/pgrover/working/working/Paper_4_Turbulence_Modelling/FlumeExperiment/geometries/flume_profile_smoothed.txt'\n",
    "filepath = '/home/pgrover/Paper_4_Turbulence_Modelling/FlumeExperiment/geometries/flume_profile_smoothed_v002.txt'\n",
    "\n",
    "def is_number(s):\n",
    "    try:\n",
    "        float(s)\n",
    "        return True\n",
    "    except ValueError:\n",
    "        return False\n",
    "    \n",
    "retval = collections.OrderedDict()\n",
    "\n",
    "\n",
    "z = []\n",
    "with open(filepath) as f:\n",
    "    for line in f:\n",
    "        values = line.split()\n",
    "        if is_number(values[0])==False:\n",
    "            if float(values[1]).is_integer():\n",
    "                retval[values[0]]=int(values[1])\n",
    "            else:\n",
    "                retval[values[0]]=float(values[1])\n",
    "        else:\n",
    "            z.append(float(values[0]))\n",
    "z = np.array(z)\n",
    "print('Z: {0}'.format(len(z)))\n",
    "xmax = float(retval['nrows']) * retval['cellsize']\n",
    "nx = retval['nrows']\n",
    "dx = retval['cellsize']\n",
    "\n",
    "#--------------------------------\n",
    "# Increase the resolution on the grid\n",
    "#--------------------------------\n",
    "resolution = 2\n",
    "x = np.linspace(0, nx*dx, num=len(z))\n",
    "f = interp1d(x, z)\n",
    "xnew = np.linspace(0, nx*dx, num=len(z)*resolution)\n",
    "znew = f(xnew)\n",
    "nx = len(xnew)\n",
    "\n",
    "print('Finished reinterpolating the grid nx={0}'.format(len(xnew)))\n",
    "\n",
    "#--------------------------------\n",
    "# Set up the constants\n",
    "#--------------------------------\n",
    "a=0.001\n",
    "b=3.0\n",
    "Q=10.0\n",
    "nP=0.4\n",
    "Lb = 1.1    # Adaptation length \n",
    "s= 0.2      # Surface water elevation\n",
    "beta = 0.01\n",
    "\n",
    "# Sediment properties\n",
    "D50 = 0.001     # Particle Diameter\n",
    "rho_particule = 2650\n",
    "\n",
    "#--------------------------------\n",
    "# Set up the domain, BCs and ICs\n",
    "#--------------------------------\n",
    "import logging\n",
    "logger = logging.getLogger('pyclaw')\n",
    "logger.setLevel(logging.CRITICAL)\n",
    "\n",
    "x = pyclaw.Dimension(0.0,xmax,len(xnew),name='x')\n",
    "domain = pyclaw.Domain(x)\n",
    "state = pyclaw.State(domain,1)\n",
    "xc = state.grid.x.centers\n",
    "dx = state.grid.delta[0]\n",
    "print('Grid dx = {0}'.format(dx))\n",
    "print('Grid nx = {0}'.format(len(xc)))\n",
    "\n",
    "zc = znew.copy()\n",
    "z_hydro = znew.copy()\n",
    "\n",
    " # Gravitational constant\n",
    "state.problem_data['grav'] = 9.8\n",
    "state.problem_data['sea_level'] = 0.0\n",
    "\n",
    "\n",
    "# Set up the inital state of the flow\n",
    "shw_slvr = shallow_solver(domain)\n",
    "u, surf,h = shw_slvr.run(zc,s)\n",
    "\n",
    "\n",
    "if np.isnan(u).any():\n",
    "    # Get the flow\n",
    "    print u\n",
    "    raise ValueError('Failed to calculate the flow')\n",
    "\n",
    "\n",
    "#--------------------------------\n",
    "# Initialize the sed transport \n",
    "#--------------------------------    \n",
    "# Eq 57\n",
    "qbedload = np.zeros(nx)\n",
    "qbedstar = np.zeros(nx)\n",
    "roe_speed = np.zeros(nx)\n",
    "slope = np.gradient(zc)\n",
    "for i in range(0,nx): #i=2        \n",
    "    zlocal = get_stencil(zc,i-2,i+2)\n",
    "    # equilibrium bed load\n",
    "    qbedstar[i] = sedtrans.get_unit_bed_load_slope(h[i],u[i],D50,slope[i], rho_particule, angleReposeDegrees = 30.0, type='mpm')\n",
    "flux = np.zeros(nx)\n",
    "\n",
    "#--------------------------------\n",
    "#  Setup the model run parameters\n",
    "#--------------------------------\n",
    "simTime = 60. # Runtime in seconds\n",
    "dt = 0.5 # Time step size (s)\n",
    "nt = int(simTime/dt)  # Number of time steps\n",
    "\n",
    "\n",
    "#--------------------------------\n",
    "# Set up the model reporting parameters\n",
    "#--------------------------------\n",
    "z0 = zc.copy() \n",
    "z600 = zc.copy() \n",
    "z2000 = zc.copy()\n",
    "verts = []\n",
    "extractionInterval = 100.\n",
    "tsteps=[]\n",
    "iterations = 0\n",
    "cntr=0\n",
    "#--------------------------------\n",
    "#  Run the model\n",
    "#--------------------------------\n",
    "for n in range(1,nt):  \n",
    "    zn = zc.copy() \n",
    "    for i in range(0,nx): #i=2\n",
    "        zloc = get_stencil(zn,i-2,i+4)        \n",
    "        # Since k=3\n",
    "        # stencil is i-2 to i+2 \n",
    "        qloc = get_stencil(qbedload,i-2,i+4)\n",
    "        if len(qloc)<>6:\n",
    "            raise ValueError('Stencil is incorrect')\n",
    " \n",
    "        # Determine the Upwind flux\n",
    "        # The 0.5 comes from the c+abs(c) which is 2 if the wave speed is +ive\n",
    "        # this is the evaluation of the left and right based fluxes. Eq. 18 and 19        \n",
    "        if (zloc[3]-zloc[2]) == 0.0:\n",
    "            roe_speed[i]=np.sign( (qloc[3]-qloc[2]) )\n",
    "        else:\n",
    "            roe_speed[i]=np.sign( (qloc[3]-qloc[2])/ (zloc[3]-zloc[2]) )\n",
    "        \n",
    "        if roe_speed[i] >= 0.0:\n",
    "            flux[i] = get_left_flux(qloc)\n",
    "        else:\n",
    "            flux[i] = get_right_flux(qloc)\n",
    "        \n",
    "    # Need the sign of the phase speed\n",
    "    # Need to check this out\n",
    "    for i in range(0,nx): #i=2       \n",
    "        floc = get_stencil(flux,i-1,i+1)\n",
    "        zc[i] = zn[i]-(1./(1.-nP))*dt/dx*(floc[1]-floc[0])\n",
    "    \n",
    "    bed_max_delta = np.max(np.abs(zn - zc))\n",
    "    \n",
    "    # Apply the avalanche model\n",
    "    zc,iterations1 = avalanche_model(dx,xc,zc)\n",
    "    \n",
    "    #zc = z_updated.copy()\n",
    "    \n",
    "    # Re-run the solver and updated the sediment transport\n",
    "    # Check if the avalanche model was updated OR the bed changed greater than the threshold\n",
    "    #if iterations > 10 or bed_max_delta > 0.00005:\n",
    "    iterations+=1\n",
    "    if iterations > 5:\n",
    "        u, surf,h = shw_slvr.run(zc,s)\n",
    "        iterations = 0\n",
    "        #print('Updated')\n",
    "        # Remove the old method \n",
    "        #qbedload = a*u**b\n",
    "        slope = np.gradient(zc)\n",
    "\n",
    "        for i in range(0,nx): #i=2        \n",
    "            zlocal = get_stencil(zc,i-2,i+2)\n",
    "            # equilibrium bed load\n",
    "            qbedstar[i] = sedtrans.get_unit_bed_load_slope(h[i],u[i],D50,slope[i], \n",
    "                                                           rho_particule, angleReposeDegrees = 30.0, type='mpm')\n",
    "\n",
    "    for iter in range(5):\n",
    "        qbedloadnew = np.zeros(nx)\n",
    "        dtLocal = 0.5\n",
    "        for i in range(0,nx):\n",
    "            qbedlocal = get_stencil(qbedload,i-2,i+2)            \n",
    "            qbedloadnew[i] = qbedload[i] - 0.5 * (dtLocal/dx)*(qbedlocal[3]-qbedlocal[1]) + (dtLocal/Lb)*(qbedstar[i]-qbedlocal[2])\n",
    "        resid = np.mean(qbedloadnew-qbedload)\n",
    "        print(iter,resid)\n",
    "        qbedload = deepcopy(qbedloadnew)            \n",
    "        \n",
    "        \n",
    "        #qbedload[i] = sedtrans.get_unit_bed_load2(h[i],u[i],D50,rho_particule, type='mpm')\n",
    "    \n",
    "    if (n*dt / extractionInterval) == math.floor(n*dt / extractionInterval):\n",
    "        verts.append(list(zip(xc.copy(),zc.copy())))\n",
    "        tsteps.append(n*dt)        \n",
    "        #np.save('flume_dunes.txt', verts)\n",
    "    \n",
    "    cntr += 1\n",
    "    if cntr == 100:\n",
    "        cntr = 0\n",
    "        print('Time step {0} of {1} - bed_max_delta {2}'.format(n,nt,bed_max_delta))    \n",
    "        \n",
    "print('Done')"
   ]
  },
  {
   "cell_type": "code",
   "execution_count": null,
   "metadata": {
    "collapsed": false
   },
   "outputs": [],
   "source": [
    "fig = plt.figure(figsize=(12, 4))\n",
    "plt.plot(xc,surf)\n",
    "plt.plot(xc,znew,'g.')\n",
    "plt.plot(xc,zc,'r')"
   ]
  },
  {
   "cell_type": "code",
   "execution_count": null,
   "metadata": {
    "collapsed": false
   },
   "outputs": [],
   "source": [
    "plt.plot(xc,u)\n",
    "#plt.plot(xc,qbedload*1000000.)"
   ]
  },
  {
   "cell_type": "code",
   "execution_count": null,
   "metadata": {
    "collapsed": false
   },
   "outputs": [],
   "source": [
    "qb=np.zeros(nx)\n",
    "for i in range(0,nx): #i=2        \n",
    "    zlocal = get_stencil(zc,i-2,i+2)\n",
    "    #qbedload[i] = sedtrans.get_unit_bed_load_slope(h[i],u[i],D50,slope, rho_particule, angleReposeDegrees = 30.0, type='mpm')\n",
    "    qb[i] = sedtrans.get_unit_bed_load2(h[i],u[i],D50,rho_particule, type='mpm')\n",
    "\n",
    "plt.plot(xc,qbedload*100000.,'b--')\n",
    "plt.plot(xc,qb*100000.,'k')\n",
    "plt.plot(xc,zc,'r')\n",
    "plt.plot(xc,u)"
   ]
  },
  {
   "cell_type": "code",
   "execution_count": null,
   "metadata": {
    "collapsed": false
   },
   "outputs": [],
   "source": [
    "qb_noslope=np.zeros(nx)\n",
    "qb_slope = np.zeros(nx)\n",
    "for i in range(0,nx): #i=2        \n",
    "    zlocal = get_stencil(zn,i-2,i+2)\n",
    "    #slope = 0.0#(zlocal[3]-zlocal[1]) / dx\n",
    "    qb_slope[i] = sedtrans.get_unit_bed_load_slope(h[i],u[i],D50,slope[i], rho_particule, angleReposeDegrees = 30.0, type='mpm')\n",
    "    qb_noslope[i] = sedtrans.get_unit_bed_load2(h[i],u[i],D50,rho_particule, type='mpm')"
   ]
  },
  {
   "cell_type": "code",
   "execution_count": null,
   "metadata": {
    "collapsed": false
   },
   "outputs": [],
   "source": [
    "print(len(xc),len(qb))"
   ]
  },
  {
   "cell_type": "code",
   "execution_count": null,
   "metadata": {
    "collapsed": true
   },
   "outputs": [],
   "source": [
    "gradQbed_slope= np.gradient(qb_slope)\n",
    "gradqbed_noslope = np.gradient(qb_noslope)"
   ]
  },
  {
   "cell_type": "code",
   "execution_count": null,
   "metadata": {
    "collapsed": false
   },
   "outputs": [],
   "source": [
    "fig = plt.figure(figsize=(8, 4))\n",
    "plt.plot(xc,gradQbed_slope, label='With slope adjustment')\n",
    "plt.plot(xc,gradqbed_noslope, label='No slope adjustment')\n",
    "plt.plot(xc,zc/200000., label='bed')\n",
    "plt.legend(loc=4)\n",
    "plt.ylabel('Grad Bedload kg/s')\n",
    "#plt.plot(xc,slope/10000)"
   ]
  },
  {
   "cell_type": "code",
   "execution_count": null,
   "metadata": {
    "collapsed": false
   },
   "outputs": [],
   "source": [
    "fig = plt.figure(figsize=(8, 4))\n",
    "plt.plot(xc,qb_slope, label='With slope adjustment')\n",
    "plt.plot(xc,qb_noslope, label='No slope adjustment')\n",
    "plt.plot(xc,zc/100000., label='bed')\n",
    "plt.legend(loc=1)\n",
    "plt.ylabel('Bedload kg/s')"
   ]
  },
  {
   "cell_type": "code",
   "execution_count": null,
   "metadata": {
    "collapsed": false
   },
   "outputs": [],
   "source": [
    "slopZ0 = np.gradient(znew)\n",
    "plt.plot(xc,slopZ0)\n",
    "plt.plot(xc,zc)"
   ]
  },
  {
   "cell_type": "code",
   "execution_count": null,
   "metadata": {
    "collapsed": false
   },
   "outputs": [],
   "source": [
    "min(slopZ),max(slopZ)"
   ]
  },
  {
   "cell_type": "code",
   "execution_count": null,
   "metadata": {
    "collapsed": true
   },
   "outputs": [],
   "source": []
  }
 ],
 "metadata": {
  "kernelspec": {
   "display_name": "Python 2",
   "language": "python",
   "name": "python2"
  },
  "language_info": {
   "codemirror_mode": {
    "name": "ipython",
    "version": 2
   },
   "file_extension": ".py",
   "mimetype": "text/x-python",
   "name": "python",
   "nbconvert_exporter": "python",
   "pygments_lexer": "ipython2",
   "version": "2.7.6"
  }
 },
 "nbformat": 4,
 "nbformat_minor": 0
}
