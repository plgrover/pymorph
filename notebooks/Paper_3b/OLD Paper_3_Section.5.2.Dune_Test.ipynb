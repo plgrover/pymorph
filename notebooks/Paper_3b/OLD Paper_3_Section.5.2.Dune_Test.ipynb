{
 "cells": [
  {
   "cell_type": "code",
   "execution_count": 1,
   "metadata": {},
   "outputs": [],
   "source": [
    "import os,sys\n",
    "import csv\n",
    "import copy\n",
    "import math\n",
    "import collections\n",
    "import pandas as pd\n",
    "import matplotlib\n",
    "import matplotlib.pyplot as plt\n",
    "from clawpack import pyclaw\n",
    "from clawpack import riemann\n",
    "from IPython.display import HTML\n",
    "import numpy as np\n",
    "from scipy.integrate import simps, trapz\n",
    "from scipy.interpolate import interp1d\n",
    "from scipy import signal\n",
    "sys.path.append(\"/pymorph\")\n",
    "\n",
    "import logging\n",
    "logger = logging.getLogger('pyclaw')\n",
    "logger.setLevel(logging.CRITICAL)\n",
    "\n",
    "import morph_geom_lib as mgl\n",
    "#import models.shallow_depth_morph_models as sdmodels\n",
    "import models.shallow_depth_morph_models_org as sdmodels\n",
    "#import models.exner_models as exnermodels\n",
    "import schemes.avalanche_scheme \n",
    "import utils.post_processing as post\n",
    "\n",
    "from matplotlib.collections import LineCollection\n",
    "from mpl_toolkits.mplot3d import Axes3D\n",
    "\n",
    "from IPython.display import display, Math, Latex\n",
    "from matplotlib import animation, rc\n",
    "\n",
    "import schemes.weno as weno\n",
    "import sediment_transport.sed_trans as sedtrans\n",
    "from schemes.avalanche_scheme import avalanche_model, get_slope\n",
    "from models.shallow_water_solver import shallow_water_solver\n",
    "\n",
    "rc('animation', html='html5')\n",
    "%matplotlib widget\n",
    "%load_ext autoreload\n",
    "%autoreload 2\n",
    "%matplotlib inline\n",
    "plt.style.use(['default'])"
   ]
  },
  {
   "cell_type": "markdown",
   "metadata": {},
   "source": [
    "# Section 5.2\n",
    "\n",
    "Objective here is to run the Euler and TVD Euler schemes for dunes without any special treatment. \n",
    "\n",
    "This worksheet is based off work performed in: <code>Paper_3/2019-05-15 Model Runs on Dune 5-D50_large.ipynb</code>"
   ]
  },
  {
   "cell_type": "code",
   "execution_count": 2,
   "metadata": {},
   "outputs": [
    {
     "name": "stdout",
     "output_type": "stream",
     "text": [
      "dx: 0.6505421184320267 cm\n",
      "nx 1200\n"
     ]
    },
    {
     "data": {
      "text/plain": [
       "Text(0, 0.5, 'z (m)')"
      ]
     },
     "execution_count": 2,
     "metadata": {},
     "output_type": "execute_result"
    },
    {
     "data": {
      "image/png": "[encoded data removed]",
      "text/plain": [
       "<Figure size 1008x288 with 1 Axes>"
      ]
     },
     "metadata": {},
     "output_type": "display_data"
    }
   ],
   "source": [
    "filepath = '../Paper_3/dune_profile_dune5_repeated.txt'\n",
    "\n",
    "def is_number(s):\n",
    "    try:\n",
    "        float(s)\n",
    "        return True\n",
    "    except ValueError:\n",
    "        return False\n",
    "    \n",
    "\n",
    "\n",
    "def readFile(filepath, resolution_cells = 800):\n",
    "    xs = []\n",
    "    zs = []\n",
    "    with open(filepath) as f:\n",
    "        for line in f:\n",
    "            values = line.split(',')\n",
    "            if is_number(values[0]) and is_number(values[1]):\n",
    "                x = float(values[0])\n",
    "                z = float(values[1])\n",
    "                xs.append(x)\n",
    "                zs.append(z)\n",
    "                \n",
    "    xs = np.array(xs)\n",
    "    zs = np.array(zs)\n",
    "    \n",
    "    #--------------------------------\n",
    "    # Increase the resolution on the grid\n",
    "    #--------------------------------\n",
    "    xmax = xs.max()\n",
    "    nx = len(xs)\n",
    "    f = interp1d(xs, zs)\n",
    "    \n",
    "    xnew = np.linspace(0., xmax, num=resolution_cells)\n",
    "    znew = f(xnew)\n",
    "    return xnew, znew\n",
    "\n",
    "x0,z0 = readFile(filepath, resolution_cells = 1200)\n",
    "\n",
    "dx = x0[1] - x0[0]\n",
    "\n",
    "print('dx: {0} cm'.format(dx*100.))\n",
    "print('nx {0}'.format(len(x0)))\n",
    "\n",
    "fig = plt.figure(figsize=(14, 4))\n",
    "plt.plot(x0,z0, '.')\n",
    "plt.xlabel('x (m)')\n",
    "plt.ylabel('z (m)')"
   ]
  },
  {
   "cell_type": "markdown",
   "metadata": {},
   "source": [
    "# Model Runs for Paper\n",
    "\n",
    "- Equilibrium vs non-Equlibrium\n",
    "- Shallow water vs simple flow model\n",
    "- modified Ycr (+20%, -20%)\n",
    "- other models (Euler, Upwinding, MacCormick)"
   ]
  },
  {
   "cell_type": "code",
   "execution_count": 3,
   "metadata": {},
   "outputs": [],
   "source": [
    "#--------------------------------\n",
    "# Set up the bed properties\n",
    "#--------------------------------\n",
    "D50 = 0.001\n",
    "repose_angle = 30.\n",
    "rho_particle = 2650.\n",
    "nP = 0.4\n",
    "\n",
    "#--------------------------------\n",
    "# Set up the Boundary conditions\n",
    "#--------------------------------\n",
    "# 32 cm Case \n",
    "Qc132 = 0.0455\n",
    "Qc120 = 0.020\n",
    "B = 0.76\n",
    "Qtotal32 = Qc132 * 3.\n",
    "Qtotal20 = Qc120 * 3.\n",
    "q32cm = Qtotal32 / B\n",
    "q20cm = Qtotal20 / B\n",
    "\n",
    "# Water Surface Elevation\n",
    "sOut32 = 0.357\n",
    "sOut20 = 0.237\n",
    "\n",
    "#--------------------------------\n",
    "# Set up the Flow Proerties\n",
    "#--------------------------------\n",
    "mannings_n = 0.024\n",
    "bed_slope = 1.26/1000.\n",
    "ks=0.002\n",
    "\n"
   ]
  },
  {
   "cell_type": "markdown",
   "metadata": {},
   "source": [
    "## 20 cm Case Non-Equilibrium\n",
    "\n",
    "Note that I had to increase the resolution of the grid otherwise I was getting an odd error in the surface profile."
   ]
  },
  {
   "cell_type": "code",
   "execution_count": 4,
   "metadata": {},
   "outputs": [
    {
     "name": "stdout",
     "output_type": "stream",
     "text": [
      "Surface at outlet:        0.24 m\n",
      "Mean flow velocity:        0.43 m/s\n",
      "Density xs:  1200\n"
     ]
    },
    {
     "data": {
      "image/png": "[encoded data removed]",
      "text/plain": [
       "<Figure size 432x288 with 1 Axes>"
      ]
     },
     "metadata": {},
     "output_type": "display_data"
    },
    {
     "data": {
      "text/plain": [
       "<Figure size 1008x432 with 0 Axes>"
      ]
     },
     "metadata": {},
     "output_type": "display_data"
    }
   ],
   "source": [
    "#--------------------------------\n",
    "# Initalize the model\n",
    "#--------------------------------\n",
    "model = shallow_water_solver(kernel_language='Fortran')\n",
    "model.set_solver(max_steps=1000000)\n",
    "model.set_state_domain(x0, z0)\n",
    "model.set_chezy_source_term(ks = ks, slope = bed_slope)\n",
    "#model.set_mannings_source_term(mannings=0.022, slope=1/792.)\n",
    "\n",
    "model.set_Dirichlet_BC(sOut20, q20cm)\n",
    "model.set_inital_conditions(sOut20, 0.0)\n",
    "model.set_controller(tfinal = 300, num_output_times=1)\n",
    "model.run()\n",
    "\n",
    "h = model.get_hf()\n",
    "surf = h + z0\n",
    "\n",
    "plt.plot(x0, surf)\n",
    "plt.plot(x0, z0)\n",
    "\n",
    "fig = plt.figure(figsize=(14, 6))\n",
    "print('Surface at outlet: ', \"{:10.2f}\".format(surf[len(x0)-1]), 'm')\n",
    "print('Mean flow velocity: ', \"{:10.2f}\".format(model.get_uf().mean()), 'm/s')\n",
    "print('Density xs: ',len(x0))\n"
   ]
  },
  {
   "cell_type": "code",
   "execution_count": null,
   "metadata": {},
   "outputs": [
    {
     "name": "stdout",
     "output_type": "stream",
     "text": [
      " Starting simulation....\n",
      "Number of time steps: 720.0 mins\n",
      "Grid dx = 0.0065054211843202665\n",
      "Grid nx = 1200\n",
      "Initializing hydrodynamic model...\n",
      "Completed the intialization of the model\n",
      "D50:    0.001\n",
      "Rho Particle:    2650.0\n",
      "Angle Repose Degrees:    30.0\n",
      "Max qbedload = 0.0004966389741324336\n",
      "Time step: 5.0 mins - uavg: 0.43060439422816416 - Elevation 0.22978513975297687\n",
      "Courant number: max 0.015396861090041751, mean0.003774549836815888\n",
      "Time step: 10.0 mins - uavg: 0.4513565929417276 - Elevation 0.230531403780961\n",
      "Courant number: max 0.015676847063546506, mean0.004536234388802596\n"
     ]
    }
   ],
   "source": [
    "\n",
    "run_name = 'S5.2_dune_5_q_{0}_h_{1}_D50_{2}'.format('20cm','237mm','1.2mm')\n",
    "\n",
    "#--------------------------------\n",
    "#  Setup the model run parameters\n",
    "#--------------------------------\n",
    "simTime = 180*60       # Runtime in seconds\n",
    "dt = 0.25                # Time step size (s)\n",
    "nt = int(simTime/dt)  # Number of time steps\n",
    "extractionTime = 60.*5\n",
    "\n",
    "#--------------------------------\n",
    "#  Initialize the model\n",
    "#--------------------------------\n",
    "\n",
    "model = sdmodels.ShallowHydroMorphologicalModel()\n",
    "#--------------------------------\n",
    "# Set up the geometry\n",
    "#--------------------------------\n",
    "#x0 = xc.copy()\n",
    "zc = z0.copy()\n",
    "nx = len(x0)\n",
    "\n",
    "model.setup_domain(x0, z0, dx)\n",
    "model.setup_bed_properties( D50, repose_angle=repose_angle, rho_particle = rho_particle, nP = nP)\n",
    "model.flow_boundary_conditions(q20cm, sOut20)\n",
    "model.setup_chezy_hydro_model( ks, bed_slope)\n",
    "\n",
    "#--------------------------------\n",
    "# Set up the Morphodynamic Proerties\n",
    "#--------------------------------\n",
    "morph_model = sdmodels.TVD2ndWenoModel()\n",
    "\n",
    "model.setup_morpho_model( morph_model, \n",
    "                           useAvalanche = True, \n",
    "                           useSmoother = False)\n",
    "\n",
    "zc, u, q, h, qbedload = model.run(simTime, dt, extractionTime, None)\n"
   ]
  },
  {
   "cell_type": "code",
   "execution_count": null,
   "metadata": {},
   "outputs": [],
   "source": [
    "#h = model.get_hf()\n",
    "#surf = h + z0\n",
    "\n",
    "verts = model._verts\n",
    "np.save('_output/{0}_verts.npy'.format(run_name),verts)\n",
    "\n",
    "fig = plt.figure(figsize=(14, 4))\n",
    "plt.plot(x0,z0)\n",
    "plt.plot(x0,zc)\n",
    "plt.xlabel('x (m)')\n",
    "plt.ylabel('z (m)')"
   ]
  },
  {
   "cell_type": "markdown",
   "metadata": {},
   "source": [
    "## 32 cm flow case"
   ]
  },
  {
   "cell_type": "code",
   "execution_count": null,
   "metadata": {},
   "outputs": [],
   "source": [
    "#--------------------------------\n",
    "# Initalize the model\n",
    "#--------------------------------\n",
    "model = shallow_water_solver(kernel_language='Fortran')\n",
    "model.set_solver(max_steps=1000000)\n",
    "model.set_state_domain(x0, z0)\n",
    "model.set_chezy_source_term(ks = ks, slope = bed_slope)\n",
    "#model.set_mannings_source_term(mannings=0.022, slope=1/792.)\n",
    "\n",
    "model.set_Dirichlet_BC(sOut32, q32cm)\n",
    "model.set_inital_conditions(sOut32, 0.0)\n",
    "model.set_controller(tfinal = 300, num_output_times=1)\n",
    "model.run()\n",
    "\n",
    "h = model.get_hf()\n",
    "surf = h + z0\n",
    "\n",
    "plt.plot(x0, surf)\n",
    "plt.plot(x0, z0)\n",
    "\n",
    "fig = plt.figure(figsize=(14, 6))\n",
    "print('Surface at outlet: ', \"{:10.2f}\".format(surf[len(x0)-1]), 'm')\n",
    "print('Mean flow velocity: ', \"{:10.2f}\".format(model.get_uf().mean()), 'm/s')"
   ]
  },
  {
   "cell_type": "code",
   "execution_count": null,
   "metadata": {},
   "outputs": [],
   "source": [
    "run_name = 'dune_5_q_{0}_h_{1}_D50_{2}'.format('32cm','357mm','1.0mm')\n",
    "\n",
    "\n",
    "#--------------------------------\n",
    "#  Setup the model run parameters\n",
    "#--------------------------------\n",
    "simTime = 180*60       # Runtime in seconds\n",
    "dt = 0.25                # Time step size (s)\n",
    "nt = int(simTime/dt)  # Number of time steps\n",
    "extractionTime = 60.*5\n",
    "\n",
    "\n",
    "model = sdmodels.ShallowHydroMorphologicalModel()\n",
    "#--------------------------------\n",
    "# Set up the geometry\n",
    "#--------------------------------\n",
    "#x0 = xc.copy()\n",
    "zc = z0.copy()\n",
    "nx = len(x0)\n",
    "\n",
    "model.setup_domain(x0, z0, dx)\n",
    "model.setup_bed_properties( D50, repose_angle=repose_angle, rho_particle = rho_particle, nP = nP)\n",
    "model.flow_boundary_conditions(q32cm, sOut32)\n",
    "model.setup_chezy_hydro_model( ks, bed_slope)\n",
    "\n",
    "#--------------------------------\n",
    "# Set up the Morphodynamic Proerties\n",
    "#--------------------------------\n",
    "morph_model = sdmodels.TVD2ndWenoModel()\n",
    "\n",
    "model.setup_morpho_model( morph_model, \n",
    "                           useAvalanche = True, \n",
    "                           useSmoother = False)\n",
    "\n",
    "zc, u, q, h, qbedload = model.run(simTime, dt, extractionTime, None)"
   ]
  },
  {
   "cell_type": "code",
   "execution_count": null,
   "metadata": {},
   "outputs": [],
   "source": [
    "print(run_name)"
   ]
  },
  {
   "cell_type": "code",
   "execution_count": null,
   "metadata": {},
   "outputs": [],
   "source": [
    "verts = model._verts\n",
    "np.save('_output/{0}_verts.npy'.format(run_name),verts)\n",
    "\n",
    "fig = plt.figure(figsize=(14, 4))\n",
    "plt.plot(x0,z0)\n",
    "plt.plot(x0,zc)\n",
    "plt.xlabel('x (m)')\n",
    "plt.ylabel('z (m)')"
   ]
  },
  {
   "cell_type": "code",
   "execution_count": null,
   "metadata": {},
   "outputs": [],
   "source": []
  },
  {
   "cell_type": "code",
   "execution_count": null,
   "metadata": {},
   "outputs": [],
   "source": []
  }
 ],
 "metadata": {
  "kernelspec": {
   "display_name": "Python 3",
   "language": "python",
   "name": "python3"
  },
  "language_info": {
   "codemirror_mode": {
    "name": "ipython",
    "version": 3
   },
   "file_extension": ".py",
   "mimetype": "text/x-python",
   "name": "python",
   "nbconvert_exporter": "python",
   "pygments_lexer": "ipython3",
   "version": "3.6.8"
  }
 },
 "nbformat": 4,
 "nbformat_minor": 2
}
