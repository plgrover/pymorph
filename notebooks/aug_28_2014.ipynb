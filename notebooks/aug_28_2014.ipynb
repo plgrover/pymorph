{
 "metadata": {
  "name": "aug_28_2014.ipynb"
 },
 "nbformat": 3,
 "nbformat_minor": 0,
 "worksheets": [
  {
   "cells": [
    {
     "cell_type": "heading",
     "level": 1,
     "metadata": {},
     "source": [
      "August 28, 2014"
     ]
    },
    {
     "cell_type": "code",
     "collapsed": false,
     "input": [
      "import pyodbc\n",
      "\n",
      "DBfile = r'C:\\\\Users\\\\pgrover\\\\Dropbox\\\\BGC\\\\sql\\\\sample.mdb'\n",
      "#conn = pyodbc.connect(r'Driver={Microsoft Access Driver (*.mdb)};DBQ='+DBfile)\n",
      "#use below conn if using with Access 2007, 2010 .accdb file\n",
      "conn = pyodbc.connect(r'Driver={Microsoft Access Driver (*.mdb, *.accdb)};DBQ='+DBfile)\n",
      "cursor = conn.cursor()\n",
      "\n",
      "SQL = 'SELECT Node From Node;'\n",
      "for row in cursor.execute(SQL): # cursors are iterable\n",
      "    print( row.Node )\n",
      "    # print row # if print row it will return tuple of all fields\n",
      "\n",
      "cursor.close()\n",
      "conn.close()\n"
     ],
     "language": "python",
     "metadata": {},
     "outputs": [
      {
       "ename": "ImportError",
       "evalue": "No module named pyodbc",
       "output_type": "pyerr",
       "traceback": [
        "\u001b[1;31m---------------------------------------------------------------------------\u001b[0m\n\u001b[1;31mImportError\u001b[0m                               Traceback (most recent call last)",
        "\u001b[1;32m<ipython-input-2-e535f9b5e7d0>\u001b[0m in \u001b[0;36m<module>\u001b[1;34m()\u001b[0m\n\u001b[1;32m----> 1\u001b[1;33m \u001b[1;32mimport\u001b[0m \u001b[0mpyodbc\u001b[0m\u001b[1;33m\u001b[0m\u001b[0m\n\u001b[0m\u001b[0;32m      2\u001b[0m \u001b[1;33m\u001b[0m\u001b[0m\n\u001b[0;32m      3\u001b[0m \u001b[0mDBfile\u001b[0m \u001b[1;33m=\u001b[0m \u001b[1;34mr'C:\\\\Users\\\\pgrover\\\\Dropbox\\\\BGC\\\\sql\\\\sample.mdb'\u001b[0m\u001b[1;33m\u001b[0m\u001b[0m\n\u001b[0;32m      4\u001b[0m \u001b[1;31m#conn = pyodbc.connect(r'Driver={Microsoft Access Driver (*.mdb)};DBQ='+DBfile)\u001b[0m\u001b[1;33m\u001b[0m\u001b[1;33m\u001b[0m\u001b[0m\n\u001b[0;32m      5\u001b[0m \u001b[1;31m#use below conn if using with Access 2007, 2010 .accdb file\u001b[0m\u001b[1;33m\u001b[0m\u001b[1;33m\u001b[0m\u001b[0m\n",
        "\u001b[1;31mImportError\u001b[0m: No module named pyodbc"
       ]
      }
     ],
     "prompt_number": 2
    },
    {
     "cell_type": "code",
     "collapsed": false,
     "input": [],
     "language": "python",
     "metadata": {},
     "outputs": []
    }
   ],
   "metadata": {}
  }
 ]
}