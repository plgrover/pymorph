{
 "cells": [
  {
   "cell_type": "code",
   "execution_count": 1,
   "metadata": {
    "collapsed": false
   },
   "outputs": [],
   "source": [
    "import os,sys\n",
    "import csv\n",
    "import copy\n",
    "import math\n",
    "\n",
    "from IPython.display import Math\n",
    "from IPython.display import Latex\n",
    "import numpy as np\n",
    "import matplotlib.pyplot as plt\n",
    "import matplotlib.pylab as pylab\n",
    "from clawpack import pyclaw\n",
    "\n",
    "from scipy.integrate import simps, trapz\n",
    "\n",
    "sys.path.append(\"/home/pgrover/Dropbox/PhD/Morphodynamic_Model/pymorph\")\n",
    "from weno import WENO,ENO\n",
    "from weno import get_stencil\n",
    "from avalanche_scheme import *\n",
    "\n",
    "%matplotlib inline\n",
    "%load_ext autoreload\n",
    "%autoreload 2"
   ]
  },
  {
   "cell_type": "code",
   "execution_count": 2,
   "metadata": {
    "collapsed": false
   },
   "outputs": [],
   "source": [
    "nx=100\n",
    "x = pyclaw.Dimension(0.0,25.0,nx,name='x')\n",
    "domain = pyclaw.Domain(x)\n",
    "state = pyclaw.State(domain,1)\n",
    "xc = state.grid.x.centers\n",
    "dx = state.grid.delta[0]\n",
    "\n"
   ]
  },
  {
   "cell_type": "code",
   "execution_count": 4,
   "metadata": {
    "collapsed": false
   },
   "outputs": [
    {
     "ename": "TypeError",
     "evalue": "get_area_polygon() takes exactly 2 arguments (3 given)",
     "output_type": "error",
     "traceback": [
      "\u001b[1;31m---------------------------------------------------------------------------\u001b[0m",
      "\u001b[1;31mTypeError\u001b[0m                                 Traceback (most recent call last)",
      "\u001b[1;32m<ipython-input-4-d64b4b5cab94>\u001b[0m in \u001b[0;36m<module>\u001b[1;34m()\u001b[0m\n\u001b[0;32m     26\u001b[0m             \u001b[0mxloc\u001b[0m \u001b[1;33m=\u001b[0m \u001b[0mget_stencil\u001b[0m\u001b[1;33m(\u001b[0m\u001b[0mxc\u001b[0m\u001b[1;33m,\u001b[0m\u001b[0mi\u001b[0m\u001b[1;33m-\u001b[0m\u001b[1;36m1\u001b[0m\u001b[1;33m,\u001b[0m\u001b[0mi\u001b[0m\u001b[1;33m+\u001b[0m\u001b[1;36m2\u001b[0m\u001b[1;33m)\u001b[0m\u001b[1;33m\u001b[0m\u001b[0m\n\u001b[0;32m     27\u001b[0m             \u001b[0mzloc\u001b[0m \u001b[1;33m=\u001b[0m \u001b[0mget_stencil\u001b[0m\u001b[1;33m(\u001b[0m\u001b[0mz\u001b[0m\u001b[1;33m,\u001b[0m\u001b[0mi\u001b[0m\u001b[1;33m-\u001b[0m\u001b[1;36m1\u001b[0m\u001b[1;33m,\u001b[0m\u001b[0mi\u001b[0m\u001b[1;33m+\u001b[0m\u001b[1;36m2\u001b[0m\u001b[1;33m)\u001b[0m\u001b[1;33m\u001b[0m\u001b[0m\n\u001b[1;32m---> 28\u001b[1;33m             \u001b[0marea_old\u001b[0m \u001b[1;33m=\u001b[0m \u001b[0mget_area_polygon\u001b[0m\u001b[1;33m(\u001b[0m\u001b[0mdx\u001b[0m\u001b[1;33m,\u001b[0m \u001b[0mxloc\u001b[0m\u001b[1;33m,\u001b[0m \u001b[0mzloc\u001b[0m\u001b[1;33m)\u001b[0m\u001b[1;33m\u001b[0m\u001b[0m\n\u001b[0m\u001b[0;32m     29\u001b[0m \u001b[1;33m\u001b[0m\u001b[0m\n\u001b[0;32m     30\u001b[0m             \u001b[0mdz\u001b[0m \u001b[1;33m=\u001b[0m \u001b[0madjustment_to_target\u001b[0m\u001b[1;33m(\u001b[0m\u001b[0mdx\u001b[0m\u001b[1;33m,\u001b[0m\u001b[0mzloc\u001b[0m\u001b[1;33m)\u001b[0m\u001b[1;33m\u001b[0m\u001b[0m\n",
      "\u001b[1;31mTypeError\u001b[0m: get_area_polygon() takes exactly 2 arguments (3 given)"
     ]
    }
   ],
   "source": [
    "z = np.zeros(nx)\n",
    "for i in range(nx):\n",
    "    if i < 50:\n",
    "        z[i] = 4\n",
    "    else:\n",
    "        z[i]= 1\n",
    "\n",
    "z_new = z.copy()\n",
    "z_inital = z.copy()\n",
    "\n",
    "bed_changed = True\n",
    "max_iter = 100\n",
    "iteration = 1\n",
    "\n",
    "while bed_changed == True and iteration < max_iter:\n",
    "    bed_changed = False\n",
    "    iteration +=1\n",
    "    for i in range(len(xc)):\n",
    "        zloc = get_stencil(z,i,i+2)\n",
    "        slope =get_slope(dx, zloc)\n",
    "        \n",
    "        factor = 0.1\n",
    "        check_adjustment = True\n",
    "        if slope < -30.0:\n",
    "            #print('Checking slope for i={0} slope={1}'.format(i,slope))\n",
    "            xloc = get_stencil(xc,i-1,i+2)\n",
    "            zloc = get_stencil(z,i-1,i+2)        \n",
    "            area_old = get_area_polygon(dx, xloc, zloc)\n",
    "\n",
    "            dz = adjustment_to_target(dx,zloc)\n",
    "            \n",
    "            if iteration < 75:\n",
    "                z_new[i]-=dz * factor\n",
    "            else:\n",
    "                z_new[i]-=dz * 0.75\n",
    "\n",
    "            zloc_new = get_stencil(z_new,i-1,i+2)          \n",
    "            area_new = get_area_polygon(dx, xloc, zloc_new)\n",
    "            del_area = area_old - area_new\n",
    "\n",
    "            #print('Old area: {0}, New area: {1}'.format(area_old,area_new))\n",
    "            #print('Difference in area: {0}'.format(del_area))\n",
    "\n",
    "            # move downstream\n",
    "            xloc_p1 = get_stencil(xc,i,i+3)\n",
    "            zloc_p1 = get_stencil(z,i,i+3)\n",
    "            \n",
    "            print('i={0}, del_area:{1}'.format(i,del_area))\n",
    "            if del_area > 0:\n",
    "                new_z = adjust_bed(dx,xloc_p1,zloc_p1,del_area)\n",
    "                z_new[i+1] = new_z\n",
    "            bed_changed = True\n",
    "\n",
    "        z = z_new.copy()\n",
    "\n",
    "area_old = trapz(z_inital, dx=dx)\n",
    "area_new = trapz(z, dx=dx)     \n",
    "print('Completed after {0} iterations'.format(iteration))\n",
    "print(area_old,area_new)"
   ]
  },
  {
   "cell_type": "code",
   "execution_count": 4,
   "metadata": {
    "collapsed": false
   },
   "outputs": [
    {
     "data": {
      "text/plain": [
       "(0, 5)"
      ]
     },
     "execution_count": 4,
     "metadata": {},
     "output_type": "execute_result"
    },
    {
     "data": {
      "image/png": "[encoded data removed]",
      "text/plain": [
       "<matplotlib.figure.Figure at 0x7f64e4e76310>"
      ]
     },
     "metadata": {},
     "output_type": "display_data"
    }
   ],
   "source": [
    "fig = plt.figure(figsize=(16, 4))\n",
    "ax1 = fig.add_subplot(111)\n",
    "\n",
    "plt.plot(xc, z_inital,'r')\n",
    "plt.plot(xc, z_new,'b')\n",
    "plt.ylim([0,5])"
   ]
  },
  {
   "cell_type": "code",
   "execution_count": 5,
   "metadata": {
    "collapsed": false
   },
   "outputs": [
    {
     "name": "stdout",
     "output_type": "stream",
     "text": [
      "0.0\n",
      "0.0\n",
      "0.0\n",
      "0.0\n",
      "0.0\n",
      "0.0\n",
      "0.0\n",
      "0.0\n",
      "0.0\n",
      "0.0\n",
      "0.0\n",
      "0.0\n",
      "0.0\n",
      "0.0\n",
      "0.0\n",
      "0.0\n",
      "0.0\n",
      "0.0\n",
      "0.0\n",
      "0.0\n",
      "0.0\n",
      "0.0\n",
      "0.0\n",
      "0.0\n",
      "0.0\n",
      "0.0\n",
      "0.0\n",
      "0.0\n",
      "0.0\n",
      "0.0\n",
      "0.0\n",
      "0.0\n",
      "0.0\n",
      "0.0\n",
      "0.0\n",
      "0.0\n",
      "0.0\n",
      "0.0\n",
      "0.0\n",
      "0.0\n",
      "0.0\n",
      "0.0\n",
      "0.0\n",
      "0.0\n",
      "0.0\n",
      "0.0\n",
      "0.0\n",
      "0.0\n",
      "0.0\n",
      "-85.2363583093\n",
      "0.0\n",
      "0.0\n",
      "0.0\n",
      "0.0\n",
      "0.0\n",
      "0.0\n",
      "0.0\n",
      "0.0\n",
      "0.0\n",
      "0.0\n",
      "0.0\n",
      "0.0\n",
      "0.0\n",
      "0.0\n",
      "0.0\n",
      "0.0\n",
      "0.0\n",
      "0.0\n",
      "0.0\n",
      "0.0\n",
      "0.0\n",
      "0.0\n",
      "0.0\n",
      "0.0\n",
      "0.0\n",
      "0.0\n",
      "0.0\n",
      "0.0\n",
      "0.0\n",
      "0.0\n",
      "0.0\n",
      "0.0\n",
      "0.0\n",
      "0.0\n",
      "0.0\n",
      "0.0\n",
      "0.0\n",
      "0.0\n",
      "0.0\n",
      "0.0\n",
      "0.0\n",
      "0.0\n",
      "0.0\n",
      "0.0\n",
      "0.0\n",
      "0.0\n",
      "0.0\n",
      "0.0\n",
      "0.0\n",
      "85.2363583093\n"
     ]
    }
   ],
   "source": [
    "for i in range(len(xc)):\n",
    "    zloc = get_stencil(z_new,i,i+2)\n",
    "    slope =get_slope(dx, zloc)\n",
    "    print slope"
   ]
  },
  {
   "cell_type": "code",
   "execution_count": 6,
   "metadata": {
    "collapsed": false
   },
   "outputs": [
    {
     "name": "stdout",
     "output_type": "stream",
     "text": [
      "Area old: 61.125 Area new: 61.1231920227 Iterations: 91\n"
     ]
    }
   ],
   "source": [
    "z = np.zeros(nx)\n",
    "for i in range(nx):\n",
    "    if i < 100 and i > 50:\n",
    "        z[i] = 4\n",
    "    else:\n",
    "        z[i]= 1\n",
    "\n",
    "z_updated,iterations = avalanche_model(dx,xc,z)\n",
    "\n",
    "area_old = trapz(z, dx=dx)\n",
    "area_new = trapz(z_updated, dx=dx)  \n",
    "\n",
    "print('Area old: {0} Area new: {1} Iterations: {2}'.format(area_old,area_new,iterations))"
   ]
  },
  {
   "cell_type": "code",
   "execution_count": 7,
   "metadata": {
    "collapsed": false
   },
   "outputs": [
    {
     "data": {
      "text/plain": [
       "(0, 5)"
      ]
     },
     "execution_count": 7,
     "metadata": {},
     "output_type": "execute_result"
    },
    {
     "data": {
      "image/png": "[encoded data removed]",
      "text/plain": [
       "<matplotlib.figure.Figure at 0x7f64c1921310>"
      ]
     },
     "metadata": {},
     "output_type": "display_data"
    }
   ],
   "source": [
    "fig = plt.figure(figsize=(16, 4))\n",
    "ax1 = fig.add_subplot(111)\n",
    "\n",
    "plt.plot(xc, z,'r')\n",
    "plt.plot(xc, z_updated,'b')\n",
    "plt.ylim([0,5])"
   ]
  },
  {
   "cell_type": "code",
   "execution_count": 8,
   "metadata": {
    "collapsed": false
   },
   "outputs": [
    {
     "data": {
      "text/plain": [
       "100"
      ]
     },
     "execution_count": 8,
     "metadata": {},
     "output_type": "execute_result"
    }
   ],
   "source": [
    "len(z)"
   ]
  },
  {
   "cell_type": "code",
   "execution_count": null,
   "metadata": {
    "collapsed": true
   },
   "outputs": [],
   "source": []
  },
  {
   "cell_type": "code",
   "execution_count": null,
   "metadata": {
    "collapsed": true
   },
   "outputs": [],
   "source": []
  }
 ],
 "metadata": {
  "kernelspec": {
   "display_name": "Python 2",
   "language": "python",
   "name": "python2"
  },
  "language_info": {
   "codemirror_mode": {
    "name": "ipython",
    "version": 2
   },
   "file_extension": ".py",
   "mimetype": "text/x-python",
   "name": "python",
   "nbconvert_exporter": "python",
   "pygments_lexer": "ipython2",
   "version": "2.7.8"
  }
 },
 "nbformat": 4,
 "nbformat_minor": 0
}
